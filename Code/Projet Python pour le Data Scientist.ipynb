{
 "cells": [
  {
   "cell_type": "markdown",
   "metadata": {},
   "source": [
    "# En France, le député assidu présente-t-il un profil type ? \n",
    "\n",
    "Alors que la société française se caractérise par une grande défiance de la population vis-à-vis de ses élus et responsables politiques, nous nous pencherons dans ce projet sur la question de l'assiduité des députés au cours de leur mandat. Nous verrons notamment grâce à différents outils (boîtes de Tukey, matrice de nuages de points, analyse en composantes principales, clustering, régression linéaire...) si l'on peut dresser un portrait type pour caractériser le député assidu ou absentéiste. "
   ]
  },
  {
   "cell_type": "code",
   "execution_count": 1,
   "metadata": {},
   "outputs": [],
   "source": [
    "%matplotlib widget\n",
    "\n",
    "import csv\n",
    "import numpy as np\n",
    "import pandas as pd\n",
    "import matplotlib.pyplot as plt\n",
    "import mpl_toolkits.mplot3d as plt3d\n",
    "import seaborn as sns"
   ]
  },
  {
   "cell_type": "markdown",
   "metadata": {},
   "source": [
    "## I. Récupération et préparation des données\n",
    "\n",
    "### 1. Importation des données\n",
    "\n",
    "#### 1.1 Récupération de la base de données principale\n",
    "\n",
    "On récupère sur le site citoyen nosdeputes.fr une base de données synthétisant l'activité parlementaire sur les 12 derniers mois. Pour chaque député, cette table, que nous avons convertie au format .tsv, contient des informations relatives à son état civil, à la circonscription dont il est le représentant, à son éventuel parti politique et surtout à son travail parlementaire (semaines de présence à l'Assemblée nationale, rédaction de rapports, participation à des commissions...)."
   ]
  },
  {
   "cell_type": "code",
   "execution_count": 2,
   "metadata": {},
   "outputs": [
    {
     "output_type": "execute_result",
     "data": {
      "text/plain": [
       "      id                   nom nom_de_famille      prenom sexe date_naissance  \\\n",
       "0     32           Damien Abad           Abad      Damien    H     1980-04-05   \n",
       "1     43       Caroline Abadie         Abadie    Caroline    F     1976-09-07   \n",
       "2    493  Jean-Félix Acquaviva      Acquaviva  Jean-Félix    H     1973-03-19   \n",
       "3    152          Lénaïck Adam           Adam     Lénaïck    H     1992-02-19   \n",
       "4    234           Damien Adam           Adam      Damien    H     1989-06-28   \n",
       "..   ...                   ...            ...         ...  ...            ...   \n",
       "534   26        Martine Wonner         Wonner     Martine    F     1964-03-27   \n",
       "535  215       Hubert Wulfranc       Wulfranc      Hubert    H     1956-12-17   \n",
       "536  130        Hélène Zannier        Zannier      Hélène    F     1972-09-19   \n",
       "537   31      Jean-Marc Zulesi         Zulesi   Jean-Marc    H     1988-06-06   \n",
       "538  329      Michel Zumkeller      Zumkeller      Michel    H     1966-01-21   \n",
       "\n",
       "                       lieu_naissance num_deptmt              nom_circo  \\\n",
       "0                        Nîmes (Gard)         01                    Ain   \n",
       "1        Saint-Martin-d'Hères (Isère)         38                  Isère   \n",
       "2                Bastia (Haute-Corse)         2B            Haute-Corse   \n",
       "3    Saint Laurent du Maroni (Guyane)        973                 Guyane   \n",
       "4                    Orléans (Loiret)         76         Seine-Maritime   \n",
       "..                                ...        ...                    ...   \n",
       "534                 Hayange (Moselle)         67               Bas-Rhin   \n",
       "535            Rouen (Seine-Maritime)         76         Seine-Maritime   \n",
       "536             Saint-Avold (Moselle)         57                Moselle   \n",
       "537      Marseille (Bouches-du-Rhône)         13       Bouches-du-Rhône   \n",
       "538   Belfort (Territoire de Belfort)         90  Territoire de Belfort   \n",
       "\n",
       "     num_circo  ... hemicycle_interventions  hemicycle_interventions_courtes  \\\n",
       "0            5  ...                     253                              307   \n",
       "1            8  ...                      17                                8   \n",
       "2            2  ...                     109                                9   \n",
       "3            2  ...                       3                                0   \n",
       "4            1  ...                      24                                7   \n",
       "..         ...  ...                     ...                              ...   \n",
       "534          4  ...                      61                                6   \n",
       "535          3  ...                     211                              143   \n",
       "536          7  ...                       9                                3   \n",
       "537          8  ...                      40                               37   \n",
       "538          2  ...                      39                               11   \n",
       "\n",
       "     amendements_proposes amendements_signes amendements_adoptes rapports  \\\n",
       "0                      19               1736                  63        0   \n",
       "1                      14                362                 196        0   \n",
       "2                     186               2309                  89        0   \n",
       "3                      15                581                 175        0   \n",
       "4                      74                687                 225        0   \n",
       "..                    ...                ...                 ...      ...   \n",
       "534                   249               1581                 157        0   \n",
       "535                   895               2776                  70        0   \n",
       "536                    25                475                 214        0   \n",
       "537                   105               1111                 279        0   \n",
       "538                    18               1603                  61        0   \n",
       "\n",
       "     propositions_ecrites  propositions_signees questions_ecrites  \\\n",
       "0                       0                    25                38   \n",
       "1                       0                     3                 3   \n",
       "2                       0                     4                22   \n",
       "3                       0                     4                 1   \n",
       "4                       0                     4                10   \n",
       "..                    ...                   ...               ...   \n",
       "534                     0                     3                14   \n",
       "535                     0                     8                35   \n",
       "536                     0                     4                12   \n",
       "537                     0                     4                52   \n",
       "538                     0                     3                15   \n",
       "\n",
       "     questions_orales  \n",
       "0                   9  \n",
       "1                   0  \n",
       "2                   3  \n",
       "3                   0  \n",
       "4                   2  \n",
       "..                ...  \n",
       "534                 3  \n",
       "535                16  \n",
       "536                 0  \n",
       "537                 4  \n",
       "538                 4  \n",
       "\n",
       "[539 rows x 40 columns]"
      ],
      "text/html": "<div>\n<style scoped>\n    .dataframe tbody tr th:only-of-type {\n        vertical-align: middle;\n    }\n\n    .dataframe tbody tr th {\n        vertical-align: top;\n    }\n\n    .dataframe thead th {\n        text-align: right;\n    }\n</style>\n<table border=\"1\" class=\"dataframe\">\n  <thead>\n    <tr style=\"text-align: right;\">\n      <th></th>\n      <th>id</th>\n      <th>nom</th>\n      <th>nom_de_famille</th>\n      <th>prenom</th>\n      <th>sexe</th>\n      <th>date_naissance</th>\n      <th>lieu_naissance</th>\n      <th>num_deptmt</th>\n      <th>nom_circo</th>\n      <th>num_circo</th>\n      <th>...</th>\n      <th>hemicycle_interventions</th>\n      <th>hemicycle_interventions_courtes</th>\n      <th>amendements_proposes</th>\n      <th>amendements_signes</th>\n      <th>amendements_adoptes</th>\n      <th>rapports</th>\n      <th>propositions_ecrites</th>\n      <th>propositions_signees</th>\n      <th>questions_ecrites</th>\n      <th>questions_orales</th>\n    </tr>\n  </thead>\n  <tbody>\n    <tr>\n      <th>0</th>\n      <td>32</td>\n      <td>Damien Abad</td>\n      <td>Abad</td>\n      <td>Damien</td>\n      <td>H</td>\n      <td>1980-04-05</td>\n      <td>Nîmes (Gard)</td>\n      <td>01</td>\n      <td>Ain</td>\n      <td>5</td>\n      <td>...</td>\n      <td>253</td>\n      <td>307</td>\n      <td>19</td>\n      <td>1736</td>\n      <td>63</td>\n      <td>0</td>\n      <td>0</td>\n      <td>25</td>\n      <td>38</td>\n      <td>9</td>\n    </tr>\n    <tr>\n      <th>1</th>\n      <td>43</td>\n      <td>Caroline Abadie</td>\n      <td>Abadie</td>\n      <td>Caroline</td>\n      <td>F</td>\n      <td>1976-09-07</td>\n      <td>Saint-Martin-d'Hères (Isère)</td>\n      <td>38</td>\n      <td>Isère</td>\n      <td>8</td>\n      <td>...</td>\n      <td>17</td>\n      <td>8</td>\n      <td>14</td>\n      <td>362</td>\n      <td>196</td>\n      <td>0</td>\n      <td>0</td>\n      <td>3</td>\n      <td>3</td>\n      <td>0</td>\n    </tr>\n    <tr>\n      <th>2</th>\n      <td>493</td>\n      <td>Jean-Félix Acquaviva</td>\n      <td>Acquaviva</td>\n      <td>Jean-Félix</td>\n      <td>H</td>\n      <td>1973-03-19</td>\n      <td>Bastia (Haute-Corse)</td>\n      <td>2B</td>\n      <td>Haute-Corse</td>\n      <td>2</td>\n      <td>...</td>\n      <td>109</td>\n      <td>9</td>\n      <td>186</td>\n      <td>2309</td>\n      <td>89</td>\n      <td>0</td>\n      <td>0</td>\n      <td>4</td>\n      <td>22</td>\n      <td>3</td>\n    </tr>\n    <tr>\n      <th>3</th>\n      <td>152</td>\n      <td>Lénaïck Adam</td>\n      <td>Adam</td>\n      <td>Lénaïck</td>\n      <td>H</td>\n      <td>1992-02-19</td>\n      <td>Saint Laurent du Maroni (Guyane)</td>\n      <td>973</td>\n      <td>Guyane</td>\n      <td>2</td>\n      <td>...</td>\n      <td>3</td>\n      <td>0</td>\n      <td>15</td>\n      <td>581</td>\n      <td>175</td>\n      <td>0</td>\n      <td>0</td>\n      <td>4</td>\n      <td>1</td>\n      <td>0</td>\n    </tr>\n    <tr>\n      <th>4</th>\n      <td>234</td>\n      <td>Damien Adam</td>\n      <td>Adam</td>\n      <td>Damien</td>\n      <td>H</td>\n      <td>1989-06-28</td>\n      <td>Orléans (Loiret)</td>\n      <td>76</td>\n      <td>Seine-Maritime</td>\n      <td>1</td>\n      <td>...</td>\n      <td>24</td>\n      <td>7</td>\n      <td>74</td>\n      <td>687</td>\n      <td>225</td>\n      <td>0</td>\n      <td>0</td>\n      <td>4</td>\n      <td>10</td>\n      <td>2</td>\n    </tr>\n    <tr>\n      <th>...</th>\n      <td>...</td>\n      <td>...</td>\n      <td>...</td>\n      <td>...</td>\n      <td>...</td>\n      <td>...</td>\n      <td>...</td>\n      <td>...</td>\n      <td>...</td>\n      <td>...</td>\n      <td>...</td>\n      <td>...</td>\n      <td>...</td>\n      <td>...</td>\n      <td>...</td>\n      <td>...</td>\n      <td>...</td>\n      <td>...</td>\n      <td>...</td>\n      <td>...</td>\n      <td>...</td>\n    </tr>\n    <tr>\n      <th>534</th>\n      <td>26</td>\n      <td>Martine Wonner</td>\n      <td>Wonner</td>\n      <td>Martine</td>\n      <td>F</td>\n      <td>1964-03-27</td>\n      <td>Hayange (Moselle)</td>\n      <td>67</td>\n      <td>Bas-Rhin</td>\n      <td>4</td>\n      <td>...</td>\n      <td>61</td>\n      <td>6</td>\n      <td>249</td>\n      <td>1581</td>\n      <td>157</td>\n      <td>0</td>\n      <td>0</td>\n      <td>3</td>\n      <td>14</td>\n      <td>3</td>\n    </tr>\n    <tr>\n      <th>535</th>\n      <td>215</td>\n      <td>Hubert Wulfranc</td>\n      <td>Wulfranc</td>\n      <td>Hubert</td>\n      <td>H</td>\n      <td>1956-12-17</td>\n      <td>Rouen (Seine-Maritime)</td>\n      <td>76</td>\n      <td>Seine-Maritime</td>\n      <td>3</td>\n      <td>...</td>\n      <td>211</td>\n      <td>143</td>\n      <td>895</td>\n      <td>2776</td>\n      <td>70</td>\n      <td>0</td>\n      <td>0</td>\n      <td>8</td>\n      <td>35</td>\n      <td>16</td>\n    </tr>\n    <tr>\n      <th>536</th>\n      <td>130</td>\n      <td>Hélène Zannier</td>\n      <td>Zannier</td>\n      <td>Hélène</td>\n      <td>F</td>\n      <td>1972-09-19</td>\n      <td>Saint-Avold (Moselle)</td>\n      <td>57</td>\n      <td>Moselle</td>\n      <td>7</td>\n      <td>...</td>\n      <td>9</td>\n      <td>3</td>\n      <td>25</td>\n      <td>475</td>\n      <td>214</td>\n      <td>0</td>\n      <td>0</td>\n      <td>4</td>\n      <td>12</td>\n      <td>0</td>\n    </tr>\n    <tr>\n      <th>537</th>\n      <td>31</td>\n      <td>Jean-Marc Zulesi</td>\n      <td>Zulesi</td>\n      <td>Jean-Marc</td>\n      <td>H</td>\n      <td>1988-06-06</td>\n      <td>Marseille (Bouches-du-Rhône)</td>\n      <td>13</td>\n      <td>Bouches-du-Rhône</td>\n      <td>8</td>\n      <td>...</td>\n      <td>40</td>\n      <td>37</td>\n      <td>105</td>\n      <td>1111</td>\n      <td>279</td>\n      <td>0</td>\n      <td>0</td>\n      <td>4</td>\n      <td>52</td>\n      <td>4</td>\n    </tr>\n    <tr>\n      <th>538</th>\n      <td>329</td>\n      <td>Michel Zumkeller</td>\n      <td>Zumkeller</td>\n      <td>Michel</td>\n      <td>H</td>\n      <td>1966-01-21</td>\n      <td>Belfort (Territoire de Belfort)</td>\n      <td>90</td>\n      <td>Territoire de Belfort</td>\n      <td>2</td>\n      <td>...</td>\n      <td>39</td>\n      <td>11</td>\n      <td>18</td>\n      <td>1603</td>\n      <td>61</td>\n      <td>0</td>\n      <td>0</td>\n      <td>3</td>\n      <td>15</td>\n      <td>4</td>\n    </tr>\n  </tbody>\n</table>\n<p>539 rows × 40 columns</p>\n</div>"
     },
     "metadata": {},
     "execution_count": 2
    }
   ],
   "source": [
    "# Conversion du fichier tsv en DataFrame.\n",
    "df = pd.read_csv(\"../Données/nosdeputes.fr_synthese_2020-10-24.tsv\", sep='\\t')\n",
    "df"
   ]
  },
  {
   "source": [
    "#### 1.2 Complétion de la base de données à l'aide de webscraping\n",
    "\n",
    "Ce jeu de données est plutôt complet, mais il lui manque une variable qui pourrait nous intéresser pour notre étude : le statut du député (sortant, élu pour la première fois, ancien député ou arrivé en cours de mandat).\n",
    "\n",
    "Nous allons donc compléter la table avec la variable \"statut\" du tableau disponible sur la page http://www2.assemblee-nationale.fr/elections/liste/2017/resultats/RESULTAT."
   ],
   "cell_type": "markdown",
   "metadata": {}
  },
  {
   "cell_type": "code",
   "execution_count": 3,
   "metadata": {
    "tags": []
   },
   "outputs": [],
   "source": [
    "# On récupère le code source de la page afin d'en extraire le tableau.\n",
    "from urllib import request\n",
    "import bs4\n",
    "\n",
    "request_text = request.urlopen(\"http://www2.assemblee-nationale.fr/elections/liste/2017/resultats/RESULTAT\").read()\n",
    "page = bs4.BeautifulSoup(request_text, \"html\")\n",
    "tableau_html = page.find(\"table\") # On extrait le tableau d'intérêt de la page HTML."
   ]
  },
  {
   "source": [
    "Nous avons récupéré le code HTML du tableau, récupérons maintenant ses entêtes."
   ],
   "cell_type": "markdown",
   "metadata": {}
  },
  {
   "cell_type": "code",
   "execution_count": 4,
   "metadata": {},
   "outputs": [
    {
     "output_type": "stream",
     "name": "stdout",
     "text": [
      "['Civ.', 'Nom', 'Prénom', 'Département', 'Circ.', 'Statut', 'Tour', 'Nuance']\n"
     ]
    }
   ],
   "source": [
    "entetes = tableau_html.find('thead')\n",
    "entetes = entetes.find('tr')\n",
    "entetes = entetes.find_all('th')\n",
    "entetes = [entete.text.strip() for entete in entetes]\n",
    "print(entetes)"
   ]
  },
  {
   "source": [
    "Puis complétons un dictionnaire avec ses lignes et transformons le en DataFrame."
   ],
   "cell_type": "markdown",
   "metadata": {}
  },
  {
   "cell_type": "code",
   "execution_count": 5,
   "metadata": {},
   "outputs": [],
   "source": [
    "dict_tableau = {}\n",
    "for entete in entetes:\n",
    "    dict_tableau[entete] = []\n",
    "\n",
    "corps_tableau = tableau_html.find('tbody')\n",
    "lignes_tableau = corps_tableau.find_all('tr')\n",
    "for ligne in lignes_tableau:\n",
    "    colonnes = ligne.find_all('td')\n",
    "    for i, element in enumerate(colonnes):\n",
    "        dict_tableau[entetes[i]].append(element.text.strip())\n",
    "\n",
    "df1 = pd.DataFrame.from_dict(dict_tableau)"
   ]
  },
  {
   "source": [
    "On affiche les premières lignes pour s'assurer qu'on obtient bien le tableau souhaité."
   ],
   "cell_type": "markdown",
   "metadata": {}
  },
  {
   "cell_type": "code",
   "execution_count": 6,
   "metadata": {},
   "outputs": [
    {
     "output_type": "execute_result",
     "data": {
      "text/plain": [
       "  Civ.        Nom      Prénom  Département Circ.                  Statut Tour  \\\n",
       "0   M.       ABAD      DAMIEN          AIN     5                 SORTANT    2   \n",
       "1  Mme     ABADIE    CAROLINE        ISERE     8  ELUE POUR LA 1ERE FOIS    2   \n",
       "2  Mme       ABBA   BÉRANGÈRE  HAUTE-MARNE     1  ELUE POUR LA 1ERE FOIS    2   \n",
       "3   M.  ACQUAVIVA  JEAN-FÉLIX  HAUTE-CORSE     2   ELU POUR LA 1ERE FOIS    2   \n",
       "4   M.       ADAM     LÉNAÏCK       GUYANE     2   ELU POUR LA 1ERE FOIS    2   \n",
       "\n",
       "  Nuance  \n",
       "0     LR  \n",
       "1    REM  \n",
       "2    REM  \n",
       "3    REG  \n",
       "4    REM  "
      ],
      "text/html": "<div>\n<style scoped>\n    .dataframe tbody tr th:only-of-type {\n        vertical-align: middle;\n    }\n\n    .dataframe tbody tr th {\n        vertical-align: top;\n    }\n\n    .dataframe thead th {\n        text-align: right;\n    }\n</style>\n<table border=\"1\" class=\"dataframe\">\n  <thead>\n    <tr style=\"text-align: right;\">\n      <th></th>\n      <th>Civ.</th>\n      <th>Nom</th>\n      <th>Prénom</th>\n      <th>Département</th>\n      <th>Circ.</th>\n      <th>Statut</th>\n      <th>Tour</th>\n      <th>Nuance</th>\n    </tr>\n  </thead>\n  <tbody>\n    <tr>\n      <th>0</th>\n      <td>M.</td>\n      <td>ABAD</td>\n      <td>DAMIEN</td>\n      <td>AIN</td>\n      <td>5</td>\n      <td>SORTANT</td>\n      <td>2</td>\n      <td>LR</td>\n    </tr>\n    <tr>\n      <th>1</th>\n      <td>Mme</td>\n      <td>ABADIE</td>\n      <td>CAROLINE</td>\n      <td>ISERE</td>\n      <td>8</td>\n      <td>ELUE POUR LA 1ERE FOIS</td>\n      <td>2</td>\n      <td>REM</td>\n    </tr>\n    <tr>\n      <th>2</th>\n      <td>Mme</td>\n      <td>ABBA</td>\n      <td>BÉRANGÈRE</td>\n      <td>HAUTE-MARNE</td>\n      <td>1</td>\n      <td>ELUE POUR LA 1ERE FOIS</td>\n      <td>2</td>\n      <td>REM</td>\n    </tr>\n    <tr>\n      <th>3</th>\n      <td>M.</td>\n      <td>ACQUAVIVA</td>\n      <td>JEAN-FÉLIX</td>\n      <td>HAUTE-CORSE</td>\n      <td>2</td>\n      <td>ELU POUR LA 1ERE FOIS</td>\n      <td>2</td>\n      <td>REG</td>\n    </tr>\n    <tr>\n      <th>4</th>\n      <td>M.</td>\n      <td>ADAM</td>\n      <td>LÉNAÏCK</td>\n      <td>GUYANE</td>\n      <td>2</td>\n      <td>ELU POUR LA 1ERE FOIS</td>\n      <td>2</td>\n      <td>REM</td>\n    </tr>\n  </tbody>\n</table>\n</div>"
     },
     "metadata": {},
     "execution_count": 6
    }
   ],
   "source": [
    "df1.head()"
   ]
  },
  {
   "source": [
    "### 2. Nettoyage des données\n",
    "\n",
    "Maintenant que nous disposons de nos deux bases, nous allons travailler sur celles-ci de sorte à les rendre plus maniables : nous procédons donc au nettoyage des données."
   ],
   "cell_type": "markdown",
   "metadata": {}
  },
  {
   "source": [
    "Dans le tableau webscrapé, conservons uniquement les variables \"Nom\", \"Prénom\" et \"Statut\" et convertissons la casse des modalités et des variables, dans l'optique de les comparer avec celles de la table principale. "
   ],
   "cell_type": "markdown",
   "metadata": {}
  },
  {
   "cell_type": "code",
   "execution_count": 7,
   "metadata": {},
   "outputs": [
    {
     "output_type": "execute_result",
     "data": {
      "text/plain": [
       "           Nom      Prénom                  Statut\n",
       "0         abad      damien                 sortant\n",
       "1       abadie    caroline  elue pour la 1ere fois\n",
       "2         abba   bérangère  elue pour la 1ere fois\n",
       "3    acquaviva  jean-félix   elu pour la 1ere fois\n",
       "4         adam     lénaïck   elu pour la 1ere fois\n",
       "..         ...         ...                     ...\n",
       "572     wonner     martine  elue pour la 1ere fois\n",
       "573   wulfranc      hubert   elu pour la 1ere fois\n",
       "574    zannier      hélène  elue pour la 1ere fois\n",
       "575     zulesi   jean-marc   elu pour la 1ere fois\n",
       "576  zumkeller      michel                 sortant\n",
       "\n",
       "[577 rows x 3 columns]"
      ],
      "text/html": "<div>\n<style scoped>\n    .dataframe tbody tr th:only-of-type {\n        vertical-align: middle;\n    }\n\n    .dataframe tbody tr th {\n        vertical-align: top;\n    }\n\n    .dataframe thead th {\n        text-align: right;\n    }\n</style>\n<table border=\"1\" class=\"dataframe\">\n  <thead>\n    <tr style=\"text-align: right;\">\n      <th></th>\n      <th>Nom</th>\n      <th>Prénom</th>\n      <th>Statut</th>\n    </tr>\n  </thead>\n  <tbody>\n    <tr>\n      <th>0</th>\n      <td>abad</td>\n      <td>damien</td>\n      <td>sortant</td>\n    </tr>\n    <tr>\n      <th>1</th>\n      <td>abadie</td>\n      <td>caroline</td>\n      <td>elue pour la 1ere fois</td>\n    </tr>\n    <tr>\n      <th>2</th>\n      <td>abba</td>\n      <td>bérangère</td>\n      <td>elue pour la 1ere fois</td>\n    </tr>\n    <tr>\n      <th>3</th>\n      <td>acquaviva</td>\n      <td>jean-félix</td>\n      <td>elu pour la 1ere fois</td>\n    </tr>\n    <tr>\n      <th>4</th>\n      <td>adam</td>\n      <td>lénaïck</td>\n      <td>elu pour la 1ere fois</td>\n    </tr>\n    <tr>\n      <th>...</th>\n      <td>...</td>\n      <td>...</td>\n      <td>...</td>\n    </tr>\n    <tr>\n      <th>572</th>\n      <td>wonner</td>\n      <td>martine</td>\n      <td>elue pour la 1ere fois</td>\n    </tr>\n    <tr>\n      <th>573</th>\n      <td>wulfranc</td>\n      <td>hubert</td>\n      <td>elu pour la 1ere fois</td>\n    </tr>\n    <tr>\n      <th>574</th>\n      <td>zannier</td>\n      <td>hélène</td>\n      <td>elue pour la 1ere fois</td>\n    </tr>\n    <tr>\n      <th>575</th>\n      <td>zulesi</td>\n      <td>jean-marc</td>\n      <td>elu pour la 1ere fois</td>\n    </tr>\n    <tr>\n      <th>576</th>\n      <td>zumkeller</td>\n      <td>michel</td>\n      <td>sortant</td>\n    </tr>\n  </tbody>\n</table>\n<p>577 rows × 3 columns</p>\n</div>"
     },
     "metadata": {},
     "execution_count": 7
    }
   ],
   "source": [
    "df1 = df1[['Nom','Prénom','Statut']] # On ne conserve que 3 variables.\n",
    "# On modifie la casse des modalités.\n",
    "df1[\"Nom\"] = df1[\"Nom\"].str.lower()\n",
    "df1[\"Prénom\"] = df1[\"Prénom\"].str.lower()\n",
    "df1[\"Statut\"] = df1[\"Statut\"].str.lower()\n",
    "df1"
   ]
  },
  {
   "source": [
    "On concatène le nom et le prénom pour ne conserver que le patronyme complet et le comparer avec celui de l'autre base. "
   ],
   "cell_type": "markdown",
   "metadata": {}
  },
  {
   "cell_type": "code",
   "execution_count": 8,
   "metadata": {},
   "outputs": [],
   "source": [
    "df1['Nom'] = df1['Prénom'] + ' ' + df1['Nom'] \n",
    "df1 = df1.drop(['Prénom'], axis=1) # On retire donc la variable 'Prénom', désormais inutile."
   ]
  },
  {
   "source": [
    "Afin d'uniformiser les styles d'écriture, on enlève désormais les mots vides (ici les déterminants \"de\" fréquemment présents dans les noms de famille), car ils ne sont pas écrits de la même manière dans les deux bases. "
   ],
   "cell_type": "markdown",
   "metadata": {}
  },
  {
   "cell_type": "code",
   "execution_count": 9,
   "metadata": {},
   "outputs": [],
   "source": [
    "replace_values_ean = {' de ':' ', ' (de) ':' '}\n",
    "\n",
    "# On crée la fonction de nettoyage qui retire le déterminant \"de\".\n",
    "def clean_dataset(data): \n",
    "    data.replace({'nom': replace_values_ean, 'Nom' : replace_values_ean},regex=True,inplace=True)\n",
    "    return data"
   ]
  },
  {
   "cell_type": "code",
   "execution_count": 10,
   "metadata": {},
   "outputs": [
    {
     "output_type": "execute_result",
     "data": {
      "text/plain": [
       "      id                   nom nom_de_famille      prenom sexe date_naissance  \\\n",
       "0     32           damien abad           Abad      Damien    H     1980-04-05   \n",
       "1     43       caroline abadie         Abadie    Caroline    F     1976-09-07   \n",
       "2    493  jean-félix acquaviva      Acquaviva  Jean-Félix    H     1973-03-19   \n",
       "3    152          lénaïck adam           Adam     Lénaïck    H     1992-02-19   \n",
       "4    234           damien adam           Adam      Damien    H     1989-06-28   \n",
       "..   ...                   ...            ...         ...  ...            ...   \n",
       "534   26        martine wonner         Wonner     Martine    F     1964-03-27   \n",
       "535  215       hubert wulfranc       Wulfranc      Hubert    H     1956-12-17   \n",
       "536  130        hélène zannier        Zannier      Hélène    F     1972-09-19   \n",
       "537   31      jean-marc zulesi         Zulesi   Jean-Marc    H     1988-06-06   \n",
       "538  329      michel zumkeller      Zumkeller      Michel    H     1966-01-21   \n",
       "\n",
       "                       lieu_naissance num_deptmt              nom_circo  \\\n",
       "0                        Nîmes (Gard)         01                    Ain   \n",
       "1        Saint-Martin-d'Hères (Isère)         38                  Isère   \n",
       "2                Bastia (Haute-Corse)         2B            Haute-Corse   \n",
       "3    Saint Laurent du Maroni (Guyane)        973                 Guyane   \n",
       "4                    Orléans (Loiret)         76         Seine-Maritime   \n",
       "..                                ...        ...                    ...   \n",
       "534                 Hayange (Moselle)         67               Bas-Rhin   \n",
       "535            Rouen (Seine-Maritime)         76         Seine-Maritime   \n",
       "536             Saint-Avold (Moselle)         57                Moselle   \n",
       "537      Marseille (Bouches-du-Rhône)         13       Bouches-du-Rhône   \n",
       "538   Belfort (Territoire de Belfort)         90  Territoire de Belfort   \n",
       "\n",
       "     num_circo  ... hemicycle_interventions  hemicycle_interventions_courtes  \\\n",
       "0            5  ...                     253                              307   \n",
       "1            8  ...                      17                                8   \n",
       "2            2  ...                     109                                9   \n",
       "3            2  ...                       3                                0   \n",
       "4            1  ...                      24                                7   \n",
       "..         ...  ...                     ...                              ...   \n",
       "534          4  ...                      61                                6   \n",
       "535          3  ...                     211                              143   \n",
       "536          7  ...                       9                                3   \n",
       "537          8  ...                      40                               37   \n",
       "538          2  ...                      39                               11   \n",
       "\n",
       "     amendements_proposes amendements_signes amendements_adoptes rapports  \\\n",
       "0                      19               1736                  63        0   \n",
       "1                      14                362                 196        0   \n",
       "2                     186               2309                  89        0   \n",
       "3                      15                581                 175        0   \n",
       "4                      74                687                 225        0   \n",
       "..                    ...                ...                 ...      ...   \n",
       "534                   249               1581                 157        0   \n",
       "535                   895               2776                  70        0   \n",
       "536                    25                475                 214        0   \n",
       "537                   105               1111                 279        0   \n",
       "538                    18               1603                  61        0   \n",
       "\n",
       "     propositions_ecrites  propositions_signees questions_ecrites  \\\n",
       "0                       0                    25                38   \n",
       "1                       0                     3                 3   \n",
       "2                       0                     4                22   \n",
       "3                       0                     4                 1   \n",
       "4                       0                     4                10   \n",
       "..                    ...                   ...               ...   \n",
       "534                     0                     3                14   \n",
       "535                     0                     8                35   \n",
       "536                     0                     4                12   \n",
       "537                     0                     4                52   \n",
       "538                     0                     3                15   \n",
       "\n",
       "     questions_orales  \n",
       "0                   9  \n",
       "1                   0  \n",
       "2                   3  \n",
       "3                   0  \n",
       "4                   2  \n",
       "..                ...  \n",
       "534                 3  \n",
       "535                16  \n",
       "536                 0  \n",
       "537                 4  \n",
       "538                 4  \n",
       "\n",
       "[539 rows x 40 columns]"
      ],
      "text/html": "<div>\n<style scoped>\n    .dataframe tbody tr th:only-of-type {\n        vertical-align: middle;\n    }\n\n    .dataframe tbody tr th {\n        vertical-align: top;\n    }\n\n    .dataframe thead th {\n        text-align: right;\n    }\n</style>\n<table border=\"1\" class=\"dataframe\">\n  <thead>\n    <tr style=\"text-align: right;\">\n      <th></th>\n      <th>id</th>\n      <th>nom</th>\n      <th>nom_de_famille</th>\n      <th>prenom</th>\n      <th>sexe</th>\n      <th>date_naissance</th>\n      <th>lieu_naissance</th>\n      <th>num_deptmt</th>\n      <th>nom_circo</th>\n      <th>num_circo</th>\n      <th>...</th>\n      <th>hemicycle_interventions</th>\n      <th>hemicycle_interventions_courtes</th>\n      <th>amendements_proposes</th>\n      <th>amendements_signes</th>\n      <th>amendements_adoptes</th>\n      <th>rapports</th>\n      <th>propositions_ecrites</th>\n      <th>propositions_signees</th>\n      <th>questions_ecrites</th>\n      <th>questions_orales</th>\n    </tr>\n  </thead>\n  <tbody>\n    <tr>\n      <th>0</th>\n      <td>32</td>\n      <td>damien abad</td>\n      <td>Abad</td>\n      <td>Damien</td>\n      <td>H</td>\n      <td>1980-04-05</td>\n      <td>Nîmes (Gard)</td>\n      <td>01</td>\n      <td>Ain</td>\n      <td>5</td>\n      <td>...</td>\n      <td>253</td>\n      <td>307</td>\n      <td>19</td>\n      <td>1736</td>\n      <td>63</td>\n      <td>0</td>\n      <td>0</td>\n      <td>25</td>\n      <td>38</td>\n      <td>9</td>\n    </tr>\n    <tr>\n      <th>1</th>\n      <td>43</td>\n      <td>caroline abadie</td>\n      <td>Abadie</td>\n      <td>Caroline</td>\n      <td>F</td>\n      <td>1976-09-07</td>\n      <td>Saint-Martin-d'Hères (Isère)</td>\n      <td>38</td>\n      <td>Isère</td>\n      <td>8</td>\n      <td>...</td>\n      <td>17</td>\n      <td>8</td>\n      <td>14</td>\n      <td>362</td>\n      <td>196</td>\n      <td>0</td>\n      <td>0</td>\n      <td>3</td>\n      <td>3</td>\n      <td>0</td>\n    </tr>\n    <tr>\n      <th>2</th>\n      <td>493</td>\n      <td>jean-félix acquaviva</td>\n      <td>Acquaviva</td>\n      <td>Jean-Félix</td>\n      <td>H</td>\n      <td>1973-03-19</td>\n      <td>Bastia (Haute-Corse)</td>\n      <td>2B</td>\n      <td>Haute-Corse</td>\n      <td>2</td>\n      <td>...</td>\n      <td>109</td>\n      <td>9</td>\n      <td>186</td>\n      <td>2309</td>\n      <td>89</td>\n      <td>0</td>\n      <td>0</td>\n      <td>4</td>\n      <td>22</td>\n      <td>3</td>\n    </tr>\n    <tr>\n      <th>3</th>\n      <td>152</td>\n      <td>lénaïck adam</td>\n      <td>Adam</td>\n      <td>Lénaïck</td>\n      <td>H</td>\n      <td>1992-02-19</td>\n      <td>Saint Laurent du Maroni (Guyane)</td>\n      <td>973</td>\n      <td>Guyane</td>\n      <td>2</td>\n      <td>...</td>\n      <td>3</td>\n      <td>0</td>\n      <td>15</td>\n      <td>581</td>\n      <td>175</td>\n      <td>0</td>\n      <td>0</td>\n      <td>4</td>\n      <td>1</td>\n      <td>0</td>\n    </tr>\n    <tr>\n      <th>4</th>\n      <td>234</td>\n      <td>damien adam</td>\n      <td>Adam</td>\n      <td>Damien</td>\n      <td>H</td>\n      <td>1989-06-28</td>\n      <td>Orléans (Loiret)</td>\n      <td>76</td>\n      <td>Seine-Maritime</td>\n      <td>1</td>\n      <td>...</td>\n      <td>24</td>\n      <td>7</td>\n      <td>74</td>\n      <td>687</td>\n      <td>225</td>\n      <td>0</td>\n      <td>0</td>\n      <td>4</td>\n      <td>10</td>\n      <td>2</td>\n    </tr>\n    <tr>\n      <th>...</th>\n      <td>...</td>\n      <td>...</td>\n      <td>...</td>\n      <td>...</td>\n      <td>...</td>\n      <td>...</td>\n      <td>...</td>\n      <td>...</td>\n      <td>...</td>\n      <td>...</td>\n      <td>...</td>\n      <td>...</td>\n      <td>...</td>\n      <td>...</td>\n      <td>...</td>\n      <td>...</td>\n      <td>...</td>\n      <td>...</td>\n      <td>...</td>\n      <td>...</td>\n      <td>...</td>\n    </tr>\n    <tr>\n      <th>534</th>\n      <td>26</td>\n      <td>martine wonner</td>\n      <td>Wonner</td>\n      <td>Martine</td>\n      <td>F</td>\n      <td>1964-03-27</td>\n      <td>Hayange (Moselle)</td>\n      <td>67</td>\n      <td>Bas-Rhin</td>\n      <td>4</td>\n      <td>...</td>\n      <td>61</td>\n      <td>6</td>\n      <td>249</td>\n      <td>1581</td>\n      <td>157</td>\n      <td>0</td>\n      <td>0</td>\n      <td>3</td>\n      <td>14</td>\n      <td>3</td>\n    </tr>\n    <tr>\n      <th>535</th>\n      <td>215</td>\n      <td>hubert wulfranc</td>\n      <td>Wulfranc</td>\n      <td>Hubert</td>\n      <td>H</td>\n      <td>1956-12-17</td>\n      <td>Rouen (Seine-Maritime)</td>\n      <td>76</td>\n      <td>Seine-Maritime</td>\n      <td>3</td>\n      <td>...</td>\n      <td>211</td>\n      <td>143</td>\n      <td>895</td>\n      <td>2776</td>\n      <td>70</td>\n      <td>0</td>\n      <td>0</td>\n      <td>8</td>\n      <td>35</td>\n      <td>16</td>\n    </tr>\n    <tr>\n      <th>536</th>\n      <td>130</td>\n      <td>hélène zannier</td>\n      <td>Zannier</td>\n      <td>Hélène</td>\n      <td>F</td>\n      <td>1972-09-19</td>\n      <td>Saint-Avold (Moselle)</td>\n      <td>57</td>\n      <td>Moselle</td>\n      <td>7</td>\n      <td>...</td>\n      <td>9</td>\n      <td>3</td>\n      <td>25</td>\n      <td>475</td>\n      <td>214</td>\n      <td>0</td>\n      <td>0</td>\n      <td>4</td>\n      <td>12</td>\n      <td>0</td>\n    </tr>\n    <tr>\n      <th>537</th>\n      <td>31</td>\n      <td>jean-marc zulesi</td>\n      <td>Zulesi</td>\n      <td>Jean-Marc</td>\n      <td>H</td>\n      <td>1988-06-06</td>\n      <td>Marseille (Bouches-du-Rhône)</td>\n      <td>13</td>\n      <td>Bouches-du-Rhône</td>\n      <td>8</td>\n      <td>...</td>\n      <td>40</td>\n      <td>37</td>\n      <td>105</td>\n      <td>1111</td>\n      <td>279</td>\n      <td>0</td>\n      <td>0</td>\n      <td>4</td>\n      <td>52</td>\n      <td>4</td>\n    </tr>\n    <tr>\n      <th>538</th>\n      <td>329</td>\n      <td>michel zumkeller</td>\n      <td>Zumkeller</td>\n      <td>Michel</td>\n      <td>H</td>\n      <td>1966-01-21</td>\n      <td>Belfort (Territoire de Belfort)</td>\n      <td>90</td>\n      <td>Territoire de Belfort</td>\n      <td>2</td>\n      <td>...</td>\n      <td>39</td>\n      <td>11</td>\n      <td>18</td>\n      <td>1603</td>\n      <td>61</td>\n      <td>0</td>\n      <td>0</td>\n      <td>3</td>\n      <td>15</td>\n      <td>4</td>\n    </tr>\n  </tbody>\n</table>\n<p>539 rows × 40 columns</p>\n</div>"
     },
     "metadata": {},
     "execution_count": 10
    }
   ],
   "source": [
    "# On crée une copie de la table principale pour ne pas modifier la base initiale.\n",
    "df_new = df.copy() \n",
    "df_new['nom'] = df_new['nom'].str.lower()\n",
    "clean_dataset(df_new) # On procède au nettoyage sur la base initiale. "
   ]
  },
  {
   "cell_type": "code",
   "execution_count": 11,
   "metadata": {},
   "outputs": [
    {
     "output_type": "execute_result",
     "data": {
      "text/plain": [
       "                      Nom                  Statut\n",
       "0             damien abad                 sortant\n",
       "1         caroline abadie  elue pour la 1ere fois\n",
       "2          bérangère abba  elue pour la 1ere fois\n",
       "3    jean-félix acquaviva   elu pour la 1ere fois\n",
       "4            lénaïck adam   elu pour la 1ere fois\n",
       "..                    ...                     ...\n",
       "572        martine wonner  elue pour la 1ere fois\n",
       "573       hubert wulfranc   elu pour la 1ere fois\n",
       "574        hélène zannier  elue pour la 1ere fois\n",
       "575      jean-marc zulesi   elu pour la 1ere fois\n",
       "576      michel zumkeller                 sortant\n",
       "\n",
       "[577 rows x 2 columns]"
      ],
      "text/html": "<div>\n<style scoped>\n    .dataframe tbody tr th:only-of-type {\n        vertical-align: middle;\n    }\n\n    .dataframe tbody tr th {\n        vertical-align: top;\n    }\n\n    .dataframe thead th {\n        text-align: right;\n    }\n</style>\n<table border=\"1\" class=\"dataframe\">\n  <thead>\n    <tr style=\"text-align: right;\">\n      <th></th>\n      <th>Nom</th>\n      <th>Statut</th>\n    </tr>\n  </thead>\n  <tbody>\n    <tr>\n      <th>0</th>\n      <td>damien abad</td>\n      <td>sortant</td>\n    </tr>\n    <tr>\n      <th>1</th>\n      <td>caroline abadie</td>\n      <td>elue pour la 1ere fois</td>\n    </tr>\n    <tr>\n      <th>2</th>\n      <td>bérangère abba</td>\n      <td>elue pour la 1ere fois</td>\n    </tr>\n    <tr>\n      <th>3</th>\n      <td>jean-félix acquaviva</td>\n      <td>elu pour la 1ere fois</td>\n    </tr>\n    <tr>\n      <th>4</th>\n      <td>lénaïck adam</td>\n      <td>elu pour la 1ere fois</td>\n    </tr>\n    <tr>\n      <th>...</th>\n      <td>...</td>\n      <td>...</td>\n    </tr>\n    <tr>\n      <th>572</th>\n      <td>martine wonner</td>\n      <td>elue pour la 1ere fois</td>\n    </tr>\n    <tr>\n      <th>573</th>\n      <td>hubert wulfranc</td>\n      <td>elu pour la 1ere fois</td>\n    </tr>\n    <tr>\n      <th>574</th>\n      <td>hélène zannier</td>\n      <td>elue pour la 1ere fois</td>\n    </tr>\n    <tr>\n      <th>575</th>\n      <td>jean-marc zulesi</td>\n      <td>elu pour la 1ere fois</td>\n    </tr>\n    <tr>\n      <th>576</th>\n      <td>michel zumkeller</td>\n      <td>sortant</td>\n    </tr>\n  </tbody>\n</table>\n<p>577 rows × 2 columns</p>\n</div>"
     },
     "metadata": {},
     "execution_count": 11
    }
   ],
   "source": [
    "clean_dataset(df1) # On procède au nettoyage sur la table webscrapée. "
   ]
  },
  {
   "source": [
    "On élabore maintenant une fonction qui retire les accents."
   ],
   "cell_type": "markdown",
   "metadata": {}
  },
  {
   "cell_type": "code",
   "execution_count": 12,
   "metadata": {},
   "outputs": [],
   "source": [
    "import unicodedata,string\n",
    "import unidecode\n",
    "\n",
    "def remove_accent(s) :\n",
    "    return ''.join((c for c in unicodedata.normalize('NFD', s) if unicodedata.category(c) != 'Mn'))"
   ]
  },
  {
   "cell_type": "code",
   "execution_count": 13,
   "metadata": {},
   "outputs": [],
   "source": [
    "# Retrait des accents sur tous les noms complets des députés dans les deux bases.\n",
    "df_new[\"nom\"]=df_new[\"nom\"].map(lambda x: remove_accent(x))\n",
    "df1[\"Nom\"]=df1[\"Nom\"].map(lambda x: remove_accent(x))"
   ]
  },
  {
   "source": [
    "On peut désormais joindre les deux tables ppur ajouter à la table initiale la variable portant sur le statut du député. "
   ],
   "cell_type": "markdown",
   "metadata": {}
  },
  {
   "cell_type": "code",
   "execution_count": 14,
   "metadata": {},
   "outputs": [],
   "source": [
    "df_work = pd.merge(df_new, df1, how='left', left_on='nom', right_on='Nom')"
   ]
  },
  {
   "cell_type": "code",
   "execution_count": 15,
   "metadata": {},
   "outputs": [],
   "source": [
    "df_work = df_work.drop('Nom', axis=1) # On retire la variable \"Nom\" qui fait désormais doublon."
   ]
  },
  {
   "source": [
    "On va remplacer les valeurs manquantes pour la variable \"statut\" par la modalité \"arrivé en cours de mandat\". En effet, cela concerne des députés présents dans la base mis à jour mais non présents dans la base webscrapée qui correspond aux députés élus en 2017 ; ils sont donc arrivés au cours des trois dernières années. "
   ],
   "cell_type": "markdown",
   "metadata": {}
  },
  {
   "cell_type": "code",
   "execution_count": 16,
   "metadata": {},
   "outputs": [],
   "source": [
    "for i in range(len(df_work)) :\n",
    "    if df_work['Statut'].isnull()[i] == True :\n",
    "        df_work['Statut'][i] = 'arrive en cours de mandat'"
   ]
  },
  {
   "cell_type": "markdown",
   "metadata": {},
   "source": [
    "On crée désormais une variable âge à partir de la variable date_naissance. Cela va nous permettre de répartir les députés en tranches d'âge de façon à analyser l'influence de l'âge sur l'assiduité. "
   ]
  },
  {
   "cell_type": "code",
   "execution_count": 17,
   "metadata": {},
   "outputs": [],
   "source": [
    "import datetime\n",
    "\n",
    "df_work['age'] = 0 # On initialise à 0 la valeur de la variable age pour chaque individu.\n",
    "adj = datetime.date.today()\n",
    "for i in range(len(df_work)) :\n",
    "    date = datetime.datetime.strptime(df_work[\"date_naissance\"][i], '%Y-%m-%d')\n",
    "    df_work['age'][i] = adj.year - date.year - ((adj.month, adj.day) < (date.month, date.day))\n",
    "    # On calcule la différence entre l'année actuelle et l'année de naissance de chaque député, en corrigeant d'une unité si l'anniversaire n'est pas encore arrivé.\n",
    "\n",
    "df_work = df_work.sort_values(\"age\") # On réordonne la base dans l'ordre croissant de l'âge des députés. \n",
    "\n",
    "# On répartit maintenant les députés dans différentes tranches d'âge. \n",
    "df_work['tranche_age'] = 0\n",
    "for i in range(len(df_work)) :\n",
    "    if 20 <= df_work['age'][i] < 30 :\n",
    "        df_work['tranche_age'][i] = '20-30 ans'\n",
    "    if 30 <= df_work['age'][i] < 40 :\n",
    "        df_work['tranche_age'][i] = '30-40 ans'\n",
    "    if 40 <= df_work['age'][i] < 50 :\n",
    "        df_work['tranche_age'][i] = '40-50 ans'\n",
    "    if 50 <= df_work['age'][i] < 60 :\n",
    "        df_work['tranche_age'][i] = '50-60 ans'\n",
    "    if 60 <= df_work['age'][i] < 70 :\n",
    "        df_work['tranche_age'][i] = '60-70 ans'\n",
    "    if df_work['age'][i] >= 70 :\n",
    "        df_work['tranche_age'][i] = '+ de 70 ans'"
   ]
  },
  {
   "cell_type": "markdown",
   "metadata": {},
   "source": [
    "On poursuit le nettoyage en remplacant la modalité \"0\" de la variable profession par la modalité \"Aucune\", pour des questions de lisibilité.  "
   ]
  },
  {
   "cell_type": "code",
   "execution_count": 18,
   "metadata": {},
   "outputs": [],
   "source": [
    "for i in range(len(df_work)) :\n",
    "    if df_work['profession'][i] == '0' :\n",
    "        df_work['profession'][i] = 'Aucune'"
   ]
  },
  {
   "cell_type": "markdown",
   "metadata": {},
   "source": [
    "On peut maintenant analyser les variables présentes dans la base définitive df_work afin de sélectionner celles que nous pouvons éliminer dans le cadre de notre étude. "
   ]
  },
  {
   "cell_type": "code",
   "execution_count": 19,
   "metadata": {},
   "outputs": [
    {
     "output_type": "execute_result",
     "data": {
      "text/plain": [
       "Index(['id', 'nom', 'nom_de_famille', 'prenom', 'sexe', 'date_naissance',\n",
       "       'lieu_naissance', 'num_deptmt', 'nom_circo', 'num_circo',\n",
       "       'mandat_debut', 'mandat_fin', 'ancien_depute', 'groupe_sigle',\n",
       "       'parti_ratt_financier', 'sites_web', 'emails', 'anciens_mandats',\n",
       "       'profession', 'place_en_hemicycle', 'url_an', 'id_an', 'slug',\n",
       "       'url_nosdeputes', 'url_nosdeputes_api', 'nb_mandats', 'twitter',\n",
       "       'semaines_presence', 'commission_presences', 'commission_interventions',\n",
       "       'hemicycle_interventions', 'hemicycle_interventions_courtes',\n",
       "       'amendements_proposes', 'amendements_signes', 'amendements_adoptes',\n",
       "       'rapports', 'propositions_ecrites', 'propositions_signees',\n",
       "       'questions_ecrites', 'questions_orales', 'Statut', 'age',\n",
       "       'tranche_age'],\n",
       "      dtype='object')"
      ]
     },
     "metadata": {},
     "execution_count": 19
    }
   ],
   "source": [
    "df_work.columns # On affiche la liste des variables."
   ]
  },
  {
   "cell_type": "code",
   "execution_count": 20,
   "metadata": {},
   "outputs": [],
   "source": [
    "# On retire les variables que l'on juge inutiles pour notre étude.\n",
    "df_work = df_work.drop(['id', 'nom_de_famille', 'prenom', 'date_naissance', 'lieu_naissance',\n",
    "              'mandat_debut', 'mandat_fin', 'ancien_depute', 'parti_ratt_financier', 'sites_web',\n",
    "              'emails', 'anciens_mandats', 'place_en_hemicycle', 'url_an',\n",
    "              'id_an', 'slug', 'url_nosdeputes', 'url_nosdeputes_api', 'twitter'], axis=1)"
   ]
  },
  {
   "cell_type": "code",
   "execution_count": 21,
   "metadata": {},
   "outputs": [
    {
     "output_type": "execute_result",
     "data": {
      "text/plain": [
       "                 nom sexe num_deptmt      nom_circo  num_circo groupe_sigle  \\\n",
       "383    ludovic pajot    H         62  Pas-de-Calais         10           NI   \n",
       "139  typhanie degois    F         73         Savoie          1         LREM   \n",
       "235   pierre henriet    H         85         Vendée          5         LREM   \n",
       "3       lenaick adam    H        973         Guyane          2         LREM   \n",
       "375    mickael nogal    H         31  Haute-Garonne          4         LREM   \n",
       "\n",
       "                                profession  nb_mandats  semaines_presence  \\\n",
       "383                                 Aucune           1                 23   \n",
       "139                                Juriste           1                 21   \n",
       "235  Professeur du secondaire et technique           1                 31   \n",
       "3     Cadre supérieur (entreprises privée)           1                  8   \n",
       "375              Autre profession libérale           1                 29   \n",
       "\n",
       "     commission_presences  ...  amendements_signes  amendements_adoptes  \\\n",
       "383                    15  ...                 327                    1   \n",
       "139                    23  ...                 839                  207   \n",
       "235                    26  ...                 382                  188   \n",
       "3                       5  ...                 581                  175   \n",
       "375                    30  ...                 362                  176   \n",
       "\n",
       "     rapports  propositions_ecrites  propositions_signees  questions_ecrites  \\\n",
       "383         0                     0                     2                 54   \n",
       "139         0                     0                     3                 36   \n",
       "235         0                     0                     3                  9   \n",
       "3           0                     0                     4                  1   \n",
       "375         0                     0                     4                  0   \n",
       "\n",
       "     questions_orales                  Statut  age  tranche_age  \n",
       "383                 5   elu pour la 1ere fois   26    20-30 ans  \n",
       "139                 1  elue pour la 1ere fois   27    20-30 ans  \n",
       "235                 0   elu pour la 1ere fois   28    20-30 ans  \n",
       "3                   0   elu pour la 1ere fois   28    20-30 ans  \n",
       "375                 2   elu pour la 1ere fois   29    20-30 ans  \n",
       "\n",
       "[5 rows x 24 columns]"
      ],
      "text/html": "<div>\n<style scoped>\n    .dataframe tbody tr th:only-of-type {\n        vertical-align: middle;\n    }\n\n    .dataframe tbody tr th {\n        vertical-align: top;\n    }\n\n    .dataframe thead th {\n        text-align: right;\n    }\n</style>\n<table border=\"1\" class=\"dataframe\">\n  <thead>\n    <tr style=\"text-align: right;\">\n      <th></th>\n      <th>nom</th>\n      <th>sexe</th>\n      <th>num_deptmt</th>\n      <th>nom_circo</th>\n      <th>num_circo</th>\n      <th>groupe_sigle</th>\n      <th>profession</th>\n      <th>nb_mandats</th>\n      <th>semaines_presence</th>\n      <th>commission_presences</th>\n      <th>...</th>\n      <th>amendements_signes</th>\n      <th>amendements_adoptes</th>\n      <th>rapports</th>\n      <th>propositions_ecrites</th>\n      <th>propositions_signees</th>\n      <th>questions_ecrites</th>\n      <th>questions_orales</th>\n      <th>Statut</th>\n      <th>age</th>\n      <th>tranche_age</th>\n    </tr>\n  </thead>\n  <tbody>\n    <tr>\n      <th>383</th>\n      <td>ludovic pajot</td>\n      <td>H</td>\n      <td>62</td>\n      <td>Pas-de-Calais</td>\n      <td>10</td>\n      <td>NI</td>\n      <td>Aucune</td>\n      <td>1</td>\n      <td>23</td>\n      <td>15</td>\n      <td>...</td>\n      <td>327</td>\n      <td>1</td>\n      <td>0</td>\n      <td>0</td>\n      <td>2</td>\n      <td>54</td>\n      <td>5</td>\n      <td>elu pour la 1ere fois</td>\n      <td>26</td>\n      <td>20-30 ans</td>\n    </tr>\n    <tr>\n      <th>139</th>\n      <td>typhanie degois</td>\n      <td>F</td>\n      <td>73</td>\n      <td>Savoie</td>\n      <td>1</td>\n      <td>LREM</td>\n      <td>Juriste</td>\n      <td>1</td>\n      <td>21</td>\n      <td>23</td>\n      <td>...</td>\n      <td>839</td>\n      <td>207</td>\n      <td>0</td>\n      <td>0</td>\n      <td>3</td>\n      <td>36</td>\n      <td>1</td>\n      <td>elue pour la 1ere fois</td>\n      <td>27</td>\n      <td>20-30 ans</td>\n    </tr>\n    <tr>\n      <th>235</th>\n      <td>pierre henriet</td>\n      <td>H</td>\n      <td>85</td>\n      <td>Vendée</td>\n      <td>5</td>\n      <td>LREM</td>\n      <td>Professeur du secondaire et technique</td>\n      <td>1</td>\n      <td>31</td>\n      <td>26</td>\n      <td>...</td>\n      <td>382</td>\n      <td>188</td>\n      <td>0</td>\n      <td>0</td>\n      <td>3</td>\n      <td>9</td>\n      <td>0</td>\n      <td>elu pour la 1ere fois</td>\n      <td>28</td>\n      <td>20-30 ans</td>\n    </tr>\n    <tr>\n      <th>3</th>\n      <td>lenaick adam</td>\n      <td>H</td>\n      <td>973</td>\n      <td>Guyane</td>\n      <td>2</td>\n      <td>LREM</td>\n      <td>Cadre supérieur (entreprises privée)</td>\n      <td>1</td>\n      <td>8</td>\n      <td>5</td>\n      <td>...</td>\n      <td>581</td>\n      <td>175</td>\n      <td>0</td>\n      <td>0</td>\n      <td>4</td>\n      <td>1</td>\n      <td>0</td>\n      <td>elu pour la 1ere fois</td>\n      <td>28</td>\n      <td>20-30 ans</td>\n    </tr>\n    <tr>\n      <th>375</th>\n      <td>mickael nogal</td>\n      <td>H</td>\n      <td>31</td>\n      <td>Haute-Garonne</td>\n      <td>4</td>\n      <td>LREM</td>\n      <td>Autre profession libérale</td>\n      <td>1</td>\n      <td>29</td>\n      <td>30</td>\n      <td>...</td>\n      <td>362</td>\n      <td>176</td>\n      <td>0</td>\n      <td>0</td>\n      <td>4</td>\n      <td>0</td>\n      <td>2</td>\n      <td>elu pour la 1ere fois</td>\n      <td>29</td>\n      <td>20-30 ans</td>\n    </tr>\n  </tbody>\n</table>\n<p>5 rows × 24 columns</p>\n</div>"
     },
     "metadata": {},
     "execution_count": 21
    }
   ],
   "source": [
    "df_work.head() # On regarde les premières lignes de la base de travail définitive."
   ]
  },
  {
   "cell_type": "markdown",
   "metadata": {},
   "source": [
    "## II. Analyse descriptive\n",
    "\n",
    "On procède à une analyse descriptive des données afin d'identifier les premières grandes tendances qui guideront notre travail. Les boîtes à moustaches (ou boîtes de Tukey, dites boxplots en anglais) permettent par exemple d'étudier les statistiques liées aux semaines de présence des députés à l'Assemblée nationale, en distinguant selon le sexe, le parti politique ou encore l'âge. On utilise ici la librairie seaborn. "
   ]
  },
  {
   "cell_type": "code",
   "execution_count": 22,
   "metadata": {},
   "outputs": [
    {
     "output_type": "display_data",
     "data": {
      "text/plain": "Canvas(toolbar=Toolbar(toolitems=[('Home', 'Reset original view', 'home', 'home'), ('Back', 'Back to previous …",
      "application/vnd.jupyter.widget-view+json": {
       "version_major": 2,
       "version_minor": 0,
       "model_id": "2dcf5aa0d15e44b9a50dfa82629ad00d"
      }
     },
     "metadata": {}
    },
    {
     "output_type": "execute_result",
     "data": {
      "text/plain": [
       "Text(0.3, 1, 'Nombre de semaines de présence des députés')"
      ]
     },
     "metadata": {},
     "execution_count": 22
    }
   ],
   "source": [
    "fig, ax = plt.subplots(1, 2, figsize=(10,4))\n",
    "sns.set_style(\"whitegrid\")\n",
    "sns.histplot(data=df_work, x=\"semaines_presence\", kde=True, ax=ax[0])\n",
    "ax[0].set_xlabel('Semaines de présence des députés')\n",
    "ax[0].set_ylabel('Nombre de députés')\n",
    "sns.boxplot(y=\"semaines_presence\",data=df_work, ax=ax[1])\n",
    "ax[1].set_xlabel(\"Boîte de Tukey des semaines de présence à l'Assemblée nationale\")\n",
    "ax[1].set_ylabel('')\n",
    "fig.text(0.3, 1, \"Nombre de semaines de présence des députés\", size=20, fontweight='bold')"
   ]
  },
  {
   "cell_type": "code",
   "execution_count": 23,
   "metadata": {},
   "outputs": [
    {
     "output_type": "display_data",
     "data": {
      "text/plain": "Canvas(toolbar=Toolbar(toolitems=[('Home', 'Reset original view', 'home', 'home'), ('Back', 'Back to previous …",
      "application/vnd.jupyter.widget-view+json": {
       "version_major": 2,
       "version_minor": 0,
       "model_id": "047057cf0a3c473cb875ab169dd20826"
      }
     },
     "metadata": {}
    },
    {
     "output_type": "execute_result",
     "data": {
      "text/plain": [
       "Text(0.2, 1, 'Nombre de semaines de présence des députés en fonction de leur sexe')"
      ]
     },
     "metadata": {},
     "execution_count": 23
    }
   ],
   "source": [
    "fig, ax = plt.subplots(1, 2, figsize=(10,4))\n",
    "sns.set_style(\"whitegrid\")\n",
    "sns.histplot(data=df_work, x=\"semaines_presence\", hue=\"sexe\", kde=True, ax=ax[0])\n",
    "ax[0].set_xlabel('Distribution des semaines de présence des députés')\n",
    "ax[0].set_ylabel('Nombre de députés')\n",
    "sns.boxplot(x=\"sexe\", y=\"semaines_presence\", data=df_work, ax=ax[1])\n",
    "ax[1].set_xlabel(\"Boîte de Tukey des semaines de présence à l'Assemblée nationale\")\n",
    "ax[1].set_ylabel('')\n",
    "fig.text(0.2, 1, \"Nombre de semaines de présence des députés en fonction de leur sexe\", size=20, fontweight='bold')"
   ]
  },
  {
   "cell_type": "code",
   "execution_count": 24,
   "metadata": {},
   "outputs": [
    {
     "output_type": "display_data",
     "data": {
      "text/plain": "Canvas(toolbar=Toolbar(toolitems=[('Home', 'Reset original view', 'home', 'home'), ('Back', 'Back to previous …",
      "application/vnd.jupyter.widget-view+json": {
       "version_major": 2,
       "version_minor": 0,
       "model_id": "ed926da6cda34eea89680f547109f6e1"
      }
     },
     "metadata": {}
    },
    {
     "output_type": "execute_result",
     "data": {
      "text/plain": [
       "Text(0.2, 1, 'Nombre de semaines de présence des députés en fonction de leur parti')"
      ]
     },
     "metadata": {},
     "execution_count": 24
    }
   ],
   "source": [
    "fig, ax = plt.subplots(2, 1, figsize=(10,8))\n",
    "sns.set_style(\"whitegrid\")\n",
    "sns.kdeplot(data=df_work, x=\"semaines_presence\", hue=\"groupe_sigle\", ax=ax[0])\n",
    "ax[0].set_xlabel('Distributions des semaines de présence des députés (une par parti)')\n",
    "ax[0].set_ylabel('Proportion des députés')\n",
    "sns.boxplot(x=\"groupe_sigle\", y=\"semaines_presence\", data=df_work, ax=ax[1])\n",
    "ax[1].set_xlabel(\"Parti politique\")\n",
    "ax[1].set_ylabel(\"Semaines de présence à l'Assemblée nationale\")\n",
    "fig.text(0.2, 1, \"Nombre de semaines de présence des députés en fonction de leur parti\", size=20, fontweight='bold')"
   ]
  },
  {
   "cell_type": "code",
   "execution_count": 25,
   "metadata": {},
   "outputs": [
    {
     "output_type": "display_data",
     "data": {
      "text/plain": "Canvas(toolbar=Toolbar(toolitems=[('Home', 'Reset original view', 'home', 'home'), ('Back', 'Back to previous …",
      "application/vnd.jupyter.widget-view+json": {
       "version_major": 2,
       "version_minor": 0,
       "model_id": "ae933ca1333949d291d51c15bacdf1ce"
      }
     },
     "metadata": {}
    },
    {
     "output_type": "execute_result",
     "data": {
      "text/plain": [
       "Text(0.2, 1, \"Nombre de semaines de présence des députés en fonction de leur tranche d'âge\")"
      ]
     },
     "metadata": {},
     "execution_count": 25
    }
   ],
   "source": [
    "fig, ax = plt.subplots(2, 1, figsize=(10,8))\n",
    "sns.set_style(\"whitegrid\")\n",
    "sns.kdeplot(data=df_work, x=\"semaines_presence\", hue=\"tranche_age\", ax=ax[0])\n",
    "ax[0].set_xlabel(\"Distributions des semaines de présence des députés (une par tranche d'âge)\")\n",
    "ax[0].set_ylabel('Proportion des députés')\n",
    "sns.boxplot(x=\"tranche_age\", y=\"semaines_presence\", data=df_work, ax=ax[1])\n",
    "ax[1].set_xlabel(\"Tranche d'âge\")\n",
    "ax[1].set_ylabel(\"Semaines de présence à l'Assemblée nationale\")\n",
    "fig.text(0.2, 1, \"Nombre de semaines de présence des députés en fonction de leur tranche d'âge\", size=20, fontweight='bold')"
   ]
  },
  {
   "cell_type": "markdown",
   "metadata": {},
   "source": [
    "L'observation de ces boîtes à moustaches donne à voir quelques premières tendances :\n",
    "- certains députés se démarquent de l'immense majorité des autres députés par un très fort absentéisme, comme le montrent les valeurs extrêmes du premier graphique ;\n",
    "- globalement, les hommes sont légèrement plus présents à l'Assemblée nationale que les femmes ;\n",
    "- il y a d'assez grandes disparités entre les différents partis ;\n",
    "- les députés les plus âgés semblent être les moins assidus, tandis que les 50-60 ans sont visiblement la génération la plus assidue."
   ]
  },
  {
   "cell_type": "markdown",
   "metadata": {},
   "source": [
    "## Prochaines étapes : \n",
    "- compléter avec d'autres stats desc (carte ? autre graphique ?)\n",
    "- normaliser les données, puis réaliser la matrice de corrélation graphique / scatter-plot\n",
    "- déterminer variables intéressantes pour l'ACP\n",
    "- construire un score d'assiduité (réfléchir aux pondérations)\n",
    "- k-means clustering\n",
    "- régression linéaire"
   ]
  },
  {
   "source": [
    "## III. Modélisation\n",
    "\n",
    "### 3.1 Liens entre les différentes variables d'assiduité\n",
    "\n",
    "Nous avons jusqu'à présent étudié uniquement le nombre de semaines de présence des députés sur les bancs de l'Assemblée, sans nous préoccuper des autres indicateurs d'assiduité. Nous allons nous demander dans quelle mesure la présence est suffisante pour révéler l'assiduité, notamment en étudiant les corrélations entre les différents indicateurs. Nous effectuerons surtout une Analyse en Composantes Principales (ACP) sur ces indicateurs, en espérant que le premier axe explique une grande part de la variance et puisse s'interpréter comme une variable d'assiduité. \n",
    "\n",
    "Les indicateurs d'assiduité que nous avons à disposition sont 'semaines_presence', 'commission_presences', 'commission_interventions', 'hemicycle_interventions','hemicycle_interventions_courtes', 'amendements_proposes', 'amendements_signes', 'amendements_adoptes', 'rapports', 'propositions_ecrites', 'propositions_signees','questions_ecrites' et 'questions_orales'."
   ],
   "cell_type": "markdown",
   "metadata": {}
  },
  {
   "cell_type": "code",
   "execution_count": 26,
   "metadata": {},
   "outputs": [
    {
     "output_type": "display_data",
     "data": {
      "text/plain": "Canvas(toolbar=Toolbar(toolitems=[('Home', 'Reset original view', 'home', 'home'), ('Back', 'Back to previous …",
      "application/vnd.jupyter.widget-view+json": {
       "version_major": 2,
       "version_minor": 0,
       "model_id": "0c5949e1c2204c868f71f8ee7c7a27da"
      }
     },
     "metadata": {}
    },
    {
     "output_type": "execute_result",
     "data": {
      "text/plain": [
       "<seaborn.axisgrid.PairGrid at 0x12b5df670>"
      ]
     },
     "metadata": {},
     "execution_count": 26
    }
   ],
   "source": [
    "# On trace la matrice des nuages de points afin de percevoir les premiers liens entre les variables d'assiduité.\n",
    "sns.pairplot(df_work[['semaines_presence', 'commission_presences', 'commission_interventions', 'hemicycle_interventions','hemicycle_interventions_courtes', 'amendements_proposes', 'amendements_signes', 'amendements_adoptes', 'rapports', 'propositions_ecrites', 'propositions_signees','questions_ecrites', 'questions_orales']], height=1.25)\n",
    "#help(sns.pairplot)"
   ]
  },
  {
   "source": [
    "### 3.2 Normalisation des données\n",
    "\n",
    "Afin d'éviter que des variables l'emportent sur d'autres par des effets d'échelle, nous allons normaliser (centrer et réduire) les variables sur lesquelles nous feront l'ACP.\n"
   ],
   "cell_type": "markdown",
   "metadata": {}
  },
  {
   "cell_type": "code",
   "execution_count": 27,
   "metadata": {},
   "outputs": [],
   "source": [
    "# On crée une nouvelle table avec le numéro du député en index et les variables d'assiduité.\n",
    "df_acp = df_work[['semaines_presence', 'commission_presences', 'commission_interventions', 'hemicycle_interventions','hemicycle_interventions_courtes', 'amendements_proposes', 'amendements_signes', 'amendements_adoptes', 'rapports', 'propositions_ecrites', 'propositions_signees','questions_ecrites', 'questions_orales']]"
   ]
  },
  {
   "cell_type": "code",
   "execution_count": 28,
   "metadata": {},
   "outputs": [
    {
     "output_type": "execute_result",
     "data": {
      "text/plain": [
       "array([[-4.99136041e-01, -1.17818822e+00, -4.25038063e-01, ...,\n",
       "        -6.82286754e-01,  2.36772151e+00,  6.48408303e-01],\n",
       "       [-7.86259121e-01, -7.67223361e-01, -4.76110854e-01, ...,\n",
       "        -5.05906629e-01,  1.23583513e+00, -6.12158245e-01],\n",
       "       [ 6.49356279e-01, -6.13111538e-01, -4.42062327e-01, ...,\n",
       "        -5.05906629e-01, -4.61994440e-01, -9.27299882e-01],\n",
       "       ...,\n",
       "       [-4.99136041e-01, -4.07629108e-01,  5.68528285e-04, ...,\n",
       "         7.28754245e-01,  1.42448286e+00,  3.33266666e-01],\n",
       "       [ 3.62233199e-01,  1.57447577e-01,  1.36762638e-01, ...,\n",
       "         2.13979524e+00, -7.13524747e-01,  1.27869158e+00],\n",
       "       [-2.93968222e+00, -1.69189430e+00, -5.78256436e-01, ...,\n",
       "         2.13979524e+00,  9.84304822e-01, -9.27299882e-01]])"
      ]
     },
     "metadata": {},
     "execution_count": 28
    }
   ],
   "source": [
    "import sklearn # On importe scikit-learn.\n",
    "# On centre et réduit les variables de manière à effectuer une ACP normée.\n",
    "from sklearn.preprocessing import StandardScaler\n",
    "sc = StandardScaler()\n",
    "Z = sc.fit_transform(df_acp)\n",
    "Z"
   ]
  },
  {
   "source": [
    "On vérifie que les moyennes sont nulles et les écarts-types unitaires ; c'est bien le cas : la normalisation a bien été effectuée."
   ],
   "cell_type": "markdown",
   "metadata": {}
  },
  {
   "cell_type": "code",
   "execution_count": 29,
   "metadata": {},
   "outputs": [
    {
     "output_type": "stream",
     "name": "stdout",
     "text": [
      "[-5.52021838e-17 -6.59130553e-17  1.64782638e-17 -5.19065310e-17\n  1.97739166e-17  0.00000000e+00 -3.95478332e-17  9.22782774e-17\n -2.47173957e-17  5.76739234e-17  8.56869718e-17  3.29565276e-17\n -6.59130553e-18]\n[1. 1. 1. 1. 1. 1. 1. 1. 1. 1. 1. 1. 1.]\n"
     ]
    }
   ],
   "source": [
    "print(np.mean(Z,axis=0))\n",
    "print(np.std(Z,axis=0,ddof=0))"
   ]
  },
  {
   "source": [
    "### 3.3 Analyse en Composantes Principales\n",
    "\n",
    "Les données étant centrées et réduites, nous pouvons désormais débuter l'ACP."
   ],
   "cell_type": "markdown",
   "metadata": {}
  },
  {
   "cell_type": "code",
   "execution_count": 30,
   "metadata": {},
   "outputs": [
    {
     "output_type": "stream",
     "name": "stdout",
     "text": [
      "PCA(svd_solver='full')\n"
     ]
    }
   ],
   "source": [
    "from sklearn.decomposition import PCA\n",
    "# Instanciation de l'objet PCA\n",
    "acp = PCA(svd_solver='full')\n",
    "print(acp) "
   ]
  },
  {
   "source": [
    "On remarque que le nombre de composantes n'est pas spécifié, il correspond donc par défaut au nombre de variables, à savoir 13 (ce qu'on vérifie dans la cellule suivante). Nous stockons maintenant les coordonnées factorielles dans la variable coord grâce à la fonction fit_transform()."
   ],
   "cell_type": "markdown",
   "metadata": {}
  },
  {
   "cell_type": "code",
   "execution_count": 31,
   "metadata": {},
   "outputs": [
    {
     "output_type": "stream",
     "name": "stdout",
     "text": [
      "13\n"
     ]
    }
   ],
   "source": [
    "# Calcul des coordonnées factorielles\n",
    "coord = acp.fit_transform(Z)\n",
    "# Vérification du nombre de composantes principales\n",
    "print(acp.n_components_)"
   ]
  },
  {
   "source": [
    "Désormais, nous allons afficher le pourcentage de la variance expliqué par chaque axe factoriel."
   ],
   "cell_type": "markdown",
   "metadata": {}
  },
  {
   "cell_type": "code",
   "execution_count": 32,
   "metadata": {},
   "outputs": [
    {
     "output_type": "stream",
     "name": "stdout",
     "text": [
      "[0.30292818 0.16774724 0.10467894 0.07784485 0.07354728 0.06130974\n 0.0578616  0.04991936 0.03846265 0.02819897 0.01826355 0.01285006\n 0.00638759]\n"
     ]
    }
   ],
   "source": [
    "print(acp.explained_variance_ratio_)"
   ]
  },
  {
   "source": [
    "On remarque que le premier axe explique environ 30% de l'information disponible, et les trois premiers près de 57 % : les autres axes ne semblent à première vue pas complètement anecdotiques. Nous allons donc tracer l'éboulis des valeurs propres (qui correspondent aussi à la variance expliquée par chaque axe) afin d'appliquer la méthode dite du coude. "
   ],
   "cell_type": "markdown",
   "metadata": {}
  },
  {
   "cell_type": "code",
   "execution_count": 33,
   "metadata": {},
   "outputs": [
    {
     "output_type": "display_data",
     "data": {
      "text/plain": "Canvas(toolbar=Toolbar(toolitems=[('Home', 'Reset original view', 'home', 'home'), ('Back', 'Back to previous …",
      "application/vnd.jupyter.widget-view+json": {
       "version_major": 2,
       "version_minor": 0,
       "model_id": "77ef37c9761040a68d833883d2c00e32"
      }
     },
     "metadata": {}
    }
   ],
   "source": [
    "plt.figure(figsize=(8,4))\n",
    "plt.bar(np.arange(1,acp.n_components_+1),acp.explained_variance_ratio_*100)\n",
    "plt.title(\"Part de la variance expliquée par chaque axe factoriel\", size=20, fontweight='bold')\n",
    "plt.ylabel(\"Variance expliquée par l'axe factoriel (en %)\", size=14)\n",
    "plt.xlabel(\"Axe factoriel\", size=14)\n",
    "plt.show()"
   ]
  },
  {
   "source": [
    "Au vu du diagramme ci-dessus, nous allons choisir de garder les trois premières composantes factorielles des individus. Nous les représentons dans la figure en trois dimensions ci-dessous."
   ],
   "cell_type": "markdown",
   "metadata": {}
  },
  {
   "cell_type": "code",
   "execution_count": 34,
   "metadata": {},
   "outputs": [
    {
     "output_type": "display_data",
     "data": {
      "text/plain": "Canvas(toolbar=Toolbar(toolitems=[('Home', 'Reset original view', 'home', 'home'), ('Back', 'Back to previous …",
      "application/vnd.jupyter.widget-view+json": {
       "version_major": 2,
       "version_minor": 0,
       "model_id": "3e71babaa5e0498aaa2fe63fff671575"
      }
     },
     "metadata": {}
    }
   ],
   "source": [
    "fig = plt.figure(figsize=(8,5))\n",
    "ax = fig.add_subplot(111, projection='3d')\n",
    "ax.set_xlim(-5,8)\n",
    "ax.set_ylim(-5,8)\n",
    "ax.set_zlim(-5,8)\n",
    "\n",
    "for i in range(len(coord[:,0])):\n",
    "    ax.text(coord[i,0], coord[i,1], coord[i,2], str(i), size=6)\n",
    "\n",
    "ax.scatter(coord[:,0], coord[:,1], coord[:,2])\n",
    "plt.show()"
   ]
  },
  {
   "source": [
    "Nous pouvons constater que le nuage de points se compose de deux groupes : l'un aplati quasmiment dans le plan (Oxy), qui est le premier plan factoriel, l'autre ayant des cotes elevées.\n",
    "\n",
    "Afin d'interpréter les différents axes, calculons la matrice des corrélations des variables."
   ],
   "cell_type": "markdown",
   "metadata": {}
  },
  {
   "cell_type": "code",
   "execution_count": 35,
   "metadata": {},
   "outputs": [
    {
     "output_type": "stream",
     "name": "stdout",
     "text": [
      "                           Variable  Cor_axe_1  Cor_axe_2  Cor_axe_3\n0                 semaines_presence   0.557067   0.600929  -0.191771\n1              commission_presences   0.425776   0.662578  -0.302692\n2          commission_interventions   0.496364   0.325125  -0.420058\n3           hemicycle_interventions   0.648652   0.488061   0.485997\n4   hemicycle_interventions_courtes   0.399350   0.453602   0.745994\n5              amendements_proposes   0.695054  -0.235665  -0.117199\n6                amendements_signes   0.763213  -0.375204  -0.062249\n7               amendements_adoptes  -0.428367   0.497853  -0.223568\n8                          rapports   0.027278   0.174714  -0.383634\n9              propositions_ecrites   0.495685  -0.237651   0.004301\n10             propositions_signees   0.587427  -0.415955   0.040091\n11                questions_ecrites   0.497084  -0.334478   0.013451\n12                 questions_orales   0.729486  -0.121882  -0.216111\n"
     ]
    }
   ],
   "source": [
    "n = len(df_acp)\n",
    "p = len(df_acp.columns)\n",
    "\n",
    "eigval = (n-1)/n*acp.explained_variance_\n",
    "sqrt_eigval = np.sqrt(eigval)\n",
    "corvar = np.zeros((p,p))\n",
    "for k in range(p):\n",
    "    corvar[:,k] = acp.components_[k,:] * sqrt_eigval[k]\n",
    "\n",
    "print(pd.DataFrame({'Variable':df_acp.columns,'Cor_axe_1':corvar[:,0],'Cor_axe_2':corvar[:,1], 'Cor_axe_3':corvar[:,2]}))"
   ]
  },
  {
   "source": [
    "Puis représentons ces corrélations sur la sphère unité de $\\mathbb{R}^3$."
   ],
   "cell_type": "markdown",
   "metadata": {}
  },
  {
   "cell_type": "code",
   "execution_count": 53,
   "metadata": {},
   "outputs": [
    {
     "output_type": "display_data",
     "data": {
      "text/plain": "Canvas(toolbar=Toolbar(toolitems=[('Home', 'Reset original view', 'home', 'home'), ('Back', 'Back to previous …",
      "application/vnd.jupyter.widget-view+json": {
       "version_major": 2,
       "version_minor": 0,
       "model_id": "7da8f40b869f468982d3f6e84fadfcdb"
      }
     },
     "metadata": {}
    }
   ],
   "source": [
    "r = 1\n",
    "pi = np.pi\n",
    "cos = np.cos\n",
    "sin = np.sin\n",
    "phi, theta = np.mgrid[0.0:pi:100j, 0.0:2.0*pi:100j]\n",
    "x = r*sin(phi)*cos(theta)\n",
    "y = r*sin(phi)*sin(theta)\n",
    "z = r*cos(phi)\n",
    "\n",
    "fig = plt.figure(figsize=(12,12))\n",
    "ax = fig.add_subplot(111, projection='3d')\n",
    "\n",
    "ax.plot_surface(x, y, z,  rstride=1, cstride=1, color='c', alpha=0.1, linewidth=0)\n",
    "\n",
    "ax.add_line(plt3d.art3d.Line3D([-1,1], [0,0], [0,0]))\n",
    "ax.add_artist(plt3d.art3d.Text3D(x=1, y=0, z=0, text='Axe 1', zdir='x', size=8))\n",
    "\n",
    "ax.add_line(plt3d.art3d.Line3D([0,0], [-1,1], [0,0]))\n",
    "ax.add_artist(plt3d.art3d.Text3D(x=0, y=1, z=0, text='Axe 2', zdir='y', size=8))\n",
    "\n",
    "ax.add_line(plt3d.art3d.Line3D([0,0], [0,0], [-1,1]))\n",
    "ax.add_artist(plt3d.art3d.Text3D(x=0, y=0, z=1, text='Axe 3', zdir='z', size=8))\n",
    "\n",
    "ax.quiver(np.zeros(p), np.zeros(p), np.zeros(p), corvar[:,0], corvar[:,1], corvar[:,2], color='r')\n",
    "for i in range(p):\n",
    "    ax.add_artist(plt3d.art3d.Text3D(x=corvar[i,0], y=corvar[i,1], z=corvar[i,2], text=df_acp.columns[i], zdir=(corvar[i,0], corvar[i,1], corvar[i,2]), size=6))\n",
    "\n",
    "\n",
    "ax.set_xlim([-1,1])\n",
    "ax.set_ylim([-1,1])\n",
    "ax.set_zlim([-1,1])\n",
    "\n",
    "plt.show()"
   ]
  },
  {
   "source": [
    "On constate que le troisième axe différentie essentiellement les députés effectuant de nombreuses interventions (courtes ou non) dans l'hémycicle. Le groupe de député se situant dans le groupe \"en haut\" sur le nuage de point est donc celui des députés les plus actifs en séance."
   ],
   "cell_type": "markdown",
   "metadata": {}
  },
  {
   "source": [
    "## Calcul du score d'assiduité\n",
    "\n",
    "Néanmoins, on peut se demander si la seule présence est suffisante pour établir l'assiduité d'un député. C'est pourquoi on cherche désormais à établir un score pour déterminer le degré d'activité d'un député ; celui s'appuie sur une combinaison linéaire des variables d'activité proposés et pas seulement sur le nombre de semaines de présence. En effet, il semble évident que la rédaction d'un rapport, les interventions dans l'hémicycle ou encore les questions posées sont des éléments manifestant une implication importante du député dans l'exercice de sa tâche. La difficulté réside ici dans le fait qu'il faut habilement pondérer le poids des variables, en majorant le poids des activités individuelles au détriment des actions collectives. On crée des variables intermédiaires portant sur les scores de présence, de participation et de proposition. "
   ],
   "cell_type": "markdown",
   "metadata": {}
  },
  {
   "cell_type": "code",
   "execution_count": 37,
   "metadata": {},
   "outputs": [
    {
     "output_type": "execute_result",
     "data": {
      "text/plain": [
       "count    539.000000\n",
       "mean     155.300557\n",
       "std       56.276853\n",
       "min        0.000000\n",
       "25%      115.500000\n",
       "50%      153.000000\n",
       "75%      190.500000\n",
       "max      351.000000\n",
       "Name: score_presence, dtype: float64"
      ]
     },
     "metadata": {},
     "execution_count": 37
    }
   ],
   "source": [
    "df_work['score_presence'] = 3*df_work['semaines_presence'] + 2*df_work['commission_presences']\n",
    "df_work['score_presence'].describe()"
   ]
  },
  {
   "cell_type": "code",
   "execution_count": 38,
   "metadata": {},
   "outputs": [
    {
     "output_type": "execute_result",
     "data": {
      "text/plain": [
       "count      539.000000\n",
       "mean       631.903525\n",
       "std       2101.486936\n",
       "min          6.000000\n",
       "25%         87.000000\n",
       "50%        183.000000\n",
       "75%        442.500000\n",
       "max      22213.000000\n",
       "Name: score_participation, dtype: float64"
      ]
     },
     "metadata": {},
     "execution_count": 38
    }
   ],
   "source": [
    "df_work['score_participation'] = 2*df_work['commission_interventions'] + df_work['hemicycle_interventions'] + 3*df_work['hemicycle_interventions_courtes'] + 3*df_work['questions_ecrites'] + 10*df_work['questions_orales']\n",
    "df_work['score_participation'].describe()"
   ]
  },
  {
   "cell_type": "code",
   "execution_count": 39,
   "metadata": {},
   "outputs": [
    {
     "output_type": "execute_result",
     "data": {
      "text/plain": [
       "count     539.000000\n",
       "mean      694.703154\n",
       "std      1598.578194\n",
       "min         0.000000\n",
       "25%        51.000000\n",
       "50%       162.000000\n",
       "75%       528.000000\n",
       "max      9108.000000\n",
       "Name: score_proposition, dtype: float64"
      ]
     },
     "metadata": {},
     "execution_count": 39
    }
   ],
   "source": [
    "df_work['score_proposition'] = 3*(100*df_work['rapports'] + 100*df_work['propositions_ecrites'] + df_work['amendements_proposes'])\n",
    "df_work['score_proposition'].describe()"
   ]
  },
  {
   "cell_type": "code",
   "execution_count": 40,
   "metadata": {},
   "outputs": [
    {
     "output_type": "execute_result",
     "data": {
      "text/plain": [
       "count      539.000000\n",
       "mean      1481.907236\n",
       "std       2847.519860\n",
       "min         24.000000\n",
       "25%        311.000000\n",
       "50%        568.000000\n",
       "75%       1187.500000\n",
       "max      25687.000000\n",
       "Name: score_assiduite, dtype: float64"
      ]
     },
     "metadata": {},
     "execution_count": 40
    }
   ],
   "source": [
    "df_work['score_assiduite'] = df_work['score_presence'] + df_work['score_participation'] + df_work['score_proposition']\n",
    "df_work['score_assiduite'].describe()"
   ]
  },
  {
   "cell_type": "code",
   "execution_count": 41,
   "metadata": {},
   "outputs": [
    {
     "output_type": "display_data",
     "data": {
      "text/plain": "Canvas(toolbar=Toolbar(toolitems=[('Home', 'Reset original view', 'home', 'home'), ('Back', 'Back to previous …",
      "application/vnd.jupyter.widget-view+json": {
       "version_major": 2,
       "version_minor": 0,
       "model_id": "e1a73841bfb946778997f5e8272c6ad7"
      }
     },
     "metadata": {}
    },
    {
     "output_type": "execute_result",
     "data": {
      "text/plain": [
       "Text(0.5, 1.0, \"Boxplot représentant le score d'assiduité des députés\")"
      ]
     },
     "metadata": {},
     "execution_count": 41
    }
   ],
   "source": [
    "plt.figure(figsize=(15,10))\n",
    "sns.set_style(\"whitegrid\")\n",
    "ax = sns.boxplot(x=df_work[\"score_assiduite\"])\n",
    "plt.xlabel(\"Score d'assiduité du député\",size=15)\n",
    "plt.title(\"Boxplot représentant le score d'assiduité des députés\",size=20,fontweight='bold')\n",
    "# Bcp de valeurs extrêmes : quelques députés se démarquent fortement par une activité très élevée, notamment en matière d'interventions dans l'hémicycle"
   ]
  }
 ],
 "metadata": {
  "kernelspec": {
   "name": "Python 3.8.6 64-bit",
   "display_name": "Python 3.8.6 64-bit",
   "metadata": {
    "interpreter": {
     "hash": "aee8b7b246df8f9039afb4144a1f6fd8d2ca17a180786b69acc140d282b71a49"
    }
   }
  },
  "language_info": {
   "codemirror_mode": {
    "name": "ipython",
    "version": 3
   },
   "file_extension": ".py",
   "mimetype": "text/x-python",
   "name": "python",
   "nbconvert_exporter": "python",
   "pygments_lexer": "ipython3",
   "version": "3.8.6-final"
  }
 },
 "nbformat": 4,
 "nbformat_minor": 2
}