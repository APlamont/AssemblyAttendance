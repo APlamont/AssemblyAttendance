{
 "cells": [
  {
   "cell_type": "markdown",
   "metadata": {},
   "source": [
    "# En France, le député assidu présente-t-il un profil type ? \n",
    "\n",
    "Alors que la société française se caractérise par une grande défiance de la population vis-à-vis de ses élus et responsables politiques, nous nous pencherons dans ce projet sur la question de l'assiduité des députés au cours de leur mandat. Nous verrons notamment grâce à différents outils (boîtes de Tukey, matrice de nuages de points, analyse en composantes principales, clustering, régression linéaire...) si l'on peut dresser un portrait type pour caractériser le député assidu ou absentéiste. "
   ]
  },
  {
   "cell_type": "code",
   "execution_count": 2,
   "metadata": {},
   "outputs": [],
   "source": [
    "%matplotlib widget\n",
    "\n",
    "import csv\n",
    "import numpy as np\n",
    "import pandas as pd\n",
    "import matplotlib.pyplot as plt\n",
    "import mpl_toolkits.mplot3d as plt3d\n",
    "import seaborn as sns"
   ]
  },
  {
   "cell_type": "markdown",
   "metadata": {},
   "source": [
    "## I. Récupération et préparation des données\n",
    "\n",
    "### 1. Importation des données\n",
    "\n",
    "#### 1.1 Récupération de la base de données principale\n",
    "\n",
    "On récupère sur le site citoyen nosdeputes.fr une base de données synthétisant l'activité parlementaire sur les 12 derniers mois. Pour chaque député, cette table, que nous avons convertie au format .tsv, contient des informations relatives à son état civil, à la circonscription dont il est le représentant, à son éventuel parti politique et surtout à son travail parlementaire (semaines de présence à l'Assemblée nationale, rédaction de rapports, participation à des commissions...)."
   ]
  },
  {
   "cell_type": "code",
   "execution_count": 3,
   "metadata": {},
   "outputs": [
    {
     "output_type": "execute_result",
     "data": {
      "text/plain": [
       "eine-Saint-Denis)         75   \n",
       "19    Encausse-les-Thermes (Haute-Garonne)         31   \n",
       "20                    Thionville (Moselle)         35   \n",
       "21                            Lyon (Rhône)         04   \n",
       "22                           Limoux (Aude)         78   \n",
       "23                      Lorient (Morbihan)         29   \n",
       "24                         Laval (Mayenne)         53   \n",
       "25                      Audincourt (Doubs)         25   \n",
       "26                           Paris (Paris)         78   \n",
       "27                  Saint-Pierre (Réunion)        974   \n",
       "28                     Paris 12ème (Paris)         79   \n",
       "29                        Grenoble (Isère)         38   \n",
       "..                                     ...        ...   \n",
       "509            Trois-Rivières (Guadeloupe)        971   \n",
       "510             Puy-en-Velay (Haute-Loire)         43   \n",
       "511               Cannes (Alpes-Maritimes)         06   \n",
       "512                       Beyrouth (Liban)         40   \n",
       "513                  Avion (Pas-de-Calais)         03   \n",
       "514                  Saint-Quentin (Aisne)         60   \n",
       "515                   Albertville (Savoie)         78   \n",
       "516  Saint-Yrieix-la-Perche (Haute-Vienne)         87   \n",
       "517                            Albi (Tarn)         81   \n",
       "518                       Millau (Aveyron)         12   \n",
       "519                    Paris 20ème (Paris)         78   \n",
       "520  Boulogne-Billancourt (Hauts-de-Seine)         63   \n",
       "521                         Bône (Algérie)         07   \n",
       "522            La Bohalle (Maine-et-Loire)         76   \n",
       "523                        Valence (Drôme)         28   \n",
       "524                  Brioude (Haute-Loire)         43   \n",
       "525                  Montpellier (Hérault)         34   \n",
       "526                  Agen (Lot-et-Garonne)         31   \n",
       "527                        Brive (Corrèze)         91   \n",
       "528                        Avallon (Yonne)         89   \n",
       "529                        Épinal (Vosges)         88   \n",
       "530                        Beauvais (Oise)         95   \n",
       "531             Villers-Semeuse (Ardennes)         08   \n",
       "532                       Paris 07 (Paris)         67   \n",
       "533                           Creil (Oise)         60   \n",
       "534                      Hayange (Moselle)         67   \n",
       "535                 Rouen (Seine-Maritime)         76   \n",
       "536                  Saint-Avold (Moselle)         57   \n",
       "537           Marseille (Bouches-du-Rhône)         13   \n",
       "538        Belfort (Territoire de Belfort)         90   \n",
       "\n",
       "                           nom_circo  num_circo  ... hemicycle_interventions  \\\n",
       "0                                Ain          5  ...                     253   \n",
       "1                              Isère          8  ...                      17   \n",
       "2                        Haute-Corse          2  ...                     109   \n",
       "3                             Guyane          2  ...                       3   \n",
       "4                     Seine-Maritime          1  ...                      24   \n",
       "5                   Bouches-du-Rhône          7  ...                       8   \n",
       "6                              Doubs          2  ...                       3   \n",
       "7                            Mayotte          1  ...                       5   \n",
       "8                   Loire-Atlantique          4  ...                       2   \n",
       "9                  Seine-Saint-Denis          3  ...                       5   \n",
       "10   Français établis hors de France          4  ...                       8   \n",
       "11                             Drôme          4  ...                      64   \n",
       "12                 Charente-Maritime          3  ...                       4   \n",
       "13                           Moselle          6  ...                       1   \n",
       "14                           Essonne          6  ...                      19   \n",
       "15                          Vaucluse          5  ...                     285   \n",
       "16                    Indre-et-Loire          3  ...                     183   \n",
       "17                 Seine-Saint-Denis         11  ...                     401   \n",
       "18                             Paris          8  ...                     114   \n",
       "19                     Haute-Garonne          8  ...                     127   \n",
       "20                   Ille-et-Vilaine          8  ...                       7   \n",
       "21           Alpes-de-Haute-Provence          1  ...                      55   \n",
       "22                          Yvelines          1  ...                      14   \n",
       "23                         Finistère          8  ...                     320   \n",
       "24                           Mayenne          2  ...                      74   \n",
       "25                             Doubs          4  ...                       0   \n",
       "26                          Yvelines          2  ...                      93   \n",
       "27                           Réunion          3  ...                      14   \n",
       "28                       Deux-Sèvres          2  ...                     180   \n",
       "29                             Isère          4  ...                     181   \n",
       "..                               ...        ...  ...                     ...   \n",
       "509                       Guadeloupe          4  ...                      15   \n",
       "510                      Haute-Loire          1  ...                      85   \n",
       "511                  Alpes-Maritimes          4  ...                       2   \n",
       "512                           Landes          3  ...                     376   \n",
       "513                           Allier          2  ...                      22   \n",
       "514                             Oise          5  ...                      60   \n",
       "515                         Yvelines          7  ...                      76   \n",
       "516                     Haute-Vienne          2  ...                       1   \n",
       "517                             Tarn          2  ...                     185   \n",
       "518                          Aveyron          3  ...                     176   \n",
       "519                         Yvelines          8  ...                      21   \n",
       "520                      Puy-de-Dôme          3  ...                      27   \n",
       "521                          Ardèche          2  ...                      92   \n",
       "522                   Seine-Maritime          2  ...                      16   \n",
       "523                     Eure-et-Loir          4  ...                     278   \n",
       "524                      Haute-Loire          2  ...                      65   \n",
       "525                          Hérault          9  ...                       0   \n",
       "526                    Haute-Garonne          3  ...                      34   \n",
       "527                          Essonne          5  ...                      76   \n",
       "528                            Yonne          2  ...                       0   \n",
       "529                           Vosges          1  ...                     194   \n",
       "530                       Val-d'Oise          2  ...                      55   \n",
       "531                         Ardennes          3  ...                       8   \n",
       "532                         Bas-Rhin          2  ...                    1472   \n",
       "533                             Oise          4  ...                     521   \n",
       "534                         Bas-Rhin          4  ...                      61   \n",
       "535                   Seine-Maritime          3  ...                     211   \n",
       "536                          Moselle          7  ...                       9   \n",
       "537                 Bouches-du-Rhône          8  ...                      40   \n",
       "538            Territoire de Belfort          2  ...                      39   \n",
       "\n",
       "     hemicycle_interventions_courtes  amendements_proposes amendements_signes  \\\n",
       "0                                307                    19               1736   \n",
       "1                                  8                    14                362   \n",
       "2                                  9                   186               2309   \n",
       "3                                  0                    15                581   \n",
       "4                                  7                    74                687   \n",
       "5                                  1                    14                394   \n",
       "6                                  1                    14                541   \n",
       "7                                  2                    18                485   \n",
       "8                                  1                     8                334   \n",
       "9                                  0                    16                574   \n",
       "10                                 0                     5                425   \n",
       "11                                94                   600               7380   \n",
       "12                                 1                    54                790   \n",
       "13                                 1                     2                435   \n",
       "14                                 1                     9                616   \n",
       "15                               239                   269               2585   \n",
       "16                                77                   143               1526   \n",
       "17                               168                  2635               5276   \n",
       "18                                26                    53                451   \n",
       "19                                42                   258               3679   \n",
       "20                                10                     2                290   \n",
       "21                                 5                   115               1694   \n",
       "22                                 5                    37                831   \n",
       "23                               453                    81                847   \n",
       "24                                 5                    78                817   \n",
       "25                                 0                     1                514   \n",
       "26                                 6                   143                741   \n",
       "27                                 0                    34               1298   \n",
       "28                                72                   136                435   \n",
       "29                               140                   161               3746   \n",
       "..                               ...                   ...                ...   \n",
       "509                                0                    69               3833   \n",
       "510                               24                   242               4335   \n",
       "511                                0                    24                449   \n",
       "512                              359                   968               3783   \n",
       "513                                6                    19               1262   \n",
       "514                               60                   155               2911   \n",
       "515                                9                    77                871   \n",
       "516                                0                    12                618   \n",
       "517                              236                   123                660   \n",
       "518                               32                   254               4646   \n",
       "519                                2                    39               1268   \n",
       "520                                4                    17                683   \n",
       "521                                8                    94               3670   \n",
       "522                                2                    39                549   \n",
       "523                              194                   192               2066   \n",
       "524                              121                   184               2844   \n",
       "525                                0                    22               1444   \n",
       "526                                6                    11                544   \n",
       "527                               12                    98                974   \n",
       "528                                0                     2               1157   \n",
       "529                               38                   526               3216   \n",
       "530                                8                    21                387   \n",
       "531                                9                    13               1229   \n",
       "532                             5966                     1                667   \n",
       "533                              162                   201                514   \n",
       "534                                6                   249               1581   \n",
       "535                              143                   895               2776   \n",
       "536                                3                    25                475   \n",
       "537                               37                   105               1111   \n",
       "538                               11                    18               1603   \n",
       "\n",
       "    amendements_adoptes rapports  propositions_ecrites  propositions_signees  \\\n",
       "0                    63        0                     0                    25   \n",
       "1                   196        0                     0                     3   \n",
       "2                    89        0                     0                     4   \n",
       "3                   175        0                     0                     4   \n",
       "4                   225        0                     0                     4   \n",
       "5                   200        0                     0                     4   \n",
       "6                   191        0                     0                     4   \n",
       "7                   163        0                     0                     3   \n",
       "8                   144        0                     0                     3   \n",
       "9                   197        1                     0                     4   \n",
       "10                  213        0                     0                     3   \n",
       "11                  213        0                     2                    34   \n",
       "12                  171        0                     0                     4   \n",
       "13                  193        0                     0                     4   \n",
       "14                  204        0                     0                     3   \n",
       "15                   61        0                     0                    13   \n",
       "16                   63        0                     1                    10   \n",
       "17                   38        0                     0                    14   \n",
       "18                  242        0                     0                     5   \n",
       "19                  158        0                     0                     7   \n",
       "20                  146        0                     0                     3   \n",
       "21                  174        0                     0                     3   \n",
       "22                  224        0                     0                     3   \n",
       "23                  194        1                     0                     2   \n",
       "24                  165        0                     0                     0   \n",
       "25                  162        0                     0                     3   \n",
       "26                  155        0                     0                     5   \n",
       "27                   32        0                     0                    13   \n",
       "28                   25        0                     0                     2   \n",
       "29                  170        0                     0                     5   \n",
       "..                  ...      ...                   ...                   ...   \n",
       "509                 161        0                     0                     6   \n",
       "510                  91        0                     0                    15   \n",
       "511                 168        0                     0                     4   \n",
       "512                 158        1                     1                     8   \n",
       "513                 265        0                     0                     4   \n",
       "514                  73        0                     0                    17   \n",
       "515                 155        0                     0                     1   \n",
       "516                 190        0                     0                     4   \n",
       "517                 297        0                     0                     4   \n",
       "518                 137        0                     0                    34   \n",
       "519                  45        0                     0                    16   \n",
       "520                 139        0                     0                     0   \n",
       "521                 168        0                     0                     8   \n",
       "522                 209        0                     0                     3   \n",
       "523                  93        0                     1                     5   \n",
       "524                  63        0                     0                     4   \n",
       "525                 282        0                     0                     6   \n",
       "526                 209        0                     0                     3   \n",
       "527                 152        1                     0                     4   \n",
       "528                  36        0                     0                     1   \n",
       "529                  92        0                     4                    16   \n",
       "530                 222        0                     0                     4   \n",
       "531                  41        0                     2                     7   \n",
       "532                 138        0                     0                     1   \n",
       "533                  27        1                     1                     3   \n",
       "534                 157        0                     0                     3   \n",
       "535                  70        0                     0                     8   \n",
       "536                 214        0                     0                     4   \n",
       "537                 279        0                     0                     4   \n",
       "538                  61        0                     0                     3   \n",
       "\n",
       "    questions_ecrites  questions_orales  \n",
       "0                  38                 9  \n",
       "1                   3                 0  \n",
       "2                  22                 3  \n",
       "3                   1                 0  \n",
       "4                  10                 2  \n",
       "5                   0                 1  \n",
       "6                  19                 0  \n",
       "7                   2                 4  \n",
       "8                   0                 0  \n",
       "9                  16                 2  \n",
       "10                  2                 3  \n",
       "11                 44                 4  \n",
       "12                 28                 1  \n",
       "13                 14                 0  \n",
       "14                 10                 5  \n",
       "15                 18                 7  \n",
       "16                  7                 6  \n",
       "17                 38                 8  \n",
       "18                  0                 1  \n",
       "19                 12                 5  \n",
       "20                  0                 1  \n",
       "21                 13                 3  \n",
       "22                  1                 0  \n",
       "23                  4                 3  \n",
       "24                  6                 6  \n",
       "25                 16                 0  \n",
       "26                  4                 4  \n",
       "27                  5                 2  \n",
       "28                 10                 2  \n",
       "29                 20                 8  \n",
       "..                ...               ...  \n",
       "509                 0                 1  \n",
       "510                36                 3  \n",
       "511                64                 1  \n",
       "512                26                 9  \n",
       "513                 8                 0  \n",
       "514                30                 8  \n",
       "515                 4                 6  \n",
       "516                15                 0  \n",
       "517                 3                 1  \n",
       "518                26                10  \n",
       "519                10                 2  \n",
       "520                 0                 3  \n",
       "521                10                10  \n",
       "522                 3                 3  \n",
       "523                 1                13  \n",
       "524                28                 5  \n",
       "525                55                 0  \n",
       "526                54                 2  \n",
       "527                10                 0  \n",
       "528                 0                 0  \n",
       "529                34                 7  \n",
       "530                14                 0  \n",
       "531                41                 5  \n",
       "532                23                 2  \n",
       "533                13                 4  \n",
       "534                14                 3  \n",
       "535                35                16  \n",
       "536                12                 0  \n",
       "537                52                 4  \n",
       "538                15                 4  \n",
       "\n",
       "[539 rows x 40 columns]"
      ],
      "text/html": "<div>\n<style scoped>\n    .dataframe tbody tr th:only-of-type {\n        vertical-align: middle;\n    }\n\n    .dataframe tbody tr th {\n        vertical-align: top;\n    }\n\n    .dataframe thead th {\n        text-align: right;\n    }\n</style>\n<table border=\"1\" class=\"dataframe\">\n  <thead>\n    <tr style=\"text-align: right;\">\n      <th></th>\n      <th>id</th>\n      <th>nom</th>\n      <th>nom_de_famille</th>\n      <th>prenom</th>\n      <th>sexe</th>\n      <th>date_naissance</th>\n      <th>lieu_naissance</th>\n      <th>num_deptmt</th>\n      <th>nom_circo</th>\n      <th>num_circo</th>\n      <th>...</th>\n      <th>hemicycle_interventions</th>\n      <th>hemicycle_interventions_courtes</th>\n      <th>amendements_proposes</th>\n      <th>amendements_signes</th>\n      <th>amendements_adoptes</th>\n      <th>rapports</th>\n      <th>propositions_ecrites</th>\n      <th>propositions_signees</th>\n      <th>questions_ecrites</th>\n      <th>questions_orales</th>\n    </tr>\n  </thead>\n  <tbody>\n    <tr>\n      <th>0</th>\n      <td>32</td>\n      <td>Damien Abad</td>\n      <td>Abad</td>\n      <td>Damien</td>\n      <td>H</td>\n      <td>1980-04-05</td>\n      <td>Nîmes (Gard)</td>\n      <td>01</td>\n      <td>Ain</td>\n      <td>5</td>\n      <td>...</td>\n      <td>253</td>\n      <td>307</td>\n      <td>19</td>\n      <td>1736</td>\n      <td>63</td>\n      <td>0</td>\n      <td>0</td>\n      <td>25</td>\n      <td>38</td>\n      <td>9</td>\n    </tr>\n    <tr>\n      <th>1</th>\n      <td>43</td>\n      <td>Caroline Abadie</td>\n      <td>Abadie</td>\n      <td>Caroline</td>\n      <td>F</td>\n      <td>1976-09-07</td>\n      <td>Saint-Martin-d'Hères (Isère)</td>\n      <td>38</td>\n      <td>Isère</td>\n      <td>8</td>\n      <td>...</td>\n      <td>17</td>\n      <td>8</td>\n      <td>14</td>\n      <td>362</td>\n      <td>196</td>\n      <td>0</td>\n      <td>0</td>\n      <td>3</td>\n      <td>3</td>\n      <td>0</td>\n    </tr>\n    <tr>\n      <th>2</th>\n      <td>493</td>\n      <td>Jean-Félix Acquaviva</td>\n      <td>Acquaviva</td>\n      <td>Jean-Félix</td>\n      <td>H</td>\n      <td>1973-03-19</td>\n      <td>Bastia (Haute-Corse)</td>\n      <td>2B</td>\n      <td>Haute-Corse</td>\n      <td>2</td>\n      <td>...</td>\n      <td>109</td>\n      <td>9</td>\n      <td>186</td>\n      <td>2309</td>\n      <td>89</td>\n      <td>0</td>\n      <td>0</td>\n      <td>4</td>\n      <td>22</td>\n      <td>3</td>\n    </tr>\n    <tr>\n      <th>3</th>\n      <td>152</td>\n      <td>Lénaïck Adam</td>\n      <td>Adam</td>\n      <td>Lénaïck</td>\n      <td>H</td>\n      <td>1992-02-19</td>\n      <td>Saint Laurent du Maroni (Guyane)</td>\n      <td>973</td>\n      <td>Guyane</td>\n      <td>2</td>\n      <td>...</td>\n      <td>3</td>\n      <td>0</td>\n      <td>15</td>\n      <td>581</td>\n      <td>175</td>\n      <td>0</td>\n      <td>0</td>\n      <td>4</td>\n      <td>1</td>\n      <td>0</td>\n    </tr>\n    <tr>\n      <th>4</th>\n      <td>234</td>\n      <td>Damien Adam</td>\n      <td>Adam</td>\n      <td>Damien</td>\n      <td>H</td>\n      <td>1989-06-28</td>\n      <td>Orléans (Loiret)</td>\n      <td>76</td>\n      <td>Seine-Maritime</td>\n      <td>1</td>\n      <td>...</td>\n      <td>24</td>\n      <td>7</td>\n      <td>74</td>\n      <td>687</td>\n      <td>225</td>\n      <td>0</td>\n      <td>0</td>\n      <td>4</td>\n      <td>10</td>\n      <td>2</td>\n    </tr>\n    <tr>\n      <th>5</th>\n      <td>135</td>\n      <td>Saïd Ahamada</td>\n      <td>Ahamada</td>\n      <td>Saïd</td>\n      <td>H</td>\n      <td>1972-11-07</td>\n      <td>Saint-Denis (Réunion)</td>\n      <td>13</td>\n      <td>Bouches-du-Rhône</td>\n      <td>7</td>\n      <td>...</td>\n      <td>8</td>\n      <td>1</td>\n      <td>14</td>\n      <td>394</td>\n      <td>200</td>\n      <td>0</td>\n      <td>0</td>\n      <td>4</td>\n      <td>0</td>\n      <td>1</td>\n    </tr>\n    <tr>\n      <th>6</th>\n      <td>508</td>\n      <td>Éric Alauzet</td>\n      <td>Alauzet</td>\n      <td>Éric</td>\n      <td>H</td>\n      <td>1958-06-07</td>\n      <td>Nancy (Meurthe-et-Moselle)</td>\n      <td>25</td>\n      <td>Doubs</td>\n      <td>2</td>\n      <td>...</td>\n      <td>3</td>\n      <td>1</td>\n      <td>14</td>\n      <td>541</td>\n      <td>191</td>\n      <td>0</td>\n      <td>0</td>\n      <td>4</td>\n      <td>19</td>\n      <td>0</td>\n    </tr>\n    <tr>\n      <th>7</th>\n      <td>183</td>\n      <td>Ramlati Ali</td>\n      <td>Ali</td>\n      <td>Ramlati</td>\n      <td>F</td>\n      <td>1961-05-28</td>\n      <td>Pamandzi (Mayotte)</td>\n      <td>976</td>\n      <td>Mayotte</td>\n      <td>1</td>\n      <td>...</td>\n      <td>5</td>\n      <td>2</td>\n      <td>18</td>\n      <td>485</td>\n      <td>163</td>\n      <td>0</td>\n      <td>0</td>\n      <td>3</td>\n      <td>2</td>\n      <td>4</td>\n    </tr>\n    <tr>\n      <th>8</th>\n      <td>499</td>\n      <td>Aude Amadou</td>\n      <td>Amadou</td>\n      <td>Aude</td>\n      <td>F</td>\n      <td>1980-02-29</td>\n      <td>Coutances (Manche)</td>\n      <td>44</td>\n      <td>Loire-Atlantique</td>\n      <td>4</td>\n      <td>...</td>\n      <td>2</td>\n      <td>1</td>\n      <td>8</td>\n      <td>334</td>\n      <td>144</td>\n      <td>0</td>\n      <td>0</td>\n      <td>3</td>\n      <td>0</td>\n      <td>0</td>\n    </tr>\n    <tr>\n      <th>9</th>\n      <td>382</td>\n      <td>Patrice Anato</td>\n      <td>Anato</td>\n      <td>Patrice</td>\n      <td>H</td>\n      <td>1976-03-14</td>\n      <td>Lomé (Togo)</td>\n      <td>93</td>\n      <td>Seine-Saint-Denis</td>\n      <td>3</td>\n      <td>...</td>\n      <td>5</td>\n      <td>0</td>\n      <td>16</td>\n      <td>574</td>\n      <td>197</td>\n      <td>1</td>\n      <td>0</td>\n      <td>4</td>\n      <td>16</td>\n      <td>2</td>\n    </tr>\n    <tr>\n      <th>10</th>\n      <td>441</td>\n      <td>Pieyre-Alexandre Anglade</td>\n      <td>Anglade</td>\n      <td>Pieyre-Alexandre</td>\n      <td>H</td>\n      <td>1986-11-02</td>\n      <td>Paris 16 (Paris)</td>\n      <td>999</td>\n      <td>Français établis hors de France</td>\n      <td>4</td>\n      <td>...</td>\n      <td>8</td>\n      <td>0</td>\n      <td>5</td>\n      <td>425</td>\n      <td>213</td>\n      <td>0</td>\n      <td>0</td>\n      <td>3</td>\n      <td>2</td>\n      <td>3</td>\n    </tr>\n    <tr>\n      <th>11</th>\n      <td>11</td>\n      <td>Emmanuelle Anthoine</td>\n      <td>Anthoine</td>\n      <td>Emmanuelle</td>\n      <td>F</td>\n      <td>1964-07-02</td>\n      <td>Saint-Vallier (Drôme)</td>\n      <td>26</td>\n      <td>Drôme</td>\n      <td>4</td>\n      <td>...</td>\n      <td>64</td>\n      <td>94</td>\n      <td>600</td>\n      <td>7380</td>\n      <td>213</td>\n      <td>0</td>\n      <td>2</td>\n      <td>34</td>\n      <td>44</td>\n      <td>4</td>\n    </tr>\n    <tr>\n      <th>12</th>\n      <td>564</td>\n      <td>Jean-Philippe Ardouin</td>\n      <td>Ardouin</td>\n      <td>Jean-Philippe</td>\n      <td>H</td>\n      <td>1964-03-05</td>\n      <td>Saintes (Charente-Maritime)</td>\n      <td>17</td>\n      <td>Charente-Maritime</td>\n      <td>3</td>\n      <td>...</td>\n      <td>4</td>\n      <td>1</td>\n      <td>54</td>\n      <td>790</td>\n      <td>171</td>\n      <td>0</td>\n      <td>0</td>\n      <td>4</td>\n      <td>28</td>\n      <td>1</td>\n    </tr>\n    <tr>\n      <th>13</th>\n      <td>220</td>\n      <td>Christophe Arend</td>\n      <td>Arend</td>\n      <td>Christophe</td>\n      <td>H</td>\n      <td>1975-08-12</td>\n      <td>Forbach (Moselle)</td>\n      <td>57</td>\n      <td>Moselle</td>\n      <td>6</td>\n      <td>...</td>\n      <td>1</td>\n      <td>1</td>\n      <td>2</td>\n      <td>435</td>\n      <td>193</td>\n      <td>0</td>\n      <td>0</td>\n      <td>4</td>\n      <td>14</td>\n      <td>0</td>\n    </tr>\n    <tr>\n      <th>14</th>\n      <td>604</td>\n      <td>Stéphanie Atger</td>\n      <td>Atger</td>\n      <td>Stéphanie</td>\n      <td>F</td>\n      <td>1975-10-11</td>\n      <td>Sarcelles (Val-d'Oise)</td>\n      <td>91</td>\n      <td>Essonne</td>\n      <td>6</td>\n      <td>...</td>\n      <td>19</td>\n      <td>1</td>\n      <td>9</td>\n      <td>616</td>\n      <td>204</td>\n      <td>0</td>\n      <td>0</td>\n      <td>3</td>\n      <td>10</td>\n      <td>5</td>\n    </tr>\n    <tr>\n      <th>15</th>\n      <td>332</td>\n      <td>Julien Aubert</td>\n      <td>Aubert</td>\n      <td>Julien</td>\n      <td>H</td>\n      <td>1978-06-11</td>\n      <td>Marseille (Bouches-du-Rhône)</td>\n      <td>84</td>\n      <td>Vaucluse</td>\n      <td>5</td>\n      <td>...</td>\n      <td>285</td>\n      <td>239</td>\n      <td>269</td>\n      <td>2585</td>\n      <td>61</td>\n      <td>0</td>\n      <td>0</td>\n      <td>13</td>\n      <td>18</td>\n      <td>7</td>\n    </tr>\n    <tr>\n      <th>16</th>\n      <td>406</td>\n      <td>Sophie Auconie</td>\n      <td>Auconie</td>\n      <td>Sophie</td>\n      <td>F</td>\n      <td>1963-08-19</td>\n      <td>Dugny (Seine-Saint-Denis)</td>\n      <td>37</td>\n      <td>Indre-et-Loire</td>\n      <td>3</td>\n      <td>...</td>\n      <td>183</td>\n      <td>77</td>\n      <td>143</td>\n      <td>1526</td>\n      <td>63</td>\n      <td>0</td>\n      <td>1</td>\n      <td>10</td>\n      <td>7</td>\n      <td>6</td>\n    </tr>\n    <tr>\n      <th>17</th>\n      <td>404</td>\n      <td>Clémentine Autain</td>\n      <td>Autain</td>\n      <td>Clémentine</td>\n      <td>F</td>\n      <td>1973-05-26</td>\n      <td>Saint-Cloud (Hauts-de-Seine)</td>\n      <td>93</td>\n      <td>Seine-Saint-Denis</td>\n      <td>11</td>\n      <td>...</td>\n      <td>401</td>\n      <td>168</td>\n      <td>2635</td>\n      <td>5276</td>\n      <td>38</td>\n      <td>0</td>\n      <td>0</td>\n      <td>14</td>\n      <td>38</td>\n      <td>8</td>\n    </tr>\n    <tr>\n      <th>18</th>\n      <td>461</td>\n      <td>Laetitia Avia</td>\n      <td>Avia</td>\n      <td>Laetitia</td>\n      <td>F</td>\n      <td>1985-10-29</td>\n      <td>Livry-Gargan (Seine-Saint-Denis)</td>\n      <td>75</td>\n      <td>Paris</td>\n      <td>8</td>\n      <td>...</td>\n      <td>114</td>\n      <td>26</td>\n      <td>53</td>\n      <td>451</td>\n      <td>242</td>\n      <td>0</td>\n      <td>0</td>\n      <td>5</td>\n      <td>0</td>\n      <td>1</td>\n    </tr>\n    <tr>\n      <th>19</th>\n      <td>52</td>\n      <td>Joël Aviragnet</td>\n      <td>Aviragnet</td>\n      <td>Joël</td>\n      <td>H</td>\n      <td>1956-06-16</td>\n      <td>Encausse-les-Thermes (Haute-Garonne)</td>\n      <td>31</td>\n      <td>Haute-Garonne</td>\n      <td>8</td>\n      <td>...</td>\n      <td>127</td>\n      <td>42</td>\n      <td>258</td>\n      <td>3679</td>\n      <td>158</td>\n      <td>0</td>\n      <td>0</td>\n      <td>7</td>\n      <td>12</td>\n      <td>5</td>\n    </tr>\n    <tr>\n      <th>20</th>\n      <td>121</td>\n      <td>Florian Bachelier</td>\n      <td>Bachelier</td>\n      <td>Florian</td>\n      <td>H</td>\n      <td>1979-04-05</td>\n      <td>Thionville (Moselle)</td>\n      <td>35</td>\n      <td>Ille-et-Vilaine</td>\n      <td>8</td>\n      <td>...</td>\n      <td>7</td>\n      <td>10</td>\n      <td>2</td>\n      <td>290</td>\n      <td>146</td>\n      <td>0</td>\n      <td>0</td>\n      <td>3</td>\n      <td>0</td>\n      <td>1</td>\n    </tr>\n    <tr>\n      <th>21</th>\n      <td>59</td>\n      <td>Delphine Bagarry</td>\n      <td>Bagarry</td>\n      <td>Delphine</td>\n      <td>F</td>\n      <td>1970-01-09</td>\n      <td>Lyon (Rhône)</td>\n      <td>04</td>\n      <td>Alpes-de-Haute-Provence</td>\n      <td>1</td>\n      <td>...</td>\n      <td>55</td>\n      <td>5</td>\n      <td>115</td>\n      <td>1694</td>\n      <td>174</td>\n      <td>0</td>\n      <td>0</td>\n      <td>3</td>\n      <td>13</td>\n      <td>3</td>\n    </tr>\n    <tr>\n      <th>22</th>\n      <td>488</td>\n      <td>Didier Baichère</td>\n      <td>Baichère</td>\n      <td>Didier</td>\n      <td>H</td>\n      <td>1970-08-20</td>\n      <td>Limoux (Aude)</td>\n      <td>78</td>\n      <td>Yvelines</td>\n      <td>1</td>\n      <td>...</td>\n      <td>14</td>\n      <td>5</td>\n      <td>37</td>\n      <td>831</td>\n      <td>224</td>\n      <td>0</td>\n      <td>0</td>\n      <td>3</td>\n      <td>1</td>\n      <td>0</td>\n    </tr>\n    <tr>\n      <th>23</th>\n      <td>323</td>\n      <td>Erwan Balanant</td>\n      <td>Balanant</td>\n      <td>Erwan</td>\n      <td>H</td>\n      <td>1971-02-21</td>\n      <td>Lorient (Morbihan)</td>\n      <td>29</td>\n      <td>Finistère</td>\n      <td>8</td>\n      <td>...</td>\n      <td>320</td>\n      <td>453</td>\n      <td>81</td>\n      <td>847</td>\n      <td>194</td>\n      <td>1</td>\n      <td>0</td>\n      <td>2</td>\n      <td>4</td>\n      <td>3</td>\n    </tr>\n    <tr>\n      <th>24</th>\n      <td>41</td>\n      <td>Géraldine Bannier</td>\n      <td>Bannier</td>\n      <td>Géraldine</td>\n      <td>F</td>\n      <td>1979-11-22</td>\n      <td>Laval (Mayenne)</td>\n      <td>53</td>\n      <td>Mayenne</td>\n      <td>2</td>\n      <td>...</td>\n      <td>74</td>\n      <td>5</td>\n      <td>78</td>\n      <td>817</td>\n      <td>165</td>\n      <td>0</td>\n      <td>0</td>\n      <td>0</td>\n      <td>6</td>\n      <td>6</td>\n    </tr>\n    <tr>\n      <th>25</th>\n      <td>358</td>\n      <td>Frédéric Barbier</td>\n      <td>Barbier</td>\n      <td>Frédéric</td>\n      <td>H</td>\n      <td>1960-08-30</td>\n      <td>Audincourt (Doubs)</td>\n      <td>25</td>\n      <td>Doubs</td>\n      <td>4</td>\n      <td>...</td>\n      <td>0</td>\n      <td>0</td>\n      <td>1</td>\n      <td>514</td>\n      <td>162</td>\n      <td>0</td>\n      <td>0</td>\n      <td>3</td>\n      <td>16</td>\n      <td>0</td>\n    </tr>\n    <tr>\n      <th>26</th>\n      <td>106</td>\n      <td>Jean-Noël Barrot</td>\n      <td>Barrot</td>\n      <td>Jean-Noël</td>\n      <td>H</td>\n      <td>1983-05-13</td>\n      <td>Paris (Paris)</td>\n      <td>78</td>\n      <td>Yvelines</td>\n      <td>2</td>\n      <td>...</td>\n      <td>93</td>\n      <td>6</td>\n      <td>143</td>\n      <td>741</td>\n      <td>155</td>\n      <td>0</td>\n      <td>0</td>\n      <td>5</td>\n      <td>4</td>\n      <td>4</td>\n    </tr>\n    <tr>\n      <th>27</th>\n      <td>217</td>\n      <td>Nathalie Bassire</td>\n      <td>Bassire</td>\n      <td>Nathalie</td>\n      <td>F</td>\n      <td>1968-01-22</td>\n      <td>Saint-Pierre (Réunion)</td>\n      <td>974</td>\n      <td>Réunion</td>\n      <td>3</td>\n      <td>...</td>\n      <td>14</td>\n      <td>0</td>\n      <td>34</td>\n      <td>1298</td>\n      <td>32</td>\n      <td>0</td>\n      <td>0</td>\n      <td>13</td>\n      <td>5</td>\n      <td>2</td>\n    </tr>\n    <tr>\n      <th>28</th>\n      <td>500</td>\n      <td>Delphine Batho</td>\n      <td>Batho</td>\n      <td>Delphine</td>\n      <td>F</td>\n      <td>1973-03-23</td>\n      <td>Paris 12ème (Paris)</td>\n      <td>79</td>\n      <td>Deux-Sèvres</td>\n      <td>2</td>\n      <td>...</td>\n      <td>180</td>\n      <td>72</td>\n      <td>136</td>\n      <td>435</td>\n      <td>25</td>\n      <td>0</td>\n      <td>0</td>\n      <td>2</td>\n      <td>10</td>\n      <td>2</td>\n    </tr>\n    <tr>\n      <th>29</th>\n      <td>209</td>\n      <td>Marie-Noëlle Battistel</td>\n      <td>Battistel</td>\n      <td>Marie-Noëlle</td>\n      <td>F</td>\n      <td>1956-08-20</td>\n      <td>Grenoble (Isère)</td>\n      <td>38</td>\n      <td>Isère</td>\n      <td>4</td>\n      <td>...</td>\n      <td>181</td>\n      <td>140</td>\n      <td>161</td>\n      <td>3746</td>\n      <td>170</td>\n      <td>0</td>\n      <td>0</td>\n      <td>5</td>\n      <td>20</td>\n      <td>8</td>\n    </tr>\n    <tr>\n      <th>...</th>\n      <td>...</td>\n      <td>...</td>\n      <td>...</td>\n      <td>...</td>\n      <td>...</td>\n      <td>...</td>\n      <td>...</td>\n      <td>...</td>\n      <td>...</td>\n      <td>...</td>\n      <td>...</td>\n      <td>...</td>\n      <td>...</td>\n      <td>...</td>\n      <td>...</td>\n      <td>...</td>\n      <td>...</td>\n      <td>...</td>\n      <td>...</td>\n      <td>...</td>\n      <td>...</td>\n    </tr>\n    <tr>\n      <th>509</th>\n      <td>491</td>\n      <td>Hélène Vainqueur-Christophe</td>\n      <td>Vainqueur-Christophe</td>\n      <td>Hélène</td>\n      <td>F</td>\n      <td>1956-05-06</td>\n      <td>Trois-Rivières (Guadeloupe)</td>\n      <td>971</td>\n      <td>Guadeloupe</td>\n      <td>4</td>\n      <td>...</td>\n      <td>15</td>\n      <td>0</td>\n      <td>69</td>\n      <td>3833</td>\n      <td>161</td>\n      <td>0</td>\n      <td>0</td>\n      <td>6</td>\n      <td>0</td>\n      <td>1</td>\n    </tr>\n    <tr>\n      <th>510</th>\n      <td>140</td>\n      <td>Isabelle Valentin</td>\n      <td>Valentin</td>\n      <td>Isabelle</td>\n      <td>F</td>\n      <td>1962-01-20</td>\n      <td>Puy-en-Velay (Haute-Loire)</td>\n      <td>43</td>\n      <td>Haute-Loire</td>\n      <td>1</td>\n      <td>...</td>\n      <td>85</td>\n      <td>24</td>\n      <td>242</td>\n      <td>4335</td>\n      <td>91</td>\n      <td>0</td>\n      <td>0</td>\n      <td>15</td>\n      <td>36</td>\n      <td>3</td>\n    </tr>\n    <tr>\n      <th>511</th>\n      <td>133</td>\n      <td>Alexandra Valetta Ardisson</td>\n      <td>Valetta Ardisson</td>\n      <td>Alexandra</td>\n      <td>F</td>\n      <td>1976-06-07</td>\n      <td>Cannes (Alpes-Maritimes)</td>\n      <td>06</td>\n      <td>Alpes-Maritimes</td>\n      <td>4</td>\n      <td>...</td>\n      <td>2</td>\n      <td>0</td>\n      <td>24</td>\n      <td>449</td>\n      <td>168</td>\n      <td>0</td>\n      <td>0</td>\n      <td>4</td>\n      <td>64</td>\n      <td>1</td>\n    </tr>\n    <tr>\n      <th>512</th>\n      <td>76</td>\n      <td>Boris Vallaud</td>\n      <td>Vallaud</td>\n      <td>Boris</td>\n      <td>H</td>\n      <td>1975-07-25</td>\n      <td>Beyrouth (Liban)</td>\n      <td>40</td>\n      <td>Landes</td>\n      <td>3</td>\n      <td>...</td>\n      <td>376</td>\n      <td>359</td>\n      <td>968</td>\n      <td>3783</td>\n      <td>158</td>\n      <td>1</td>\n      <td>1</td>\n      <td>8</td>\n      <td>26</td>\n      <td>9</td>\n    </tr>\n    <tr>\n      <th>513</th>\n      <td>162</td>\n      <td>Laurence Vanceunebrock</td>\n      <td>Vanceunebrock</td>\n      <td>Laurence</td>\n      <td>F</td>\n      <td>1970-05-06</td>\n      <td>Avion (Pas-de-Calais)</td>\n      <td>03</td>\n      <td>Allier</td>\n      <td>2</td>\n      <td>...</td>\n      <td>22</td>\n      <td>6</td>\n      <td>19</td>\n      <td>1262</td>\n      <td>265</td>\n      <td>0</td>\n      <td>0</td>\n      <td>4</td>\n      <td>8</td>\n      <td>0</td>\n    </tr>\n    <tr>\n      <th>514</th>\n      <td>44</td>\n      <td>Pierre Vatin</td>\n      <td>Vatin</td>\n      <td>Pierre</td>\n      <td>H</td>\n      <td>1967-08-21</td>\n      <td>Saint-Quentin (Aisne)</td>\n      <td>60</td>\n      <td>Oise</td>\n      <td>5</td>\n      <td>...</td>\n      <td>60</td>\n      <td>60</td>\n      <td>155</td>\n      <td>2911</td>\n      <td>73</td>\n      <td>0</td>\n      <td>0</td>\n      <td>17</td>\n      <td>30</td>\n      <td>8</td>\n    </tr>\n    <tr>\n      <th>515</th>\n      <td>417</td>\n      <td>Michèle de Vaucouleurs</td>\n      <td>Vaucouleurs (de)</td>\n      <td>Michèle</td>\n      <td>F</td>\n      <td>1964-02-12</td>\n      <td>Albertville (Savoie)</td>\n      <td>78</td>\n      <td>Yvelines</td>\n      <td>7</td>\n      <td>...</td>\n      <td>76</td>\n      <td>9</td>\n      <td>77</td>\n      <td>871</td>\n      <td>155</td>\n      <td>0</td>\n      <td>0</td>\n      <td>1</td>\n      <td>4</td>\n      <td>6</td>\n    </tr>\n    <tr>\n      <th>516</th>\n      <td>607</td>\n      <td>Pierre Venteau</td>\n      <td>Venteau</td>\n      <td>Pierre</td>\n      <td>H</td>\n      <td>1974-08-26</td>\n      <td>Saint-Yrieix-la-Perche (Haute-Vienne)</td>\n      <td>87</td>\n      <td>Haute-Vienne</td>\n      <td>2</td>\n      <td>...</td>\n      <td>1</td>\n      <td>0</td>\n      <td>12</td>\n      <td>618</td>\n      <td>190</td>\n      <td>0</td>\n      <td>0</td>\n      <td>4</td>\n      <td>15</td>\n      <td>0</td>\n    </tr>\n    <tr>\n      <th>517</th>\n      <td>244</td>\n      <td>Marie-Christine Verdier-Jouclas</td>\n      <td>Verdier-Jouclas</td>\n      <td>Marie-Christine</td>\n      <td>F</td>\n      <td>1965-03-19</td>\n      <td>Albi (Tarn)</td>\n      <td>81</td>\n      <td>Tarn</td>\n      <td>2</td>\n      <td>...</td>\n      <td>185</td>\n      <td>236</td>\n      <td>123</td>\n      <td>660</td>\n      <td>297</td>\n      <td>0</td>\n      <td>0</td>\n      <td>4</td>\n      <td>3</td>\n      <td>1</td>\n    </tr>\n    <tr>\n      <th>518</th>\n      <td>226</td>\n      <td>Arnaud Viala</td>\n      <td>Viala</td>\n      <td>Arnaud</td>\n      <td>H</td>\n      <td>1974-12-04</td>\n      <td>Millau (Aveyron)</td>\n      <td>12</td>\n      <td>Aveyron</td>\n      <td>3</td>\n      <td>...</td>\n      <td>176</td>\n      <td>32</td>\n      <td>254</td>\n      <td>4646</td>\n      <td>137</td>\n      <td>0</td>\n      <td>0</td>\n      <td>34</td>\n      <td>26</td>\n      <td>10</td>\n    </tr>\n    <tr>\n      <th>519</th>\n      <td>542</td>\n      <td>Michel Vialay</td>\n      <td>Vialay</td>\n      <td>Michel</td>\n      <td>H</td>\n      <td>1960-01-06</td>\n      <td>Paris 20ème (Paris)</td>\n      <td>78</td>\n      <td>Yvelines</td>\n      <td>8</td>\n      <td>...</td>\n      <td>21</td>\n      <td>2</td>\n      <td>39</td>\n      <td>1268</td>\n      <td>45</td>\n      <td>0</td>\n      <td>0</td>\n      <td>16</td>\n      <td>10</td>\n      <td>2</td>\n    </tr>\n    <tr>\n      <th>520</th>\n      <td>13</td>\n      <td>Laurence Vichnievsky</td>\n      <td>Vichnievsky</td>\n      <td>Laurence</td>\n      <td>F</td>\n      <td>1955-02-05</td>\n      <td>Boulogne-Billancourt (Hauts-de-Seine)</td>\n      <td>63</td>\n      <td>Puy-de-Dôme</td>\n      <td>3</td>\n      <td>...</td>\n      <td>27</td>\n      <td>4</td>\n      <td>17</td>\n      <td>683</td>\n      <td>139</td>\n      <td>0</td>\n      <td>0</td>\n      <td>0</td>\n      <td>0</td>\n      <td>3</td>\n    </tr>\n    <tr>\n      <th>521</th>\n      <td>587</td>\n      <td>Michèle Victory</td>\n      <td>Victory</td>\n      <td>Michèle</td>\n      <td>F</td>\n      <td>1958-10-28</td>\n      <td>Bône (Algérie)</td>\n      <td>07</td>\n      <td>Ardèche</td>\n      <td>2</td>\n      <td>...</td>\n      <td>92</td>\n      <td>8</td>\n      <td>94</td>\n      <td>3670</td>\n      <td>168</td>\n      <td>0</td>\n      <td>0</td>\n      <td>8</td>\n      <td>10</td>\n      <td>10</td>\n    </tr>\n    <tr>\n      <th>522</th>\n      <td>175</td>\n      <td>Annie Vidal</td>\n      <td>Vidal</td>\n      <td>Annie</td>\n      <td>F</td>\n      <td>1956-09-17</td>\n      <td>La Bohalle (Maine-et-Loire)</td>\n      <td>76</td>\n      <td>Seine-Maritime</td>\n      <td>2</td>\n      <td>...</td>\n      <td>16</td>\n      <td>2</td>\n      <td>39</td>\n      <td>549</td>\n      <td>209</td>\n      <td>0</td>\n      <td>0</td>\n      <td>3</td>\n      <td>3</td>\n      <td>3</td>\n    </tr>\n    <tr>\n      <th>523</th>\n      <td>116</td>\n      <td>Philippe Vigier</td>\n      <td>Vigier</td>\n      <td>Philippe</td>\n      <td>H</td>\n      <td>1958-02-03</td>\n      <td>Valence (Drôme)</td>\n      <td>28</td>\n      <td>Eure-et-Loir</td>\n      <td>4</td>\n      <td>...</td>\n      <td>278</td>\n      <td>194</td>\n      <td>192</td>\n      <td>2066</td>\n      <td>93</td>\n      <td>0</td>\n      <td>1</td>\n      <td>5</td>\n      <td>1</td>\n      <td>13</td>\n    </tr>\n    <tr>\n      <th>524</th>\n      <td>202</td>\n      <td>Jean-Pierre Vigier</td>\n      <td>Vigier</td>\n      <td>Jean-Pierre</td>\n      <td>H</td>\n      <td>1969-10-22</td>\n      <td>Brioude (Haute-Loire)</td>\n      <td>43</td>\n      <td>Haute-Loire</td>\n      <td>2</td>\n      <td>...</td>\n      <td>65</td>\n      <td>121</td>\n      <td>184</td>\n      <td>2844</td>\n      <td>63</td>\n      <td>0</td>\n      <td>0</td>\n      <td>4</td>\n      <td>28</td>\n      <td>5</td>\n    </tr>\n    <tr>\n      <th>525</th>\n      <td>293</td>\n      <td>Patrick Vignal</td>\n      <td>Vignal</td>\n      <td>Patrick</td>\n      <td>H</td>\n      <td>1958-01-22</td>\n      <td>Montpellier (Hérault)</td>\n      <td>34</td>\n      <td>Hérault</td>\n      <td>9</td>\n      <td>...</td>\n      <td>0</td>\n      <td>0</td>\n      <td>22</td>\n      <td>1444</td>\n      <td>282</td>\n      <td>0</td>\n      <td>0</td>\n      <td>6</td>\n      <td>55</td>\n      <td>0</td>\n    </tr>\n    <tr>\n      <th>526</th>\n      <td>258</td>\n      <td>Corinne Vignon</td>\n      <td>Vignon</td>\n      <td>Corinne</td>\n      <td>F</td>\n      <td>1963-06-10</td>\n      <td>Agen (Lot-et-Garonne)</td>\n      <td>31</td>\n      <td>Haute-Garonne</td>\n      <td>3</td>\n      <td>...</td>\n      <td>34</td>\n      <td>6</td>\n      <td>11</td>\n      <td>544</td>\n      <td>209</td>\n      <td>0</td>\n      <td>0</td>\n      <td>3</td>\n      <td>54</td>\n      <td>2</td>\n    </tr>\n    <tr>\n      <th>527</th>\n      <td>535</td>\n      <td>Cédric Villani</td>\n      <td>Villani</td>\n      <td>Cédric</td>\n      <td>H</td>\n      <td>1973-10-05</td>\n      <td>Brive (Corrèze)</td>\n      <td>91</td>\n      <td>Essonne</td>\n      <td>5</td>\n      <td>...</td>\n      <td>76</td>\n      <td>12</td>\n      <td>98</td>\n      <td>974</td>\n      <td>152</td>\n      <td>1</td>\n      <td>0</td>\n      <td>4</td>\n      <td>10</td>\n      <td>0</td>\n    </tr>\n    <tr>\n      <th>528</th>\n      <td>434</td>\n      <td>André Villiers</td>\n      <td>Villiers</td>\n      <td>André</td>\n      <td>H</td>\n      <td>1954-12-13</td>\n      <td>Avallon (Yonne)</td>\n      <td>89</td>\n      <td>Yonne</td>\n      <td>2</td>\n      <td>...</td>\n      <td>0</td>\n      <td>0</td>\n      <td>2</td>\n      <td>1157</td>\n      <td>36</td>\n      <td>0</td>\n      <td>0</td>\n      <td>1</td>\n      <td>0</td>\n      <td>0</td>\n    </tr>\n    <tr>\n      <th>529</th>\n      <td>551</td>\n      <td>Stéphane Viry</td>\n      <td>Viry</td>\n      <td>Stéphane</td>\n      <td>H</td>\n      <td>1969-10-14</td>\n      <td>Épinal (Vosges)</td>\n      <td>88</td>\n      <td>Vosges</td>\n      <td>1</td>\n      <td>...</td>\n      <td>194</td>\n      <td>38</td>\n      <td>526</td>\n      <td>3216</td>\n      <td>92</td>\n      <td>0</td>\n      <td>4</td>\n      <td>16</td>\n      <td>34</td>\n      <td>7</td>\n    </tr>\n    <tr>\n      <th>530</th>\n      <td>7</td>\n      <td>Guillaume Vuilletet</td>\n      <td>Vuilletet</td>\n      <td>Guillaume</td>\n      <td>H</td>\n      <td>1967-06-20</td>\n      <td>Beauvais (Oise)</td>\n      <td>95</td>\n      <td>Val-d'Oise</td>\n      <td>2</td>\n      <td>...</td>\n      <td>55</td>\n      <td>8</td>\n      <td>21</td>\n      <td>387</td>\n      <td>222</td>\n      <td>0</td>\n      <td>0</td>\n      <td>4</td>\n      <td>14</td>\n      <td>0</td>\n    </tr>\n    <tr>\n      <th>531</th>\n      <td>497</td>\n      <td>Jean-Luc Warsmann</td>\n      <td>Warsmann</td>\n      <td>Jean-Luc</td>\n      <td>H</td>\n      <td>1965-10-22</td>\n      <td>Villers-Semeuse (Ardennes)</td>\n      <td>08</td>\n      <td>Ardennes</td>\n      <td>3</td>\n      <td>...</td>\n      <td>8</td>\n      <td>9</td>\n      <td>13</td>\n      <td>1229</td>\n      <td>41</td>\n      <td>0</td>\n      <td>2</td>\n      <td>7</td>\n      <td>41</td>\n      <td>5</td>\n    </tr>\n    <tr>\n      <th>532</th>\n      <td>48</td>\n      <td>Sylvain Waserman</td>\n      <td>Waserman</td>\n      <td>Sylvain</td>\n      <td>H</td>\n      <td>1967-12-08</td>\n      <td>Paris 07 (Paris)</td>\n      <td>67</td>\n      <td>Bas-Rhin</td>\n      <td>2</td>\n      <td>...</td>\n      <td>1472</td>\n      <td>5966</td>\n      <td>1</td>\n      <td>667</td>\n      <td>138</td>\n      <td>0</td>\n      <td>0</td>\n      <td>1</td>\n      <td>23</td>\n      <td>2</td>\n    </tr>\n    <tr>\n      <th>533</th>\n      <td>192</td>\n      <td>Éric Woerth</td>\n      <td>Woerth</td>\n      <td>Éric</td>\n      <td>H</td>\n      <td>1956-01-29</td>\n      <td>Creil (Oise)</td>\n      <td>60</td>\n      <td>Oise</td>\n      <td>4</td>\n      <td>...</td>\n      <td>521</td>\n      <td>162</td>\n      <td>201</td>\n      <td>514</td>\n      <td>27</td>\n      <td>1</td>\n      <td>1</td>\n      <td>3</td>\n      <td>13</td>\n      <td>4</td>\n    </tr>\n    <tr>\n      <th>534</th>\n      <td>26</td>\n      <td>Martine Wonner</td>\n      <td>Wonner</td>\n      <td>Martine</td>\n      <td>F</td>\n      <td>1964-03-27</td>\n      <td>Hayange (Moselle)</td>\n      <td>67</td>\n      <td>Bas-Rhin</td>\n      <td>4</td>\n      <td>...</td>\n      <td>61</td>\n      <td>6</td>\n      <td>249</td>\n      <td>1581</td>\n      <td>157</td>\n      <td>0</td>\n      <td>0</td>\n      <td>3</td>\n      <td>14</td>\n      <td>3</td>\n    </tr>\n    <tr>\n      <th>535</th>\n      <td>215</td>\n      <td>Hubert Wulfranc</td>\n      <td>Wulfranc</td>\n      <td>Hubert</td>\n      <td>H</td>\n      <td>1956-12-17</td>\n      <td>Rouen (Seine-Maritime)</td>\n      <td>76</td>\n      <td>Seine-Maritime</td>\n      <td>3</td>\n      <td>...</td>\n      <td>211</td>\n      <td>143</td>\n      <td>895</td>\n      <td>2776</td>\n      <td>70</td>\n      <td>0</td>\n      <td>0</td>\n      <td>8</td>\n      <td>35</td>\n      <td>16</td>\n    </tr>\n    <tr>\n      <th>536</th>\n      <td>130</td>\n      <td>Hélène Zannier</td>\n      <td>Zannier</td>\n      <td>Hélène</td>\n      <td>F</td>\n      <td>1972-09-19</td>\n      <td>Saint-Avold (Moselle)</td>\n      <td>57</td>\n      <td>Moselle</td>\n      <td>7</td>\n      <td>...</td>\n      <td>9</td>\n      <td>3</td>\n      <td>25</td>\n      <td>475</td>\n      <td>214</td>\n      <td>0</td>\n      <td>0</td>\n      <td>4</td>\n      <td>12</td>\n      <td>0</td>\n    </tr>\n    <tr>\n      <th>537</th>\n      <td>31</td>\n      <td>Jean-Marc Zulesi</td>\n      <td>Zulesi</td>\n      <td>Jean-Marc</td>\n      <td>H</td>\n      <td>1988-06-06</td>\n      <td>Marseille (Bouches-du-Rhône)</td>\n      <td>13</td>\n      <td>Bouches-du-Rhône</td>\n      <td>8</td>\n      <td>...</td>\n      <td>40</td>\n      <td>37</td>\n      <td>105</td>\n      <td>1111</td>\n      <td>279</td>\n      <td>0</td>\n      <td>0</td>\n      <td>4</td>\n      <td>52</td>\n      <td>4</td>\n    </tr>\n    <tr>\n      <th>538</th>\n      <td>329</td>\n      <td>Michel Zumkeller</td>\n      <td>Zumkeller</td>\n      <td>Michel</td>\n      <td>H</td>\n      <td>1966-01-21</td>\n      <td>Belfort (Territoire de Belfort)</td>\n      <td>90</td>\n      <td>Territoire de Belfort</td>\n      <td>2</td>\n      <td>...</td>\n      <td>39</td>\n      <td>11</td>\n      <td>18</td>\n      <td>1603</td>\n      <td>61</td>\n      <td>0</td>\n      <td>0</td>\n      <td>3</td>\n      <td>15</td>\n      <td>4</td>\n    </tr>\n  </tbody>\n</table>\n<p>539 rows × 40 columns</p>\n</div>"
     },
     "metadata": {},
     "execution_count": 3
    }
   ],
   "source": [
    "# Conversion du fichier tsv en DataFrame.\n",
    "df = pd.read_csv(\"../Données/nosdeputes.fr_synthese_2020-10-24.tsv\", sep='\\t')\n",
    "df"
   ]
  },
  {
   "source": [
    "#### 1.2 Complétion de la base de données à l'aide de webscraping\n",
    "\n",
    "Ce jeu de données est plutôt complet, mais il lui manque une variable qui pourrait nous intéresser pour notre étude : le statut du député (sortant, élu pour la première fois, ancien député ou arrivé en cours de mandat).\n",
    "\n",
    "Nous allons donc compléter la table avec la variable \"statut\" du tableau disponible sur la page http://www2.assemblee-nationale.fr/elections/liste/2017/resultats/RESULTAT."
   ],
   "cell_type": "markdown",
   "metadata": {}
  },
  {
   "cell_type": "code",
   "execution_count": 4,
   "metadata": {
    "tags": []
   },
   "outputs": [],
   "source": [
    "# On récupère le code source de la page afin d'en extraire le tableau.\n",
    "from urllib import request\n",
    "import bs4\n",
    "\n",
    "request_text = request.urlopen(\"http://www2.assemblee-nationale.fr/elections/liste/2017/resultats/RESULTAT\").read()\n",
    "page = bs4.BeautifulSoup(request_text, \"html\")\n",
    "tableau_html = page.find(\"table\") # On extrait le tableau d'intérêt de la page HTML."
   ]
  },
  {
   "source": [
    "Nous avons récupéré le code HTML du tableau, récupérons maintenant ses entêtes."
   ],
   "cell_type": "markdown",
   "metadata": {}
  },
  {
   "cell_type": "code",
   "execution_count": 5,
   "metadata": {},
   "outputs": [
    {
     "output_type": "stream",
     "name": "stdout",
     "text": [
      "['Civ.', 'Nom', 'Prénom', 'Département', 'Circ.', 'Statut', 'Tour', 'Nuance']\n"
     ]
    }
   ],
   "source": [
    "entetes = tableau_html.find('thead')\n",
    "entetes = entetes.find('tr')\n",
    "entetes = entetes.find_all('th')\n",
    "entetes = [entete.text.strip() for entete in entetes]\n",
    "print(entetes)"
   ]
  },
  {
   "source": [
    "Puis complétons un dictionnaire avec ses lignes et transformons le en DataFrame."
   ],
   "cell_type": "markdown",
   "metadata": {}
  },
  {
   "cell_type": "code",
   "execution_count": 6,
   "metadata": {},
   "outputs": [],
   "source": [
    "dict_tableau = {}\n",
    "for entete in entetes:\n",
    "    dict_tableau[entete] = []\n",
    "\n",
    "corps_tableau = tableau_html.find('tbody')\n",
    "lignes_tableau = corps_tableau.find_all('tr')\n",
    "for ligne in lignes_tableau:\n",
    "    colonnes = ligne.find_all('td')\n",
    "    for i, element in enumerate(colonnes):\n",
    "        dict_tableau[entetes[i]].append(element.text.strip())\n",
    "\n",
    "df1 = pd.DataFrame.from_dict(dict_tableau)"
   ]
  },
  {
   "source": [
    "On affiche les premières lignes pour s'assurer qu'on obtient bien le tableau souhaité."
   ],
   "cell_type": "markdown",
   "metadata": {}
  },
  {
   "cell_type": "code",
   "execution_count": 7,
   "metadata": {},
   "outputs": [
    {
     "output_type": "execute_result",
     "data": {
      "text/plain": [
       "  Civ.        Nom      Prénom  Département Circ.                  Statut Tour  \\\n",
       "0   M.       ABAD      DAMIEN          AIN     5                 SORTANT    2   \n",
       "1  Mme     ABADIE    CAROLINE        ISERE     8  ELUE POUR LA 1ERE FOIS    2   \n",
       "2  Mme       ABBA   BÉRANGÈRE  HAUTE-MARNE     1  ELUE POUR LA 1ERE FOIS    2   \n",
       "3   M.  ACQUAVIVA  JEAN-FÉLIX  HAUTE-CORSE     2   ELU POUR LA 1ERE FOIS    2   \n",
       "4   M.       ADAM     LÉNAÏCK       GUYANE     2   ELU POUR LA 1ERE FOIS    2   \n",
       "\n",
       "  Nuance  \n",
       "0     LR  \n",
       "1    REM  \n",
       "2    REM  \n",
       "3    REG  \n",
       "4    REM  "
      ],
      "text/html": "<div>\n<style scoped>\n    .dataframe tbody tr th:only-of-type {\n        vertical-align: middle;\n    }\n\n    .dataframe tbody tr th {\n        vertical-align: top;\n    }\n\n    .dataframe thead th {\n        text-align: right;\n    }\n</style>\n<table border=\"1\" class=\"dataframe\">\n  <thead>\n    <tr style=\"text-align: right;\">\n      <th></th>\n      <th>Civ.</th>\n      <th>Nom</th>\n      <th>Prénom</th>\n      <th>Département</th>\n      <th>Circ.</th>\n      <th>Statut</th>\n      <th>Tour</th>\n      <th>Nuance</th>\n    </tr>\n  </thead>\n  <tbody>\n    <tr>\n      <th>0</th>\n      <td>M.</td>\n      <td>ABAD</td>\n      <td>DAMIEN</td>\n      <td>AIN</td>\n      <td>5</td>\n      <td>SORTANT</td>\n      <td>2</td>\n      <td>LR</td>\n    </tr>\n    <tr>\n      <th>1</th>\n      <td>Mme</td>\n      <td>ABADIE</td>\n      <td>CAROLINE</td>\n      <td>ISERE</td>\n      <td>8</td>\n      <td>ELUE POUR LA 1ERE FOIS</td>\n      <td>2</td>\n      <td>REM</td>\n    </tr>\n    <tr>\n      <th>2</th>\n      <td>Mme</td>\n      <td>ABBA</td>\n      <td>BÉRANGÈRE</td>\n      <td>HAUTE-MARNE</td>\n      <td>1</td>\n      <td>ELUE POUR LA 1ERE FOIS</td>\n      <td>2</td>\n      <td>REM</td>\n    </tr>\n    <tr>\n      <th>3</th>\n      <td>M.</td>\n      <td>ACQUAVIVA</td>\n      <td>JEAN-FÉLIX</td>\n      <td>HAUTE-CORSE</td>\n      <td>2</td>\n      <td>ELU POUR LA 1ERE FOIS</td>\n      <td>2</td>\n      <td>REG</td>\n    </tr>\n    <tr>\n      <th>4</th>\n      <td>M.</td>\n      <td>ADAM</td>\n      <td>LÉNAÏCK</td>\n      <td>GUYANE</td>\n      <td>2</td>\n      <td>ELU POUR LA 1ERE FOIS</td>\n      <td>2</td>\n      <td>REM</td>\n    </tr>\n  </tbody>\n</table>\n</div>"
     },
     "metadata": {},
     "execution_count": 7
    }
   ],
   "source": [
    "df1.head()"
   ]
  },
  {
   "source": [
    "### 2. Nettoyage des données\n",
    "\n",
    "Maintenant que nous disposons de nos deux bases, nous allons travailler sur celles-ci de sorte à les rendre plus maniables : nous procédons donc au nettoyage des données."
   ],
   "cell_type": "markdown",
   "metadata": {}
  },
  {
   "source": [
    "Dans le tableau webscrapé, conservons uniquement les variables \"Nom\", \"Prénom\" et \"Statut\" et convertissons la casse des modalités et des variables, dans l'optique de les comparer avec celles de la table principale. "
   ],
   "cell_type": "markdown",
   "metadata": {}
  },
  {
   "cell_type": "code",
   "execution_count": 8,
   "metadata": {},
   "outputs": [
    {
     "output_type": "execute_result",
     "data": {
      "text/plain": [
       "                      Nom            Prénom                  Statut\n",
       "0                    abad            damien                 sortant\n",
       "1                  abadie          caroline  elue pour la 1ere fois\n",
       "2                    abba         bérangère  elue pour la 1ere fois\n",
       "3               acquaviva        jean-félix   elu pour la 1ere fois\n",
       "4                    adam           lénaïck   elu pour la 1ere fois\n",
       "5                    adam            damien   elu pour la 1ere fois\n",
       "6                 ahamada              saïd   elu pour la 1ere fois\n",
       "7                 alauzet              éric                 sortant\n",
       "8                     ali           ramlati  elue pour la 1ere fois\n",
       "9                   aliot             louis   elu pour la 1ere fois\n",
       "10                 amadou              aude  elue pour la 1ere fois\n",
       "11                  anato           patrice   elu pour la 1ere fois\n",
       "12                  andré          françois                 sortant\n",
       "13                anglade  pieyre-alexandre   elu pour la 1ere fois\n",
       "14               anthoine        emmanuelle  elue pour la 1ere fois\n",
       "15                ardouin     jean-philippe   elu pour la 1ere fois\n",
       "16                  arend        christophe   elu pour la 1ere fois\n",
       "17                  attal           gabriel   elu pour la 1ere fois\n",
       "18                 aubert            julien                 sortant\n",
       "19                auconie            sophie  elue pour la 1ere fois\n",
       "20                 autain        clémentine  elue pour la 1ere fois\n",
       "21                   avia          laetitia  elue pour la 1ere fois\n",
       "22              aviragnet              joël                  ancien\n",
       "23                 azerot      bruno nestor                 sortant\n",
       "24              bachelier           florian   elu pour la 1ere fois\n",
       "25                bagarry          delphine  elue pour la 1ere fois\n",
       "26               baichère            didier   elu pour la 1ere fois\n",
       "27               balanant             erwan   elu pour la 1ere fois\n",
       "28                bannier         géraldine  elue pour la 1ere fois\n",
       "29                barbier          frédéric                 sortant\n",
       "..                    ...               ...                     ...\n",
       "547              valentin          isabelle  elue pour la 1ere fois\n",
       "548      valetta ardisson         alexandra  elue pour la 1ere fois\n",
       "549               vallaud             boris   elu pour la 1ere fois\n",
       "550                 valls            manuel                 sortant\n",
       "551  vanceunebrock-mialon          laurence  elue pour la 1ere fois\n",
       "552                 vatin            pierre   elu pour la 1ere fois\n",
       "553              vercamer           francis                 sortant\n",
       "554              verchère           patrice                 sortant\n",
       "555       verdier-jouclas   marie-christine  elue pour la 1ere fois\n",
       "556                 viala            arnaud                 sortant\n",
       "557                vialay            michel   elu pour la 1ere fois\n",
       "558           vichnievsky          laurence  elue pour la 1ere fois\n",
       "559                 vidal             annie  elue pour la 1ere fois\n",
       "560                vigier          philippe                 sortant\n",
       "561                vigier       jean-pierre                 sortant\n",
       "562                vignal           patrick                 sortant\n",
       "563                vignon           corinne  elue pour la 1ere fois\n",
       "564               villani            cédric   elu pour la 1ere fois\n",
       "565              villiers             andré   elu pour la 1ere fois\n",
       "566                  viry          stéphane   elu pour la 1ere fois\n",
       "567             vuilletet         guillaume   elu pour la 1ere fois\n",
       "568                 véran           olivier                  ancien\n",
       "569              warsmann          jean-luc                 sortant\n",
       "570              waserman           sylvain   elu pour la 1ere fois\n",
       "571                woerth              éric                 sortant\n",
       "572                wonner           martine  elue pour la 1ere fois\n",
       "573              wulfranc            hubert   elu pour la 1ere fois\n",
       "574               zannier            hélène  elue pour la 1ere fois\n",
       "575                zulesi         jean-marc   elu pour la 1ere fois\n",
       "576             zumkeller            michel                 sortant\n",
       "\n",
       "[577 rows x 3 columns]"
      ],
      "text/html": "<div>\n<style scoped>\n    .dataframe tbody tr th:only-of-type {\n        vertical-align: middle;\n    }\n\n    .dataframe tbody tr th {\n        vertical-align: top;\n    }\n\n    .dataframe thead th {\n        text-align: right;\n    }\n</style>\n<table border=\"1\" class=\"dataframe\">\n  <thead>\n    <tr style=\"text-align: right;\">\n      <th></th>\n      <th>Nom</th>\n      <th>Prénom</th>\n      <th>Statut</th>\n    </tr>\n  </thead>\n  <tbody>\n    <tr>\n      <th>0</th>\n      <td>abad</td>\n      <td>damien</td>\n      <td>sortant</td>\n    </tr>\n    <tr>\n      <th>1</th>\n      <td>abadie</td>\n      <td>caroline</td>\n      <td>elue pour la 1ere fois</td>\n    </tr>\n    <tr>\n      <th>2</th>\n      <td>abba</td>\n      <td>bérangère</td>\n      <td>elue pour la 1ere fois</td>\n    </tr>\n    <tr>\n      <th>3</th>\n      <td>acquaviva</td>\n      <td>jean-félix</td>\n      <td>elu pour la 1ere fois</td>\n    </tr>\n    <tr>\n      <th>4</th>\n      <td>adam</td>\n      <td>lénaïck</td>\n      <td>elu pour la 1ere fois</td>\n    </tr>\n    <tr>\n      <th>5</th>\n      <td>adam</td>\n      <td>damien</td>\n      <td>elu pour la 1ere fois</td>\n    </tr>\n    <tr>\n      <th>6</th>\n      <td>ahamada</td>\n      <td>saïd</td>\n      <td>elu pour la 1ere fois</td>\n    </tr>\n    <tr>\n      <th>7</th>\n      <td>alauzet</td>\n      <td>éric</td>\n      <td>sortant</td>\n    </tr>\n    <tr>\n      <th>8</th>\n      <td>ali</td>\n      <td>ramlati</td>\n      <td>elue pour la 1ere fois</td>\n    </tr>\n    <tr>\n      <th>9</th>\n      <td>aliot</td>\n      <td>louis</td>\n      <td>elu pour la 1ere fois</td>\n    </tr>\n    <tr>\n      <th>10</th>\n      <td>amadou</td>\n      <td>aude</td>\n      <td>elue pour la 1ere fois</td>\n    </tr>\n    <tr>\n      <th>11</th>\n      <td>anato</td>\n      <td>patrice</td>\n      <td>elu pour la 1ere fois</td>\n    </tr>\n    <tr>\n      <th>12</th>\n      <td>andré</td>\n      <td>françois</td>\n      <td>sortant</td>\n    </tr>\n    <tr>\n      <th>13</th>\n      <td>anglade</td>\n      <td>pieyre-alexandre</td>\n      <td>elu pour la 1ere fois</td>\n    </tr>\n    <tr>\n      <th>14</th>\n      <td>anthoine</td>\n      <td>emmanuelle</td>\n      <td>elue pour la 1ere fois</td>\n    </tr>\n    <tr>\n      <th>15</th>\n      <td>ardouin</td>\n      <td>jean-philippe</td>\n      <td>elu pour la 1ere fois</td>\n    </tr>\n    <tr>\n      <th>16</th>\n      <td>arend</td>\n      <td>christophe</td>\n      <td>elu pour la 1ere fois</td>\n    </tr>\n    <tr>\n      <th>17</th>\n      <td>attal</td>\n      <td>gabriel</td>\n      <td>elu pour la 1ere fois</td>\n    </tr>\n    <tr>\n      <th>18</th>\n      <td>aubert</td>\n      <td>julien</td>\n      <td>sortant</td>\n    </tr>\n    <tr>\n      <th>19</th>\n      <td>auconie</td>\n      <td>sophie</td>\n      <td>elue pour la 1ere fois</td>\n    </tr>\n    <tr>\n      <th>20</th>\n      <td>autain</td>\n      <td>clémentine</td>\n      <td>elue pour la 1ere fois</td>\n    </tr>\n    <tr>\n      <th>21</th>\n      <td>avia</td>\n      <td>laetitia</td>\n      <td>elue pour la 1ere fois</td>\n    </tr>\n    <tr>\n      <th>22</th>\n      <td>aviragnet</td>\n      <td>joël</td>\n      <td>ancien</td>\n    </tr>\n    <tr>\n      <th>23</th>\n      <td>azerot</td>\n      <td>bruno nestor</td>\n      <td>sortant</td>\n    </tr>\n    <tr>\n      <th>24</th>\n      <td>bachelier</td>\n      <td>florian</td>\n      <td>elu pour la 1ere fois</td>\n    </tr>\n    <tr>\n      <th>25</th>\n      <td>bagarry</td>\n      <td>delphine</td>\n      <td>elue pour la 1ere fois</td>\n    </tr>\n    <tr>\n      <th>26</th>\n      <td>baichère</td>\n      <td>didier</td>\n      <td>elu pour la 1ere fois</td>\n    </tr>\n    <tr>\n      <th>27</th>\n      <td>balanant</td>\n      <td>erwan</td>\n      <td>elu pour la 1ere fois</td>\n    </tr>\n    <tr>\n      <th>28</th>\n      <td>bannier</td>\n      <td>géraldine</td>\n      <td>elue pour la 1ere fois</td>\n    </tr>\n    <tr>\n      <th>29</th>\n      <td>barbier</td>\n      <td>frédéric</td>\n      <td>sortant</td>\n    </tr>\n    <tr>\n      <th>...</th>\n      <td>...</td>\n      <td>...</td>\n      <td>...</td>\n    </tr>\n    <tr>\n      <th>547</th>\n      <td>valentin</td>\n      <td>isabelle</td>\n      <td>elue pour la 1ere fois</td>\n    </tr>\n    <tr>\n      <th>548</th>\n      <td>valetta ardisson</td>\n      <td>alexandra</td>\n      <td>elue pour la 1ere fois</td>\n    </tr>\n    <tr>\n      <th>549</th>\n      <td>vallaud</td>\n      <td>boris</td>\n      <td>elu pour la 1ere fois</td>\n    </tr>\n    <tr>\n      <th>550</th>\n      <td>valls</td>\n      <td>manuel</td>\n      <td>sortant</td>\n    </tr>\n    <tr>\n      <th>551</th>\n      <td>vanceunebrock-mialon</td>\n      <td>laurence</td>\n      <td>elue pour la 1ere fois</td>\n    </tr>\n    <tr>\n      <th>552</th>\n      <td>vatin</td>\n      <td>pierre</td>\n      <td>elu pour la 1ere fois</td>\n    </tr>\n    <tr>\n      <th>553</th>\n      <td>vercamer</td>\n      <td>francis</td>\n      <td>sortant</td>\n    </tr>\n    <tr>\n      <th>554</th>\n      <td>verchère</td>\n      <td>patrice</td>\n      <td>sortant</td>\n    </tr>\n    <tr>\n      <th>555</th>\n      <td>verdier-jouclas</td>\n      <td>marie-christine</td>\n      <td>elue pour la 1ere fois</td>\n    </tr>\n    <tr>\n      <th>556</th>\n      <td>viala</td>\n      <td>arnaud</td>\n      <td>sortant</td>\n    </tr>\n    <tr>\n      <th>557</th>\n      <td>vialay</td>\n      <td>michel</td>\n      <td>elu pour la 1ere fois</td>\n    </tr>\n    <tr>\n      <th>558</th>\n      <td>vichnievsky</td>\n      <td>laurence</td>\n      <td>elue pour la 1ere fois</td>\n    </tr>\n    <tr>\n      <th>559</th>\n      <td>vidal</td>\n      <td>annie</td>\n      <td>elue pour la 1ere fois</td>\n    </tr>\n    <tr>\n      <th>560</th>\n      <td>vigier</td>\n      <td>philippe</td>\n      <td>sortant</td>\n    </tr>\n    <tr>\n      <th>561</th>\n      <td>vigier</td>\n      <td>jean-pierre</td>\n      <td>sortant</td>\n    </tr>\n    <tr>\n      <th>562</th>\n      <td>vignal</td>\n      <td>patrick</td>\n      <td>sortant</td>\n    </tr>\n    <tr>\n      <th>563</th>\n      <td>vignon</td>\n      <td>corinne</td>\n      <td>elue pour la 1ere fois</td>\n    </tr>\n    <tr>\n      <th>564</th>\n      <td>villani</td>\n      <td>cédric</td>\n      <td>elu pour la 1ere fois</td>\n    </tr>\n    <tr>\n      <th>565</th>\n      <td>villiers</td>\n      <td>andré</td>\n      <td>elu pour la 1ere fois</td>\n    </tr>\n    <tr>\n      <th>566</th>\n      <td>viry</td>\n      <td>stéphane</td>\n      <td>elu pour la 1ere fois</td>\n    </tr>\n    <tr>\n      <th>567</th>\n      <td>vuilletet</td>\n      <td>guillaume</td>\n      <td>elu pour la 1ere fois</td>\n    </tr>\n    <tr>\n      <th>568</th>\n      <td>véran</td>\n      <td>olivier</td>\n      <td>ancien</td>\n    </tr>\n    <tr>\n      <th>569</th>\n      <td>warsmann</td>\n      <td>jean-luc</td>\n      <td>sortant</td>\n    </tr>\n    <tr>\n      <th>570</th>\n      <td>waserman</td>\n      <td>sylvain</td>\n      <td>elu pour la 1ere fois</td>\n    </tr>\n    <tr>\n      <th>571</th>\n      <td>woerth</td>\n      <td>éric</td>\n      <td>sortant</td>\n    </tr>\n    <tr>\n      <th>572</th>\n      <td>wonner</td>\n      <td>martine</td>\n      <td>elue pour la 1ere fois</td>\n    </tr>\n    <tr>\n      <th>573</th>\n      <td>wulfranc</td>\n      <td>hubert</td>\n      <td>elu pour la 1ere fois</td>\n    </tr>\n    <tr>\n      <th>574</th>\n      <td>zannier</td>\n      <td>hélène</td>\n      <td>elue pour la 1ere fois</td>\n    </tr>\n    <tr>\n      <th>575</th>\n      <td>zulesi</td>\n      <td>jean-marc</td>\n      <td>elu pour la 1ere fois</td>\n    </tr>\n    <tr>\n      <th>576</th>\n      <td>zumkeller</td>\n      <td>michel</td>\n      <td>sortant</td>\n    </tr>\n  </tbody>\n</table>\n<p>577 rows × 3 columns</p>\n</div>"
     },
     "metadata": {},
     "execution_count": 8
    }
   ],
   "source": [
    "df1 = df1[['Nom','Prénom','Statut']] # On ne conserve que 3 variables.\n",
    "# On modifie la casse des modalités.\n",
    "df1[\"Nom\"] = df1[\"Nom\"].str.lower()\n",
    "df1[\"Prénom\"] = df1[\"Prénom\"].str.lower()\n",
    "df1[\"Statut\"] = df1[\"Statut\"].str.lower()\n",
    "df1"
   ]
  },
  {
   "source": [
    "On concatène le nom et le prénom pour ne conserver que le patronyme complet et le comparer avec celui de l'autre base. "
   ],
   "cell_type": "markdown",
   "metadata": {}
  },
  {
   "cell_type": "code",
   "execution_count": 9,
   "metadata": {},
   "outputs": [],
   "source": [
    "df1['Nom'] = df1['Prénom'] + ' ' + df1['Nom'] \n",
    "df1 = df1.drop(['Prénom'], axis=1) # On retire donc la variable 'Prénom', désormais inutile."
   ]
  },
  {
   "source": [
    "Afin d'uniformiser les styles d'écriture, on enlève désormais les mots vides (ici les déterminants \"de\" fréquemment présents dans les noms de famille), car ils ne sont pas écrits de la même manière dans les deux bases. "
   ],
   "cell_type": "markdown",
   "metadata": {}
  },
  {
   "cell_type": "code",
   "execution_count": 10,
   "metadata": {},
   "outputs": [],
   "source": [
    "replace_values_ean = {' de ':' ', ' (de) ':' '}\n",
    "\n",
    "# On crée la fonction de nettoyage qui retire le déterminant \"de\".\n",
    "def clean_dataset(data): \n",
    "    data.replace({'nom': replace_values_ean, 'Nom' : replace_values_ean},regex=True,inplace=True)\n",
    "    return data"
   ]
  },
  {
   "cell_type": "code",
   "execution_count": 11,
   "metadata": {},
   "outputs": [
    {
     "output_type": "execute_result",
     "data": {
      "text/plain": [
       "eine-Saint-Denis)         75   \n",
       "19    Encausse-les-Thermes (Haute-Garonne)         31   \n",
       "20                    Thionville (Moselle)         35   \n",
       "21                            Lyon (Rhône)         04   \n",
       "22                           Limoux (Aude)         78   \n",
       "23                      Lorient (Morbihan)         29   \n",
       "24                         Laval (Mayenne)         53   \n",
       "25                      Audincourt (Doubs)         25   \n",
       "26                           Paris (Paris)         78   \n",
       "27                  Saint-Pierre (Réunion)        974   \n",
       "28                     Paris 12ème (Paris)         79   \n",
       "29                        Grenoble (Isère)         38   \n",
       "..                                     ...        ...   \n",
       "509            Trois-Rivières (Guadeloupe)        971   \n",
       "510             Puy-en-Velay (Haute-Loire)         43   \n",
       "511               Cannes (Alpes-Maritimes)         06   \n",
       "512                       Beyrouth (Liban)         40   \n",
       "513                  Avion (Pas-de-Calais)         03   \n",
       "514                  Saint-Quentin (Aisne)         60   \n",
       "515                   Albertville (Savoie)         78   \n",
       "516  Saint-Yrieix-la-Perche (Haute-Vienne)         87   \n",
       "517                            Albi (Tarn)         81   \n",
       "518                       Millau (Aveyron)         12   \n",
       "519                    Paris 20ème (Paris)         78   \n",
       "520  Boulogne-Billancourt (Hauts-de-Seine)         63   \n",
       "521                         Bône (Algérie)         07   \n",
       "522            La Bohalle (Maine-et-Loire)         76   \n",
       "523                        Valence (Drôme)         28   \n",
       "524                  Brioude (Haute-Loire)         43   \n",
       "525                  Montpellier (Hérault)         34   \n",
       "526                  Agen (Lot-et-Garonne)         31   \n",
       "527                        Brive (Corrèze)         91   \n",
       "528                        Avallon (Yonne)         89   \n",
       "529                        Épinal (Vosges)         88   \n",
       "530                        Beauvais (Oise)         95   \n",
       "531             Villers-Semeuse (Ardennes)         08   \n",
       "532                       Paris 07 (Paris)         67   \n",
       "533                           Creil (Oise)         60   \n",
       "534                      Hayange (Moselle)         67   \n",
       "535                 Rouen (Seine-Maritime)         76   \n",
       "536                  Saint-Avold (Moselle)         57   \n",
       "537           Marseille (Bouches-du-Rhône)         13   \n",
       "538        Belfort (Territoire de Belfort)         90   \n",
       "\n",
       "                           nom_circo  num_circo  ... hemicycle_interventions  \\\n",
       "0                                Ain          5  ...                     253   \n",
       "1                              Isère          8  ...                      17   \n",
       "2                        Haute-Corse          2  ...                     109   \n",
       "3                             Guyane          2  ...                       3   \n",
       "4                     Seine-Maritime          1  ...                      24   \n",
       "5                   Bouches-du-Rhône          7  ...                       8   \n",
       "6                              Doubs          2  ...                       3   \n",
       "7                            Mayotte          1  ...                       5   \n",
       "8                   Loire-Atlantique          4  ...                       2   \n",
       "9                  Seine-Saint-Denis          3  ...                       5   \n",
       "10   Français établis hors de France          4  ...                       8   \n",
       "11                             Drôme          4  ...                      64   \n",
       "12                 Charente-Maritime          3  ...                       4   \n",
       "13                           Moselle          6  ...                       1   \n",
       "14                           Essonne          6  ...                      19   \n",
       "15                          Vaucluse          5  ...                     285   \n",
       "16                    Indre-et-Loire          3  ...                     183   \n",
       "17                 Seine-Saint-Denis         11  ...                     401   \n",
       "18                             Paris          8  ...                     114   \n",
       "19                     Haute-Garonne          8  ...                     127   \n",
       "20                   Ille-et-Vilaine          8  ...                       7   \n",
       "21           Alpes-de-Haute-Provence          1  ...                      55   \n",
       "22                          Yvelines          1  ...                      14   \n",
       "23                         Finistère          8  ...                     320   \n",
       "24                           Mayenne          2  ...                      74   \n",
       "25                             Doubs          4  ...                       0   \n",
       "26                          Yvelines          2  ...                      93   \n",
       "27                           Réunion          3  ...                      14   \n",
       "28                       Deux-Sèvres          2  ...                     180   \n",
       "29                             Isère          4  ...                     181   \n",
       "..                               ...        ...  ...                     ...   \n",
       "509                       Guadeloupe          4  ...                      15   \n",
       "510                      Haute-Loire          1  ...                      85   \n",
       "511                  Alpes-Maritimes          4  ...                       2   \n",
       "512                           Landes          3  ...                     376   \n",
       "513                           Allier          2  ...                      22   \n",
       "514                             Oise          5  ...                      60   \n",
       "515                         Yvelines          7  ...                      76   \n",
       "516                     Haute-Vienne          2  ...                       1   \n",
       "517                             Tarn          2  ...                     185   \n",
       "518                          Aveyron          3  ...                     176   \n",
       "519                         Yvelines          8  ...                      21   \n",
       "520                      Puy-de-Dôme          3  ...                      27   \n",
       "521                          Ardèche          2  ...                      92   \n",
       "522                   Seine-Maritime          2  ...                      16   \n",
       "523                     Eure-et-Loir          4  ...                     278   \n",
       "524                      Haute-Loire          2  ...                      65   \n",
       "525                          Hérault          9  ...                       0   \n",
       "526                    Haute-Garonne          3  ...                      34   \n",
       "527                          Essonne          5  ...                      76   \n",
       "528                            Yonne          2  ...                       0   \n",
       "529                           Vosges          1  ...                     194   \n",
       "530                       Val-d'Oise          2  ...                      55   \n",
       "531                         Ardennes          3  ...                       8   \n",
       "532                         Bas-Rhin          2  ...                    1472   \n",
       "533                             Oise          4  ...                     521   \n",
       "534                         Bas-Rhin          4  ...                      61   \n",
       "535                   Seine-Maritime          3  ...                     211   \n",
       "536                          Moselle          7  ...                       9   \n",
       "537                 Bouches-du-Rhône          8  ...                      40   \n",
       "538            Territoire de Belfort          2  ...                      39   \n",
       "\n",
       "     hemicycle_interventions_courtes  amendements_proposes amendements_signes  \\\n",
       "0                                307                    19               1736   \n",
       "1                                  8                    14                362   \n",
       "2                                  9                   186               2309   \n",
       "3                                  0                    15                581   \n",
       "4                                  7                    74                687   \n",
       "5                                  1                    14                394   \n",
       "6                                  1                    14                541   \n",
       "7                                  2                    18                485   \n",
       "8                                  1                     8                334   \n",
       "9                                  0                    16                574   \n",
       "10                                 0                     5                425   \n",
       "11                                94                   600               7380   \n",
       "12                                 1                    54                790   \n",
       "13                                 1                     2                435   \n",
       "14                                 1                     9                616   \n",
       "15                               239                   269               2585   \n",
       "16                                77                   143               1526   \n",
       "17                               168                  2635               5276   \n",
       "18                                26                    53                451   \n",
       "19                                42                   258               3679   \n",
       "20                                10                     2                290   \n",
       "21                                 5                   115               1694   \n",
       "22                                 5                    37                831   \n",
       "23                               453                    81                847   \n",
       "24                                 5                    78                817   \n",
       "25                                 0                     1                514   \n",
       "26                                 6                   143                741   \n",
       "27                                 0                    34               1298   \n",
       "28                                72                   136                435   \n",
       "29                               140                   161               3746   \n",
       "..                               ...                   ...                ...   \n",
       "509                                0                    69               3833   \n",
       "510                               24                   242               4335   \n",
       "511                                0                    24                449   \n",
       "512                              359                   968               3783   \n",
       "513                                6                    19               1262   \n",
       "514                               60                   155               2911   \n",
       "515                                9                    77                871   \n",
       "516                                0                    12                618   \n",
       "517                              236                   123                660   \n",
       "518                               32                   254               4646   \n",
       "519                                2                    39               1268   \n",
       "520                                4                    17                683   \n",
       "521                                8                    94               3670   \n",
       "522                                2                    39                549   \n",
       "523                              194                   192               2066   \n",
       "524                              121                   184               2844   \n",
       "525                                0                    22               1444   \n",
       "526                                6                    11                544   \n",
       "527                               12                    98                974   \n",
       "528                                0                     2               1157   \n",
       "529                               38                   526               3216   \n",
       "530                                8                    21                387   \n",
       "531                                9                    13               1229   \n",
       "532                             5966                     1                667   \n",
       "533                              162                   201                514   \n",
       "534                                6                   249               1581   \n",
       "535                              143                   895               2776   \n",
       "536                                3                    25                475   \n",
       "537                               37                   105               1111   \n",
       "538                               11                    18               1603   \n",
       "\n",
       "    amendements_adoptes rapports  propositions_ecrites  propositions_signees  \\\n",
       "0                    63        0                     0                    25   \n",
       "1                   196        0                     0                     3   \n",
       "2                    89        0                     0                     4   \n",
       "3                   175        0                     0                     4   \n",
       "4                   225        0                     0                     4   \n",
       "5                   200        0                     0                     4   \n",
       "6                   191        0                     0                     4   \n",
       "7                   163        0                     0                     3   \n",
       "8                   144        0                     0                     3   \n",
       "9                   197        1                     0                     4   \n",
       "10                  213        0                     0                     3   \n",
       "11                  213        0                     2                    34   \n",
       "12                  171        0                     0                     4   \n",
       "13                  193        0                     0                     4   \n",
       "14                  204        0                     0                     3   \n",
       "15                   61        0                     0                    13   \n",
       "16                   63        0                     1                    10   \n",
       "17                   38        0                     0                    14   \n",
       "18                  242        0                     0                     5   \n",
       "19                  158        0                     0                     7   \n",
       "20                  146        0                     0                     3   \n",
       "21                  174        0                     0                     3   \n",
       "22                  224        0                     0                     3   \n",
       "23                  194        1                     0                     2   \n",
       "24                  165        0                     0                     0   \n",
       "25                  162        0                     0                     3   \n",
       "26                  155        0                     0                     5   \n",
       "27                   32        0                     0                    13   \n",
       "28                   25        0                     0                     2   \n",
       "29                  170        0                     0                     5   \n",
       "..                  ...      ...                   ...                   ...   \n",
       "509                 161        0                     0                     6   \n",
       "510                  91        0                     0                    15   \n",
       "511                 168        0                     0                     4   \n",
       "512                 158        1                     1                     8   \n",
       "513                 265        0                     0                     4   \n",
       "514                  73        0                     0                    17   \n",
       "515                 155        0                     0                     1   \n",
       "516                 190        0                     0                     4   \n",
       "517                 297        0                     0                     4   \n",
       "518                 137        0                     0                    34   \n",
       "519                  45        0                     0                    16   \n",
       "520                 139        0                     0                     0   \n",
       "521                 168        0                     0                     8   \n",
       "522                 209        0                     0                     3   \n",
       "523                  93        0                     1                     5   \n",
       "524                  63        0                     0                     4   \n",
       "525                 282        0                     0                     6   \n",
       "526                 209        0                     0                     3   \n",
       "527                 152        1                     0                     4   \n",
       "528                  36        0                     0                     1   \n",
       "529                  92        0                     4                    16   \n",
       "530                 222        0                     0                     4   \n",
       "531                  41        0                     2                     7   \n",
       "532                 138        0                     0                     1   \n",
       "533                  27        1                     1                     3   \n",
       "534                 157        0                     0                     3   \n",
       "535                  70        0                     0                     8   \n",
       "536                 214        0                     0                     4   \n",
       "537                 279        0                     0                     4   \n",
       "538                  61        0                     0                     3   \n",
       "\n",
       "    questions_ecrites  questions_orales  \n",
       "0                  38                 9  \n",
       "1                   3                 0  \n",
       "2                  22                 3  \n",
       "3                   1                 0  \n",
       "4                  10                 2  \n",
       "5                   0                 1  \n",
       "6                  19                 0  \n",
       "7                   2                 4  \n",
       "8                   0                 0  \n",
       "9                  16                 2  \n",
       "10                  2                 3  \n",
       "11                 44                 4  \n",
       "12                 28                 1  \n",
       "13                 14                 0  \n",
       "14                 10                 5  \n",
       "15                 18                 7  \n",
       "16                  7                 6  \n",
       "17                 38                 8  \n",
       "18                  0                 1  \n",
       "19                 12                 5  \n",
       "20                  0                 1  \n",
       "21                 13                 3  \n",
       "22                  1                 0  \n",
       "23                  4                 3  \n",
       "24                  6                 6  \n",
       "25                 16                 0  \n",
       "26                  4                 4  \n",
       "27                  5                 2  \n",
       "28                 10                 2  \n",
       "29                 20                 8  \n",
       "..                ...               ...  \n",
       "509                 0                 1  \n",
       "510                36                 3  \n",
       "511                64                 1  \n",
       "512                26                 9  \n",
       "513                 8                 0  \n",
       "514                30                 8  \n",
       "515                 4                 6  \n",
       "516                15                 0  \n",
       "517                 3                 1  \n",
       "518                26                10  \n",
       "519                10                 2  \n",
       "520                 0                 3  \n",
       "521                10                10  \n",
       "522                 3                 3  \n",
       "523                 1                13  \n",
       "524                28                 5  \n",
       "525                55                 0  \n",
       "526                54                 2  \n",
       "527                10                 0  \n",
       "528                 0                 0  \n",
       "529                34                 7  \n",
       "530                14                 0  \n",
       "531                41                 5  \n",
       "532                23                 2  \n",
       "533                13                 4  \n",
       "534                14                 3  \n",
       "535                35                16  \n",
       "536                12                 0  \n",
       "537                52                 4  \n",
       "538                15                 4  \n",
       "\n",
       "[539 rows x 40 columns]"
      ],
      "text/html": "<div>\n<style scoped>\n    .dataframe tbody tr th:only-of-type {\n        vertical-align: middle;\n    }\n\n    .dataframe tbody tr th {\n        vertical-align: top;\n    }\n\n    .dataframe thead th {\n        text-align: right;\n    }\n</style>\n<table border=\"1\" class=\"dataframe\">\n  <thead>\n    <tr style=\"text-align: right;\">\n      <th></th>\n      <th>id</th>\n      <th>nom</th>\n      <th>nom_de_famille</th>\n      <th>prenom</th>\n      <th>sexe</th>\n      <th>date_naissance</th>\n      <th>lieu_naissance</th>\n      <th>num_deptmt</th>\n      <th>nom_circo</th>\n      <th>num_circo</th>\n      <th>...</th>\n      <th>hemicycle_interventions</th>\n      <th>hemicycle_interventions_courtes</th>\n      <th>amendements_proposes</th>\n      <th>amendements_signes</th>\n      <th>amendements_adoptes</th>\n      <th>rapports</th>\n      <th>propositions_ecrites</th>\n      <th>propositions_signees</th>\n      <th>questions_ecrites</th>\n      <th>questions_orales</th>\n    </tr>\n  </thead>\n  <tbody>\n    <tr>\n      <th>0</th>\n      <td>32</td>\n      <td>damien abad</td>\n      <td>Abad</td>\n      <td>Damien</td>\n      <td>H</td>\n      <td>1980-04-05</td>\n      <td>Nîmes (Gard)</td>\n      <td>01</td>\n      <td>Ain</td>\n      <td>5</td>\n      <td>...</td>\n      <td>253</td>\n      <td>307</td>\n      <td>19</td>\n      <td>1736</td>\n      <td>63</td>\n      <td>0</td>\n      <td>0</td>\n      <td>25</td>\n      <td>38</td>\n      <td>9</td>\n    </tr>\n    <tr>\n      <th>1</th>\n      <td>43</td>\n      <td>caroline abadie</td>\n      <td>Abadie</td>\n      <td>Caroline</td>\n      <td>F</td>\n      <td>1976-09-07</td>\n      <td>Saint-Martin-d'Hères (Isère)</td>\n      <td>38</td>\n      <td>Isère</td>\n      <td>8</td>\n      <td>...</td>\n      <td>17</td>\n      <td>8</td>\n      <td>14</td>\n      <td>362</td>\n      <td>196</td>\n      <td>0</td>\n      <td>0</td>\n      <td>3</td>\n      <td>3</td>\n      <td>0</td>\n    </tr>\n    <tr>\n      <th>2</th>\n      <td>493</td>\n      <td>jean-félix acquaviva</td>\n      <td>Acquaviva</td>\n      <td>Jean-Félix</td>\n      <td>H</td>\n      <td>1973-03-19</td>\n      <td>Bastia (Haute-Corse)</td>\n      <td>2B</td>\n      <td>Haute-Corse</td>\n      <td>2</td>\n      <td>...</td>\n      <td>109</td>\n      <td>9</td>\n      <td>186</td>\n      <td>2309</td>\n      <td>89</td>\n      <td>0</td>\n      <td>0</td>\n      <td>4</td>\n      <td>22</td>\n      <td>3</td>\n    </tr>\n    <tr>\n      <th>3</th>\n      <td>152</td>\n      <td>lénaïck adam</td>\n      <td>Adam</td>\n      <td>Lénaïck</td>\n      <td>H</td>\n      <td>1992-02-19</td>\n      <td>Saint Laurent du Maroni (Guyane)</td>\n      <td>973</td>\n      <td>Guyane</td>\n      <td>2</td>\n      <td>...</td>\n      <td>3</td>\n      <td>0</td>\n      <td>15</td>\n      <td>581</td>\n      <td>175</td>\n      <td>0</td>\n      <td>0</td>\n      <td>4</td>\n      <td>1</td>\n      <td>0</td>\n    </tr>\n    <tr>\n      <th>4</th>\n      <td>234</td>\n      <td>damien adam</td>\n      <td>Adam</td>\n      <td>Damien</td>\n      <td>H</td>\n      <td>1989-06-28</td>\n      <td>Orléans (Loiret)</td>\n      <td>76</td>\n      <td>Seine-Maritime</td>\n      <td>1</td>\n      <td>...</td>\n      <td>24</td>\n      <td>7</td>\n      <td>74</td>\n      <td>687</td>\n      <td>225</td>\n      <td>0</td>\n      <td>0</td>\n      <td>4</td>\n      <td>10</td>\n      <td>2</td>\n    </tr>\n    <tr>\n      <th>5</th>\n      <td>135</td>\n      <td>saïd ahamada</td>\n      <td>Ahamada</td>\n      <td>Saïd</td>\n      <td>H</td>\n      <td>1972-11-07</td>\n      <td>Saint-Denis (Réunion)</td>\n      <td>13</td>\n      <td>Bouches-du-Rhône</td>\n      <td>7</td>\n      <td>...</td>\n      <td>8</td>\n      <td>1</td>\n      <td>14</td>\n      <td>394</td>\n      <td>200</td>\n      <td>0</td>\n      <td>0</td>\n      <td>4</td>\n      <td>0</td>\n      <td>1</td>\n    </tr>\n    <tr>\n      <th>6</th>\n      <td>508</td>\n      <td>éric alauzet</td>\n      <td>Alauzet</td>\n      <td>Éric</td>\n      <td>H</td>\n      <td>1958-06-07</td>\n      <td>Nancy (Meurthe-et-Moselle)</td>\n      <td>25</td>\n      <td>Doubs</td>\n      <td>2</td>\n      <td>...</td>\n      <td>3</td>\n      <td>1</td>\n      <td>14</td>\n      <td>541</td>\n      <td>191</td>\n      <td>0</td>\n      <td>0</td>\n      <td>4</td>\n      <td>19</td>\n      <td>0</td>\n    </tr>\n    <tr>\n      <th>7</th>\n      <td>183</td>\n      <td>ramlati ali</td>\n      <td>Ali</td>\n      <td>Ramlati</td>\n      <td>F</td>\n      <td>1961-05-28</td>\n      <td>Pamandzi (Mayotte)</td>\n      <td>976</td>\n      <td>Mayotte</td>\n      <td>1</td>\n      <td>...</td>\n      <td>5</td>\n      <td>2</td>\n      <td>18</td>\n      <td>485</td>\n      <td>163</td>\n      <td>0</td>\n      <td>0</td>\n      <td>3</td>\n      <td>2</td>\n      <td>4</td>\n    </tr>\n    <tr>\n      <th>8</th>\n      <td>499</td>\n      <td>aude amadou</td>\n      <td>Amadou</td>\n      <td>Aude</td>\n      <td>F</td>\n      <td>1980-02-29</td>\n      <td>Coutances (Manche)</td>\n      <td>44</td>\n      <td>Loire-Atlantique</td>\n      <td>4</td>\n      <td>...</td>\n      <td>2</td>\n      <td>1</td>\n      <td>8</td>\n      <td>334</td>\n      <td>144</td>\n      <td>0</td>\n      <td>0</td>\n      <td>3</td>\n      <td>0</td>\n      <td>0</td>\n    </tr>\n    <tr>\n      <th>9</th>\n      <td>382</td>\n      <td>patrice anato</td>\n      <td>Anato</td>\n      <td>Patrice</td>\n      <td>H</td>\n      <td>1976-03-14</td>\n      <td>Lomé (Togo)</td>\n      <td>93</td>\n      <td>Seine-Saint-Denis</td>\n      <td>3</td>\n      <td>...</td>\n      <td>5</td>\n      <td>0</td>\n      <td>16</td>\n      <td>574</td>\n      <td>197</td>\n      <td>1</td>\n      <td>0</td>\n      <td>4</td>\n      <td>16</td>\n      <td>2</td>\n    </tr>\n    <tr>\n      <th>10</th>\n      <td>441</td>\n      <td>pieyre-alexandre anglade</td>\n      <td>Anglade</td>\n      <td>Pieyre-Alexandre</td>\n      <td>H</td>\n      <td>1986-11-02</td>\n      <td>Paris 16 (Paris)</td>\n      <td>999</td>\n      <td>Français établis hors de France</td>\n      <td>4</td>\n      <td>...</td>\n      <td>8</td>\n      <td>0</td>\n      <td>5</td>\n      <td>425</td>\n      <td>213</td>\n      <td>0</td>\n      <td>0</td>\n      <td>3</td>\n      <td>2</td>\n      <td>3</td>\n    </tr>\n    <tr>\n      <th>11</th>\n      <td>11</td>\n      <td>emmanuelle anthoine</td>\n      <td>Anthoine</td>\n      <td>Emmanuelle</td>\n      <td>F</td>\n      <td>1964-07-02</td>\n      <td>Saint-Vallier (Drôme)</td>\n      <td>26</td>\n      <td>Drôme</td>\n      <td>4</td>\n      <td>...</td>\n      <td>64</td>\n      <td>94</td>\n      <td>600</td>\n      <td>7380</td>\n      <td>213</td>\n      <td>0</td>\n      <td>2</td>\n      <td>34</td>\n      <td>44</td>\n      <td>4</td>\n    </tr>\n    <tr>\n      <th>12</th>\n      <td>564</td>\n      <td>jean-philippe ardouin</td>\n      <td>Ardouin</td>\n      <td>Jean-Philippe</td>\n      <td>H</td>\n      <td>1964-03-05</td>\n      <td>Saintes (Charente-Maritime)</td>\n      <td>17</td>\n      <td>Charente-Maritime</td>\n      <td>3</td>\n      <td>...</td>\n      <td>4</td>\n      <td>1</td>\n      <td>54</td>\n      <td>790</td>\n      <td>171</td>\n      <td>0</td>\n      <td>0</td>\n      <td>4</td>\n      <td>28</td>\n      <td>1</td>\n    </tr>\n    <tr>\n      <th>13</th>\n      <td>220</td>\n      <td>christophe arend</td>\n      <td>Arend</td>\n      <td>Christophe</td>\n      <td>H</td>\n      <td>1975-08-12</td>\n      <td>Forbach (Moselle)</td>\n      <td>57</td>\n      <td>Moselle</td>\n      <td>6</td>\n      <td>...</td>\n      <td>1</td>\n      <td>1</td>\n      <td>2</td>\n      <td>435</td>\n      <td>193</td>\n      <td>0</td>\n      <td>0</td>\n      <td>4</td>\n      <td>14</td>\n      <td>0</td>\n    </tr>\n    <tr>\n      <th>14</th>\n      <td>604</td>\n      <td>stéphanie atger</td>\n      <td>Atger</td>\n      <td>Stéphanie</td>\n      <td>F</td>\n      <td>1975-10-11</td>\n      <td>Sarcelles (Val-d'Oise)</td>\n      <td>91</td>\n      <td>Essonne</td>\n      <td>6</td>\n      <td>...</td>\n      <td>19</td>\n      <td>1</td>\n      <td>9</td>\n      <td>616</td>\n      <td>204</td>\n      <td>0</td>\n      <td>0</td>\n      <td>3</td>\n      <td>10</td>\n      <td>5</td>\n    </tr>\n    <tr>\n      <th>15</th>\n      <td>332</td>\n      <td>julien aubert</td>\n      <td>Aubert</td>\n      <td>Julien</td>\n      <td>H</td>\n      <td>1978-06-11</td>\n      <td>Marseille (Bouches-du-Rhône)</td>\n      <td>84</td>\n      <td>Vaucluse</td>\n      <td>5</td>\n      <td>...</td>\n      <td>285</td>\n      <td>239</td>\n      <td>269</td>\n      <td>2585</td>\n      <td>61</td>\n      <td>0</td>\n      <td>0</td>\n      <td>13</td>\n      <td>18</td>\n      <td>7</td>\n    </tr>\n    <tr>\n      <th>16</th>\n      <td>406</td>\n      <td>sophie auconie</td>\n      <td>Auconie</td>\n      <td>Sophie</td>\n      <td>F</td>\n      <td>1963-08-19</td>\n      <td>Dugny (Seine-Saint-Denis)</td>\n      <td>37</td>\n      <td>Indre-et-Loire</td>\n      <td>3</td>\n      <td>...</td>\n      <td>183</td>\n      <td>77</td>\n      <td>143</td>\n      <td>1526</td>\n      <td>63</td>\n      <td>0</td>\n      <td>1</td>\n      <td>10</td>\n      <td>7</td>\n      <td>6</td>\n    </tr>\n    <tr>\n      <th>17</th>\n      <td>404</td>\n      <td>clémentine autain</td>\n      <td>Autain</td>\n      <td>Clémentine</td>\n      <td>F</td>\n      <td>1973-05-26</td>\n      <td>Saint-Cloud (Hauts-de-Seine)</td>\n      <td>93</td>\n      <td>Seine-Saint-Denis</td>\n      <td>11</td>\n      <td>...</td>\n      <td>401</td>\n      <td>168</td>\n      <td>2635</td>\n      <td>5276</td>\n      <td>38</td>\n      <td>0</td>\n      <td>0</td>\n      <td>14</td>\n      <td>38</td>\n      <td>8</td>\n    </tr>\n    <tr>\n      <th>18</th>\n      <td>461</td>\n      <td>laetitia avia</td>\n      <td>Avia</td>\n      <td>Laetitia</td>\n      <td>F</td>\n      <td>1985-10-29</td>\n      <td>Livry-Gargan (Seine-Saint-Denis)</td>\n      <td>75</td>\n      <td>Paris</td>\n      <td>8</td>\n      <td>...</td>\n      <td>114</td>\n      <td>26</td>\n      <td>53</td>\n      <td>451</td>\n      <td>242</td>\n      <td>0</td>\n      <td>0</td>\n      <td>5</td>\n      <td>0</td>\n      <td>1</td>\n    </tr>\n    <tr>\n      <th>19</th>\n      <td>52</td>\n      <td>joël aviragnet</td>\n      <td>Aviragnet</td>\n      <td>Joël</td>\n      <td>H</td>\n      <td>1956-06-16</td>\n      <td>Encausse-les-Thermes (Haute-Garonne)</td>\n      <td>31</td>\n      <td>Haute-Garonne</td>\n      <td>8</td>\n      <td>...</td>\n      <td>127</td>\n      <td>42</td>\n      <td>258</td>\n      <td>3679</td>\n      <td>158</td>\n      <td>0</td>\n      <td>0</td>\n      <td>7</td>\n      <td>12</td>\n      <td>5</td>\n    </tr>\n    <tr>\n      <th>20</th>\n      <td>121</td>\n      <td>florian bachelier</td>\n      <td>Bachelier</td>\n      <td>Florian</td>\n      <td>H</td>\n      <td>1979-04-05</td>\n      <td>Thionville (Moselle)</td>\n      <td>35</td>\n      <td>Ille-et-Vilaine</td>\n      <td>8</td>\n      <td>...</td>\n      <td>7</td>\n      <td>10</td>\n      <td>2</td>\n      <td>290</td>\n      <td>146</td>\n      <td>0</td>\n      <td>0</td>\n      <td>3</td>\n      <td>0</td>\n      <td>1</td>\n    </tr>\n    <tr>\n      <th>21</th>\n      <td>59</td>\n      <td>delphine bagarry</td>\n      <td>Bagarry</td>\n      <td>Delphine</td>\n      <td>F</td>\n      <td>1970-01-09</td>\n      <td>Lyon (Rhône)</td>\n      <td>04</td>\n      <td>Alpes-de-Haute-Provence</td>\n      <td>1</td>\n      <td>...</td>\n      <td>55</td>\n      <td>5</td>\n      <td>115</td>\n      <td>1694</td>\n      <td>174</td>\n      <td>0</td>\n      <td>0</td>\n      <td>3</td>\n      <td>13</td>\n      <td>3</td>\n    </tr>\n    <tr>\n      <th>22</th>\n      <td>488</td>\n      <td>didier baichère</td>\n      <td>Baichère</td>\n      <td>Didier</td>\n      <td>H</td>\n      <td>1970-08-20</td>\n      <td>Limoux (Aude)</td>\n      <td>78</td>\n      <td>Yvelines</td>\n      <td>1</td>\n      <td>...</td>\n      <td>14</td>\n      <td>5</td>\n      <td>37</td>\n      <td>831</td>\n      <td>224</td>\n      <td>0</td>\n      <td>0</td>\n      <td>3</td>\n      <td>1</td>\n      <td>0</td>\n    </tr>\n    <tr>\n      <th>23</th>\n      <td>323</td>\n      <td>erwan balanant</td>\n      <td>Balanant</td>\n      <td>Erwan</td>\n      <td>H</td>\n      <td>1971-02-21</td>\n      <td>Lorient (Morbihan)</td>\n      <td>29</td>\n      <td>Finistère</td>\n      <td>8</td>\n      <td>...</td>\n      <td>320</td>\n      <td>453</td>\n      <td>81</td>\n      <td>847</td>\n      <td>194</td>\n      <td>1</td>\n      <td>0</td>\n      <td>2</td>\n      <td>4</td>\n      <td>3</td>\n    </tr>\n    <tr>\n      <th>24</th>\n      <td>41</td>\n      <td>géraldine bannier</td>\n      <td>Bannier</td>\n      <td>Géraldine</td>\n      <td>F</td>\n      <td>1979-11-22</td>\n      <td>Laval (Mayenne)</td>\n      <td>53</td>\n      <td>Mayenne</td>\n      <td>2</td>\n      <td>...</td>\n      <td>74</td>\n      <td>5</td>\n      <td>78</td>\n      <td>817</td>\n      <td>165</td>\n      <td>0</td>\n      <td>0</td>\n      <td>0</td>\n      <td>6</td>\n      <td>6</td>\n    </tr>\n    <tr>\n      <th>25</th>\n      <td>358</td>\n      <td>frédéric barbier</td>\n      <td>Barbier</td>\n      <td>Frédéric</td>\n      <td>H</td>\n      <td>1960-08-30</td>\n      <td>Audincourt (Doubs)</td>\n      <td>25</td>\n      <td>Doubs</td>\n      <td>4</td>\n      <td>...</td>\n      <td>0</td>\n      <td>0</td>\n      <td>1</td>\n      <td>514</td>\n      <td>162</td>\n      <td>0</td>\n      <td>0</td>\n      <td>3</td>\n      <td>16</td>\n      <td>0</td>\n    </tr>\n    <tr>\n      <th>26</th>\n      <td>106</td>\n      <td>jean-noël barrot</td>\n      <td>Barrot</td>\n      <td>Jean-Noël</td>\n      <td>H</td>\n      <td>1983-05-13</td>\n      <td>Paris (Paris)</td>\n      <td>78</td>\n      <td>Yvelines</td>\n      <td>2</td>\n      <td>...</td>\n      <td>93</td>\n      <td>6</td>\n      <td>143</td>\n      <td>741</td>\n      <td>155</td>\n      <td>0</td>\n      <td>0</td>\n      <td>5</td>\n      <td>4</td>\n      <td>4</td>\n    </tr>\n    <tr>\n      <th>27</th>\n      <td>217</td>\n      <td>nathalie bassire</td>\n      <td>Bassire</td>\n      <td>Nathalie</td>\n      <td>F</td>\n      <td>1968-01-22</td>\n      <td>Saint-Pierre (Réunion)</td>\n      <td>974</td>\n      <td>Réunion</td>\n      <td>3</td>\n      <td>...</td>\n      <td>14</td>\n      <td>0</td>\n      <td>34</td>\n      <td>1298</td>\n      <td>32</td>\n      <td>0</td>\n      <td>0</td>\n      <td>13</td>\n      <td>5</td>\n      <td>2</td>\n    </tr>\n    <tr>\n      <th>28</th>\n      <td>500</td>\n      <td>delphine batho</td>\n      <td>Batho</td>\n      <td>Delphine</td>\n      <td>F</td>\n      <td>1973-03-23</td>\n      <td>Paris 12ème (Paris)</td>\n      <td>79</td>\n      <td>Deux-Sèvres</td>\n      <td>2</td>\n      <td>...</td>\n      <td>180</td>\n      <td>72</td>\n      <td>136</td>\n      <td>435</td>\n      <td>25</td>\n      <td>0</td>\n      <td>0</td>\n      <td>2</td>\n      <td>10</td>\n      <td>2</td>\n    </tr>\n    <tr>\n      <th>29</th>\n      <td>209</td>\n      <td>marie-noëlle battistel</td>\n      <td>Battistel</td>\n      <td>Marie-Noëlle</td>\n      <td>F</td>\n      <td>1956-08-20</td>\n      <td>Grenoble (Isère)</td>\n      <td>38</td>\n      <td>Isère</td>\n      <td>4</td>\n      <td>...</td>\n      <td>181</td>\n      <td>140</td>\n      <td>161</td>\n      <td>3746</td>\n      <td>170</td>\n      <td>0</td>\n      <td>0</td>\n      <td>5</td>\n      <td>20</td>\n      <td>8</td>\n    </tr>\n    <tr>\n      <th>...</th>\n      <td>...</td>\n      <td>...</td>\n      <td>...</td>\n      <td>...</td>\n      <td>...</td>\n      <td>...</td>\n      <td>...</td>\n      <td>...</td>\n      <td>...</td>\n      <td>...</td>\n      <td>...</td>\n      <td>...</td>\n      <td>...</td>\n      <td>...</td>\n      <td>...</td>\n      <td>...</td>\n      <td>...</td>\n      <td>...</td>\n      <td>...</td>\n      <td>...</td>\n      <td>...</td>\n    </tr>\n    <tr>\n      <th>509</th>\n      <td>491</td>\n      <td>hélène vainqueur-christophe</td>\n      <td>Vainqueur-Christophe</td>\n      <td>Hélène</td>\n      <td>F</td>\n      <td>1956-05-06</td>\n      <td>Trois-Rivières (Guadeloupe)</td>\n      <td>971</td>\n      <td>Guadeloupe</td>\n      <td>4</td>\n      <td>...</td>\n      <td>15</td>\n      <td>0</td>\n      <td>69</td>\n      <td>3833</td>\n      <td>161</td>\n      <td>0</td>\n      <td>0</td>\n      <td>6</td>\n      <td>0</td>\n      <td>1</td>\n    </tr>\n    <tr>\n      <th>510</th>\n      <td>140</td>\n      <td>isabelle valentin</td>\n      <td>Valentin</td>\n      <td>Isabelle</td>\n      <td>F</td>\n      <td>1962-01-20</td>\n      <td>Puy-en-Velay (Haute-Loire)</td>\n      <td>43</td>\n      <td>Haute-Loire</td>\n      <td>1</td>\n      <td>...</td>\n      <td>85</td>\n      <td>24</td>\n      <td>242</td>\n      <td>4335</td>\n      <td>91</td>\n      <td>0</td>\n      <td>0</td>\n      <td>15</td>\n      <td>36</td>\n      <td>3</td>\n    </tr>\n    <tr>\n      <th>511</th>\n      <td>133</td>\n      <td>alexandra valetta ardisson</td>\n      <td>Valetta Ardisson</td>\n      <td>Alexandra</td>\n      <td>F</td>\n      <td>1976-06-07</td>\n      <td>Cannes (Alpes-Maritimes)</td>\n      <td>06</td>\n      <td>Alpes-Maritimes</td>\n      <td>4</td>\n      <td>...</td>\n      <td>2</td>\n      <td>0</td>\n      <td>24</td>\n      <td>449</td>\n      <td>168</td>\n      <td>0</td>\n      <td>0</td>\n      <td>4</td>\n      <td>64</td>\n      <td>1</td>\n    </tr>\n    <tr>\n      <th>512</th>\n      <td>76</td>\n      <td>boris vallaud</td>\n      <td>Vallaud</td>\n      <td>Boris</td>\n      <td>H</td>\n      <td>1975-07-25</td>\n      <td>Beyrouth (Liban)</td>\n      <td>40</td>\n      <td>Landes</td>\n      <td>3</td>\n      <td>...</td>\n      <td>376</td>\n      <td>359</td>\n      <td>968</td>\n      <td>3783</td>\n      <td>158</td>\n      <td>1</td>\n      <td>1</td>\n      <td>8</td>\n      <td>26</td>\n      <td>9</td>\n    </tr>\n    <tr>\n      <th>513</th>\n      <td>162</td>\n      <td>laurence vanceunebrock</td>\n      <td>Vanceunebrock</td>\n      <td>Laurence</td>\n      <td>F</td>\n      <td>1970-05-06</td>\n      <td>Avion (Pas-de-Calais)</td>\n      <td>03</td>\n      <td>Allier</td>\n      <td>2</td>\n      <td>...</td>\n      <td>22</td>\n      <td>6</td>\n      <td>19</td>\n      <td>1262</td>\n      <td>265</td>\n      <td>0</td>\n      <td>0</td>\n      <td>4</td>\n      <td>8</td>\n      <td>0</td>\n    </tr>\n    <tr>\n      <th>514</th>\n      <td>44</td>\n      <td>pierre vatin</td>\n      <td>Vatin</td>\n      <td>Pierre</td>\n      <td>H</td>\n      <td>1967-08-21</td>\n      <td>Saint-Quentin (Aisne)</td>\n      <td>60</td>\n      <td>Oise</td>\n      <td>5</td>\n      <td>...</td>\n      <td>60</td>\n      <td>60</td>\n      <td>155</td>\n      <td>2911</td>\n      <td>73</td>\n      <td>0</td>\n      <td>0</td>\n      <td>17</td>\n      <td>30</td>\n      <td>8</td>\n    </tr>\n    <tr>\n      <th>515</th>\n      <td>417</td>\n      <td>michèle vaucouleurs</td>\n      <td>Vaucouleurs (de)</td>\n      <td>Michèle</td>\n      <td>F</td>\n      <td>1964-02-12</td>\n      <td>Albertville (Savoie)</td>\n      <td>78</td>\n      <td>Yvelines</td>\n      <td>7</td>\n      <td>...</td>\n      <td>76</td>\n      <td>9</td>\n      <td>77</td>\n      <td>871</td>\n      <td>155</td>\n      <td>0</td>\n      <td>0</td>\n      <td>1</td>\n      <td>4</td>\n      <td>6</td>\n    </tr>\n    <tr>\n      <th>516</th>\n      <td>607</td>\n      <td>pierre venteau</td>\n      <td>Venteau</td>\n      <td>Pierre</td>\n      <td>H</td>\n      <td>1974-08-26</td>\n      <td>Saint-Yrieix-la-Perche (Haute-Vienne)</td>\n      <td>87</td>\n      <td>Haute-Vienne</td>\n      <td>2</td>\n      <td>...</td>\n      <td>1</td>\n      <td>0</td>\n      <td>12</td>\n      <td>618</td>\n      <td>190</td>\n      <td>0</td>\n      <td>0</td>\n      <td>4</td>\n      <td>15</td>\n      <td>0</td>\n    </tr>\n    <tr>\n      <th>517</th>\n      <td>244</td>\n      <td>marie-christine verdier-jouclas</td>\n      <td>Verdier-Jouclas</td>\n      <td>Marie-Christine</td>\n      <td>F</td>\n      <td>1965-03-19</td>\n      <td>Albi (Tarn)</td>\n      <td>81</td>\n      <td>Tarn</td>\n      <td>2</td>\n      <td>...</td>\n      <td>185</td>\n      <td>236</td>\n      <td>123</td>\n      <td>660</td>\n      <td>297</td>\n      <td>0</td>\n      <td>0</td>\n      <td>4</td>\n      <td>3</td>\n      <td>1</td>\n    </tr>\n    <tr>\n      <th>518</th>\n      <td>226</td>\n      <td>arnaud viala</td>\n      <td>Viala</td>\n      <td>Arnaud</td>\n      <td>H</td>\n      <td>1974-12-04</td>\n      <td>Millau (Aveyron)</td>\n      <td>12</td>\n      <td>Aveyron</td>\n      <td>3</td>\n      <td>...</td>\n      <td>176</td>\n      <td>32</td>\n      <td>254</td>\n      <td>4646</td>\n      <td>137</td>\n      <td>0</td>\n      <td>0</td>\n      <td>34</td>\n      <td>26</td>\n      <td>10</td>\n    </tr>\n    <tr>\n      <th>519</th>\n      <td>542</td>\n      <td>michel vialay</td>\n      <td>Vialay</td>\n      <td>Michel</td>\n      <td>H</td>\n      <td>1960-01-06</td>\n      <td>Paris 20ème (Paris)</td>\n      <td>78</td>\n      <td>Yvelines</td>\n      <td>8</td>\n      <td>...</td>\n      <td>21</td>\n      <td>2</td>\n      <td>39</td>\n      <td>1268</td>\n      <td>45</td>\n      <td>0</td>\n      <td>0</td>\n      <td>16</td>\n      <td>10</td>\n      <td>2</td>\n    </tr>\n    <tr>\n      <th>520</th>\n      <td>13</td>\n      <td>laurence vichnievsky</td>\n      <td>Vichnievsky</td>\n      <td>Laurence</td>\n      <td>F</td>\n      <td>1955-02-05</td>\n      <td>Boulogne-Billancourt (Hauts-de-Seine)</td>\n      <td>63</td>\n      <td>Puy-de-Dôme</td>\n      <td>3</td>\n      <td>...</td>\n      <td>27</td>\n      <td>4</td>\n      <td>17</td>\n      <td>683</td>\n      <td>139</td>\n      <td>0</td>\n      <td>0</td>\n      <td>0</td>\n      <td>0</td>\n      <td>3</td>\n    </tr>\n    <tr>\n      <th>521</th>\n      <td>587</td>\n      <td>michèle victory</td>\n      <td>Victory</td>\n      <td>Michèle</td>\n      <td>F</td>\n      <td>1958-10-28</td>\n      <td>Bône (Algérie)</td>\n      <td>07</td>\n      <td>Ardèche</td>\n      <td>2</td>\n      <td>...</td>\n      <td>92</td>\n      <td>8</td>\n      <td>94</td>\n      <td>3670</td>\n      <td>168</td>\n      <td>0</td>\n      <td>0</td>\n      <td>8</td>\n      <td>10</td>\n      <td>10</td>\n    </tr>\n    <tr>\n      <th>522</th>\n      <td>175</td>\n      <td>annie vidal</td>\n      <td>Vidal</td>\n      <td>Annie</td>\n      <td>F</td>\n      <td>1956-09-17</td>\n      <td>La Bohalle (Maine-et-Loire)</td>\n      <td>76</td>\n      <td>Seine-Maritime</td>\n      <td>2</td>\n      <td>...</td>\n      <td>16</td>\n      <td>2</td>\n      <td>39</td>\n      <td>549</td>\n      <td>209</td>\n      <td>0</td>\n      <td>0</td>\n      <td>3</td>\n      <td>3</td>\n      <td>3</td>\n    </tr>\n    <tr>\n      <th>523</th>\n      <td>116</td>\n      <td>philippe vigier</td>\n      <td>Vigier</td>\n      <td>Philippe</td>\n      <td>H</td>\n      <td>1958-02-03</td>\n      <td>Valence (Drôme)</td>\n      <td>28</td>\n      <td>Eure-et-Loir</td>\n      <td>4</td>\n      <td>...</td>\n      <td>278</td>\n      <td>194</td>\n      <td>192</td>\n      <td>2066</td>\n      <td>93</td>\n      <td>0</td>\n      <td>1</td>\n      <td>5</td>\n      <td>1</td>\n      <td>13</td>\n    </tr>\n    <tr>\n      <th>524</th>\n      <td>202</td>\n      <td>jean-pierre vigier</td>\n      <td>Vigier</td>\n      <td>Jean-Pierre</td>\n      <td>H</td>\n      <td>1969-10-22</td>\n      <td>Brioude (Haute-Loire)</td>\n      <td>43</td>\n      <td>Haute-Loire</td>\n      <td>2</td>\n      <td>...</td>\n      <td>65</td>\n      <td>121</td>\n      <td>184</td>\n      <td>2844</td>\n      <td>63</td>\n      <td>0</td>\n      <td>0</td>\n      <td>4</td>\n      <td>28</td>\n      <td>5</td>\n    </tr>\n    <tr>\n      <th>525</th>\n      <td>293</td>\n      <td>patrick vignal</td>\n      <td>Vignal</td>\n      <td>Patrick</td>\n      <td>H</td>\n      <td>1958-01-22</td>\n      <td>Montpellier (Hérault)</td>\n      <td>34</td>\n      <td>Hérault</td>\n      <td>9</td>\n      <td>...</td>\n      <td>0</td>\n      <td>0</td>\n      <td>22</td>\n      <td>1444</td>\n      <td>282</td>\n      <td>0</td>\n      <td>0</td>\n      <td>6</td>\n      <td>55</td>\n      <td>0</td>\n    </tr>\n    <tr>\n      <th>526</th>\n      <td>258</td>\n      <td>corinne vignon</td>\n      <td>Vignon</td>\n      <td>Corinne</td>\n      <td>F</td>\n      <td>1963-06-10</td>\n      <td>Agen (Lot-et-Garonne)</td>\n      <td>31</td>\n      <td>Haute-Garonne</td>\n      <td>3</td>\n      <td>...</td>\n      <td>34</td>\n      <td>6</td>\n      <td>11</td>\n      <td>544</td>\n      <td>209</td>\n      <td>0</td>\n      <td>0</td>\n      <td>3</td>\n      <td>54</td>\n      <td>2</td>\n    </tr>\n    <tr>\n      <th>527</th>\n      <td>535</td>\n      <td>cédric villani</td>\n      <td>Villani</td>\n      <td>Cédric</td>\n      <td>H</td>\n      <td>1973-10-05</td>\n      <td>Brive (Corrèze)</td>\n      <td>91</td>\n      <td>Essonne</td>\n      <td>5</td>\n      <td>...</td>\n      <td>76</td>\n      <td>12</td>\n      <td>98</td>\n      <td>974</td>\n      <td>152</td>\n      <td>1</td>\n      <td>0</td>\n      <td>4</td>\n      <td>10</td>\n      <td>0</td>\n    </tr>\n    <tr>\n      <th>528</th>\n      <td>434</td>\n      <td>andré villiers</td>\n      <td>Villiers</td>\n      <td>André</td>\n      <td>H</td>\n      <td>1954-12-13</td>\n      <td>Avallon (Yonne)</td>\n      <td>89</td>\n      <td>Yonne</td>\n      <td>2</td>\n      <td>...</td>\n      <td>0</td>\n      <td>0</td>\n      <td>2</td>\n      <td>1157</td>\n      <td>36</td>\n      <td>0</td>\n      <td>0</td>\n      <td>1</td>\n      <td>0</td>\n      <td>0</td>\n    </tr>\n    <tr>\n      <th>529</th>\n      <td>551</td>\n      <td>stéphane viry</td>\n      <td>Viry</td>\n      <td>Stéphane</td>\n      <td>H</td>\n      <td>1969-10-14</td>\n      <td>Épinal (Vosges)</td>\n      <td>88</td>\n      <td>Vosges</td>\n      <td>1</td>\n      <td>...</td>\n      <td>194</td>\n      <td>38</td>\n      <td>526</td>\n      <td>3216</td>\n      <td>92</td>\n      <td>0</td>\n      <td>4</td>\n      <td>16</td>\n      <td>34</td>\n      <td>7</td>\n    </tr>\n    <tr>\n      <th>530</th>\n      <td>7</td>\n      <td>guillaume vuilletet</td>\n      <td>Vuilletet</td>\n      <td>Guillaume</td>\n      <td>H</td>\n      <td>1967-06-20</td>\n      <td>Beauvais (Oise)</td>\n      <td>95</td>\n      <td>Val-d'Oise</td>\n      <td>2</td>\n      <td>...</td>\n      <td>55</td>\n      <td>8</td>\n      <td>21</td>\n      <td>387</td>\n      <td>222</td>\n      <td>0</td>\n      <td>0</td>\n      <td>4</td>\n      <td>14</td>\n      <td>0</td>\n    </tr>\n    <tr>\n      <th>531</th>\n      <td>497</td>\n      <td>jean-luc warsmann</td>\n      <td>Warsmann</td>\n      <td>Jean-Luc</td>\n      <td>H</td>\n      <td>1965-10-22</td>\n      <td>Villers-Semeuse (Ardennes)</td>\n      <td>08</td>\n      <td>Ardennes</td>\n      <td>3</td>\n      <td>...</td>\n      <td>8</td>\n      <td>9</td>\n      <td>13</td>\n      <td>1229</td>\n      <td>41</td>\n      <td>0</td>\n      <td>2</td>\n      <td>7</td>\n      <td>41</td>\n      <td>5</td>\n    </tr>\n    <tr>\n      <th>532</th>\n      <td>48</td>\n      <td>sylvain waserman</td>\n      <td>Waserman</td>\n      <td>Sylvain</td>\n      <td>H</td>\n      <td>1967-12-08</td>\n      <td>Paris 07 (Paris)</td>\n      <td>67</td>\n      <td>Bas-Rhin</td>\n      <td>2</td>\n      <td>...</td>\n      <td>1472</td>\n      <td>5966</td>\n      <td>1</td>\n      <td>667</td>\n      <td>138</td>\n      <td>0</td>\n      <td>0</td>\n      <td>1</td>\n      <td>23</td>\n      <td>2</td>\n    </tr>\n    <tr>\n      <th>533</th>\n      <td>192</td>\n      <td>éric woerth</td>\n      <td>Woerth</td>\n      <td>Éric</td>\n      <td>H</td>\n      <td>1956-01-29</td>\n      <td>Creil (Oise)</td>\n      <td>60</td>\n      <td>Oise</td>\n      <td>4</td>\n      <td>...</td>\n      <td>521</td>\n      <td>162</td>\n      <td>201</td>\n      <td>514</td>\n      <td>27</td>\n      <td>1</td>\n      <td>1</td>\n      <td>3</td>\n      <td>13</td>\n      <td>4</td>\n    </tr>\n    <tr>\n      <th>534</th>\n      <td>26</td>\n      <td>martine wonner</td>\n      <td>Wonner</td>\n      <td>Martine</td>\n      <td>F</td>\n      <td>1964-03-27</td>\n      <td>Hayange (Moselle)</td>\n      <td>67</td>\n      <td>Bas-Rhin</td>\n      <td>4</td>\n      <td>...</td>\n      <td>61</td>\n      <td>6</td>\n      <td>249</td>\n      <td>1581</td>\n      <td>157</td>\n      <td>0</td>\n      <td>0</td>\n      <td>3</td>\n      <td>14</td>\n      <td>3</td>\n    </tr>\n    <tr>\n      <th>535</th>\n      <td>215</td>\n      <td>hubert wulfranc</td>\n      <td>Wulfranc</td>\n      <td>Hubert</td>\n      <td>H</td>\n      <td>1956-12-17</td>\n      <td>Rouen (Seine-Maritime)</td>\n      <td>76</td>\n      <td>Seine-Maritime</td>\n      <td>3</td>\n      <td>...</td>\n      <td>211</td>\n      <td>143</td>\n      <td>895</td>\n      <td>2776</td>\n      <td>70</td>\n      <td>0</td>\n      <td>0</td>\n      <td>8</td>\n      <td>35</td>\n      <td>16</td>\n    </tr>\n    <tr>\n      <th>536</th>\n      <td>130</td>\n      <td>hélène zannier</td>\n      <td>Zannier</td>\n      <td>Hélène</td>\n      <td>F</td>\n      <td>1972-09-19</td>\n      <td>Saint-Avold (Moselle)</td>\n      <td>57</td>\n      <td>Moselle</td>\n      <td>7</td>\n      <td>...</td>\n      <td>9</td>\n      <td>3</td>\n      <td>25</td>\n      <td>475</td>\n      <td>214</td>\n      <td>0</td>\n      <td>0</td>\n      <td>4</td>\n      <td>12</td>\n      <td>0</td>\n    </tr>\n    <tr>\n      <th>537</th>\n      <td>31</td>\n      <td>jean-marc zulesi</td>\n      <td>Zulesi</td>\n      <td>Jean-Marc</td>\n      <td>H</td>\n      <td>1988-06-06</td>\n      <td>Marseille (Bouches-du-Rhône)</td>\n      <td>13</td>\n      <td>Bouches-du-Rhône</td>\n      <td>8</td>\n      <td>...</td>\n      <td>40</td>\n      <td>37</td>\n      <td>105</td>\n      <td>1111</td>\n      <td>279</td>\n      <td>0</td>\n      <td>0</td>\n      <td>4</td>\n      <td>52</td>\n      <td>4</td>\n    </tr>\n    <tr>\n      <th>538</th>\n      <td>329</td>\n      <td>michel zumkeller</td>\n      <td>Zumkeller</td>\n      <td>Michel</td>\n      <td>H</td>\n      <td>1966-01-21</td>\n      <td>Belfort (Territoire de Belfort)</td>\n      <td>90</td>\n      <td>Territoire de Belfort</td>\n      <td>2</td>\n      <td>...</td>\n      <td>39</td>\n      <td>11</td>\n      <td>18</td>\n      <td>1603</td>\n      <td>61</td>\n      <td>0</td>\n      <td>0</td>\n      <td>3</td>\n      <td>15</td>\n      <td>4</td>\n    </tr>\n  </tbody>\n</table>\n<p>539 rows × 40 columns</p>\n</div>"
     },
     "metadata": {},
     "execution_count": 11
    }
   ],
   "source": [
    "# On crée une copie de la table principale pour ne pas modifier la base initiale.\n",
    "df_new = df.copy() \n",
    "df_new['nom'] = df_new['nom'].str.lower()\n",
    "clean_dataset(df_new) # On procède au nettoyage sur la base initiale. "
   ]
  },
  {
   "cell_type": "code",
   "execution_count": 12,
   "metadata": {},
   "outputs": [
    {
     "output_type": "execute_result",
     "data": {
      "text/plain": [
       "                                 Nom                  Statut\n",
       "0                        damien abad                 sortant\n",
       "1                    caroline abadie  elue pour la 1ere fois\n",
       "2                     bérangère abba  elue pour la 1ere fois\n",
       "3               jean-félix acquaviva   elu pour la 1ere fois\n",
       "4                       lénaïck adam   elu pour la 1ere fois\n",
       "5                        damien adam   elu pour la 1ere fois\n",
       "6                       saïd ahamada   elu pour la 1ere fois\n",
       "7                       éric alauzet                 sortant\n",
       "8                        ramlati ali  elue pour la 1ere fois\n",
       "9                        louis aliot   elu pour la 1ere fois\n",
       "10                       aude amadou  elue pour la 1ere fois\n",
       "11                     patrice anato   elu pour la 1ere fois\n",
       "12                    françois andré                 sortant\n",
       "13          pieyre-alexandre anglade   elu pour la 1ere fois\n",
       "14               emmanuelle anthoine  elue pour la 1ere fois\n",
       "15             jean-philippe ardouin   elu pour la 1ere fois\n",
       "16                  christophe arend   elu pour la 1ere fois\n",
       "17                     gabriel attal   elu pour la 1ere fois\n",
       "18                     julien aubert                 sortant\n",
       "19                    sophie auconie  elue pour la 1ere fois\n",
       "20                 clémentine autain  elue pour la 1ere fois\n",
       "21                     laetitia avia  elue pour la 1ere fois\n",
       "22                    joël aviragnet                  ancien\n",
       "23               bruno nestor azerot                 sortant\n",
       "24                 florian bachelier   elu pour la 1ere fois\n",
       "25                  delphine bagarry  elue pour la 1ere fois\n",
       "26                   didier baichère   elu pour la 1ere fois\n",
       "27                    erwan balanant   elu pour la 1ere fois\n",
       "28                 géraldine bannier  elue pour la 1ere fois\n",
       "29                  frédéric barbier                 sortant\n",
       "..                               ...                     ...\n",
       "547                isabelle valentin  elue pour la 1ere fois\n",
       "548       alexandra valetta ardisson  elue pour la 1ere fois\n",
       "549                    boris vallaud   elu pour la 1ere fois\n",
       "550                     manuel valls                 sortant\n",
       "551    laurence vanceunebrock-mialon  elue pour la 1ere fois\n",
       "552                     pierre vatin   elu pour la 1ere fois\n",
       "553                 francis vercamer                 sortant\n",
       "554                 patrice verchère                 sortant\n",
       "555  marie-christine verdier-jouclas  elue pour la 1ere fois\n",
       "556                     arnaud viala                 sortant\n",
       "557                    michel vialay   elu pour la 1ere fois\n",
       "558             laurence vichnievsky  elue pour la 1ere fois\n",
       "559                      annie vidal  elue pour la 1ere fois\n",
       "560                  philippe vigier                 sortant\n",
       "561               jean-pierre vigier                 sortant\n",
       "562                   patrick vignal                 sortant\n",
       "563                   corinne vignon  elue pour la 1ere fois\n",
       "564                   cédric villani   elu pour la 1ere fois\n",
       "565                   andré villiers   elu pour la 1ere fois\n",
       "566                    stéphane viry   elu pour la 1ere fois\n",
       "567              guillaume vuilletet   elu pour la 1ere fois\n",
       "568                    olivier véran                  ancien\n",
       "569                jean-luc warsmann                 sortant\n",
       "570                 sylvain waserman   elu pour la 1ere fois\n",
       "571                      éric woerth                 sortant\n",
       "572                   martine wonner  elue pour la 1ere fois\n",
       "573                  hubert wulfranc   elu pour la 1ere fois\n",
       "574                   hélène zannier  elue pour la 1ere fois\n",
       "575                 jean-marc zulesi   elu pour la 1ere fois\n",
       "576                 michel zumkeller                 sortant\n",
       "\n",
       "[577 rows x 2 columns]"
      ],
      "text/html": "<div>\n<style scoped>\n    .dataframe tbody tr th:only-of-type {\n        vertical-align: middle;\n    }\n\n    .dataframe tbody tr th {\n        vertical-align: top;\n    }\n\n    .dataframe thead th {\n        text-align: right;\n    }\n</style>\n<table border=\"1\" class=\"dataframe\">\n  <thead>\n    <tr style=\"text-align: right;\">\n      <th></th>\n      <th>Nom</th>\n      <th>Statut</th>\n    </tr>\n  </thead>\n  <tbody>\n    <tr>\n      <th>0</th>\n      <td>damien abad</td>\n      <td>sortant</td>\n    </tr>\n    <tr>\n      <th>1</th>\n      <td>caroline abadie</td>\n      <td>elue pour la 1ere fois</td>\n    </tr>\n    <tr>\n      <th>2</th>\n      <td>bérangère abba</td>\n      <td>elue pour la 1ere fois</td>\n    </tr>\n    <tr>\n      <th>3</th>\n      <td>jean-félix acquaviva</td>\n      <td>elu pour la 1ere fois</td>\n    </tr>\n    <tr>\n      <th>4</th>\n      <td>lénaïck adam</td>\n      <td>elu pour la 1ere fois</td>\n    </tr>\n    <tr>\n      <th>5</th>\n      <td>damien adam</td>\n      <td>elu pour la 1ere fois</td>\n    </tr>\n    <tr>\n      <th>6</th>\n      <td>saïd ahamada</td>\n      <td>elu pour la 1ere fois</td>\n    </tr>\n    <tr>\n      <th>7</th>\n      <td>éric alauzet</td>\n      <td>sortant</td>\n    </tr>\n    <tr>\n      <th>8</th>\n      <td>ramlati ali</td>\n      <td>elue pour la 1ere fois</td>\n    </tr>\n    <tr>\n      <th>9</th>\n      <td>louis aliot</td>\n      <td>elu pour la 1ere fois</td>\n    </tr>\n    <tr>\n      <th>10</th>\n      <td>aude amadou</td>\n      <td>elue pour la 1ere fois</td>\n    </tr>\n    <tr>\n      <th>11</th>\n      <td>patrice anato</td>\n      <td>elu pour la 1ere fois</td>\n    </tr>\n    <tr>\n      <th>12</th>\n      <td>françois andré</td>\n      <td>sortant</td>\n    </tr>\n    <tr>\n      <th>13</th>\n      <td>pieyre-alexandre anglade</td>\n      <td>elu pour la 1ere fois</td>\n    </tr>\n    <tr>\n      <th>14</th>\n      <td>emmanuelle anthoine</td>\n      <td>elue pour la 1ere fois</td>\n    </tr>\n    <tr>\n      <th>15</th>\n      <td>jean-philippe ardouin</td>\n      <td>elu pour la 1ere fois</td>\n    </tr>\n    <tr>\n      <th>16</th>\n      <td>christophe arend</td>\n      <td>elu pour la 1ere fois</td>\n    </tr>\n    <tr>\n      <th>17</th>\n      <td>gabriel attal</td>\n      <td>elu pour la 1ere fois</td>\n    </tr>\n    <tr>\n      <th>18</th>\n      <td>julien aubert</td>\n      <td>sortant</td>\n    </tr>\n    <tr>\n      <th>19</th>\n      <td>sophie auconie</td>\n      <td>elue pour la 1ere fois</td>\n    </tr>\n    <tr>\n      <th>20</th>\n      <td>clémentine autain</td>\n      <td>elue pour la 1ere fois</td>\n    </tr>\n    <tr>\n      <th>21</th>\n      <td>laetitia avia</td>\n      <td>elue pour la 1ere fois</td>\n    </tr>\n    <tr>\n      <th>22</th>\n      <td>joël aviragnet</td>\n      <td>ancien</td>\n    </tr>\n    <tr>\n      <th>23</th>\n      <td>bruno nestor azerot</td>\n      <td>sortant</td>\n    </tr>\n    <tr>\n      <th>24</th>\n      <td>florian bachelier</td>\n      <td>elu pour la 1ere fois</td>\n    </tr>\n    <tr>\n      <th>25</th>\n      <td>delphine bagarry</td>\n      <td>elue pour la 1ere fois</td>\n    </tr>\n    <tr>\n      <th>26</th>\n      <td>didier baichère</td>\n      <td>elu pour la 1ere fois</td>\n    </tr>\n    <tr>\n      <th>27</th>\n      <td>erwan balanant</td>\n      <td>elu pour la 1ere fois</td>\n    </tr>\n    <tr>\n      <th>28</th>\n      <td>géraldine bannier</td>\n      <td>elue pour la 1ere fois</td>\n    </tr>\n    <tr>\n      <th>29</th>\n      <td>frédéric barbier</td>\n      <td>sortant</td>\n    </tr>\n    <tr>\n      <th>...</th>\n      <td>...</td>\n      <td>...</td>\n    </tr>\n    <tr>\n      <th>547</th>\n      <td>isabelle valentin</td>\n      <td>elue pour la 1ere fois</td>\n    </tr>\n    <tr>\n      <th>548</th>\n      <td>alexandra valetta ardisson</td>\n      <td>elue pour la 1ere fois</td>\n    </tr>\n    <tr>\n      <th>549</th>\n      <td>boris vallaud</td>\n      <td>elu pour la 1ere fois</td>\n    </tr>\n    <tr>\n      <th>550</th>\n      <td>manuel valls</td>\n      <td>sortant</td>\n    </tr>\n    <tr>\n      <th>551</th>\n      <td>laurence vanceunebrock-mialon</td>\n      <td>elue pour la 1ere fois</td>\n    </tr>\n    <tr>\n      <th>552</th>\n      <td>pierre vatin</td>\n      <td>elu pour la 1ere fois</td>\n    </tr>\n    <tr>\n      <th>553</th>\n      <td>francis vercamer</td>\n      <td>sortant</td>\n    </tr>\n    <tr>\n      <th>554</th>\n      <td>patrice verchère</td>\n      <td>sortant</td>\n    </tr>\n    <tr>\n      <th>555</th>\n      <td>marie-christine verdier-jouclas</td>\n      <td>elue pour la 1ere fois</td>\n    </tr>\n    <tr>\n      <th>556</th>\n      <td>arnaud viala</td>\n      <td>sortant</td>\n    </tr>\n    <tr>\n      <th>557</th>\n      <td>michel vialay</td>\n      <td>elu pour la 1ere fois</td>\n    </tr>\n    <tr>\n      <th>558</th>\n      <td>laurence vichnievsky</td>\n      <td>elue pour la 1ere fois</td>\n    </tr>\n    <tr>\n      <th>559</th>\n      <td>annie vidal</td>\n      <td>elue pour la 1ere fois</td>\n    </tr>\n    <tr>\n      <th>560</th>\n      <td>philippe vigier</td>\n      <td>sortant</td>\n    </tr>\n    <tr>\n      <th>561</th>\n      <td>jean-pierre vigier</td>\n      <td>sortant</td>\n    </tr>\n    <tr>\n      <th>562</th>\n      <td>patrick vignal</td>\n      <td>sortant</td>\n    </tr>\n    <tr>\n      <th>563</th>\n      <td>corinne vignon</td>\n      <td>elue pour la 1ere fois</td>\n    </tr>\n    <tr>\n      <th>564</th>\n      <td>cédric villani</td>\n      <td>elu pour la 1ere fois</td>\n    </tr>\n    <tr>\n      <th>565</th>\n      <td>andré villiers</td>\n      <td>elu pour la 1ere fois</td>\n    </tr>\n    <tr>\n      <th>566</th>\n      <td>stéphane viry</td>\n      <td>elu pour la 1ere fois</td>\n    </tr>\n    <tr>\n      <th>567</th>\n      <td>guillaume vuilletet</td>\n      <td>elu pour la 1ere fois</td>\n    </tr>\n    <tr>\n      <th>568</th>\n      <td>olivier véran</td>\n      <td>ancien</td>\n    </tr>\n    <tr>\n      <th>569</th>\n      <td>jean-luc warsmann</td>\n      <td>sortant</td>\n    </tr>\n    <tr>\n      <th>570</th>\n      <td>sylvain waserman</td>\n      <td>elu pour la 1ere fois</td>\n    </tr>\n    <tr>\n      <th>571</th>\n      <td>éric woerth</td>\n      <td>sortant</td>\n    </tr>\n    <tr>\n      <th>572</th>\n      <td>martine wonner</td>\n      <td>elue pour la 1ere fois</td>\n    </tr>\n    <tr>\n      <th>573</th>\n      <td>hubert wulfranc</td>\n      <td>elu pour la 1ere fois</td>\n    </tr>\n    <tr>\n      <th>574</th>\n      <td>hélène zannier</td>\n      <td>elue pour la 1ere fois</td>\n    </tr>\n    <tr>\n      <th>575</th>\n      <td>jean-marc zulesi</td>\n      <td>elu pour la 1ere fois</td>\n    </tr>\n    <tr>\n      <th>576</th>\n      <td>michel zumkeller</td>\n      <td>sortant</td>\n    </tr>\n  </tbody>\n</table>\n<p>577 rows × 2 columns</p>\n</div>"
     },
     "metadata": {},
     "execution_count": 12
    }
   ],
   "source": [
    "clean_dataset(df1) # On procède au nettoyage sur la table webscrapée. "
   ]
  },
  {
   "source": [
    "On élabore maintenant une fonction qui retire les accents."
   ],
   "cell_type": "markdown",
   "metadata": {}
  },
  {
   "cell_type": "code",
   "execution_count": 13,
   "metadata": {},
   "outputs": [],
   "source": [
    "import unicodedata,string\n",
    "import unidecode\n",
    "\n",
    "def remove_accent(s) :\n",
    "    return ''.join((c for c in unicodedata.normalize('NFD', s) if unicodedata.category(c) != 'Mn'))"
   ]
  },
  {
   "cell_type": "code",
   "execution_count": 14,
   "metadata": {},
   "outputs": [],
   "source": [
    "# Retrait des accents sur tous les noms complets des députés dans les deux bases.\n",
    "df_new[\"nom\"]=df_new[\"nom\"].map(lambda x: remove_accent(x))\n",
    "df1[\"Nom\"]=df1[\"Nom\"].map(lambda x: remove_accent(x))"
   ]
  },
  {
   "source": [
    "On peut désormais joindre les deux tables pour ajouter à la table initiale la variable portant sur le statut du député. "
   ],
   "cell_type": "markdown",
   "metadata": {}
  },
  {
   "cell_type": "code",
   "execution_count": 15,
   "metadata": {},
   "outputs": [],
   "source": [
    "df_work = pd.merge(df_new, df1, how='left', left_on='nom', right_on='Nom')"
   ]
  },
  {
   "cell_type": "code",
   "execution_count": 16,
   "metadata": {},
   "outputs": [],
   "source": [
    "df_work = df_work.drop('Nom', axis=1) # On retire la variable \"Nom\" qui fait désormais doublon."
   ]
  },
  {
   "source": [
    "On va remplacer les valeurs manquantes pour la variable \"statut\" par la modalité \"arrivé en cours de mandat\". En effet, cela concerne des députés présents dans la base mis à jour mais non présents dans la base webscrapée qui correspond aux députés élus en 2017 ; ils sont donc arrivés au cours des trois dernières années. "
   ],
   "cell_type": "markdown",
   "metadata": {}
  },
  {
   "cell_type": "code",
   "execution_count": 17,
   "metadata": {},
   "outputs": [],
   "source": [
    "for i in range(len(df_work)) :\n",
    "    if df_work['Statut'].isnull()[i] == True :\n",
    "        df_work['Statut'][i] = 'arrive en cours de mandat'"
   ]
  },
  {
   "cell_type": "markdown",
   "metadata": {},
   "source": [
    "On crée désormais une variable âge à partir de la variable date_naissance. Cela va nous permettre de répartir les députés en tranches d'âge de façon à analyser l'influence de l'âge sur l'assiduité. "
   ]
  },
  {
   "cell_type": "code",
   "execution_count": 18,
   "metadata": {},
   "outputs": [],
   "source": [
    "import datetime\n",
    "\n",
    "df_work['age'] = 0 # On initialise à 0 la valeur de la variable age pour chaque individu.\n",
    "adj = datetime.date.today()\n",
    "for i in range(len(df_work)) :\n",
    "    date = datetime.datetime.strptime(df_work[\"date_naissance\"][i], '%Y-%m-%d')\n",
    "    df_work['age'][i] = adj.year - date.year - ((adj.month, adj.day) < (date.month, date.day))\n",
    "    # On calcule la différence entre l'année actuelle et l'année de naissance de chaque député, en corrigeant d'une unité si l'anniversaire n'est pas encore arrivé.\n",
    "\n",
    "df_work = df_work.sort_values(\"age\") # On réordonne la base dans l'ordre croissant de l'âge des députés. \n",
    "\n",
    "# On répartit maintenant les députés dans différentes tranches d'âge. \n",
    "df_work['tranche_age'] = 0\n",
    "for i in range(len(df_work)) :\n",
    "    if 20 <= df_work['age'][i] < 30 :\n",
    "        df_work['tranche_age'][i] = '20-30 ans'\n",
    "    if 30 <= df_work['age'][i] < 40 :\n",
    "        df_work['tranche_age'][i] = '30-40 ans'\n",
    "    if 40 <= df_work['age'][i] < 50 :\n",
    "        df_work['tranche_age'][i] = '40-50 ans'\n",
    "    if 50 <= df_work['age'][i] < 60 :\n",
    "        df_work['tranche_age'][i] = '50-60 ans'\n",
    "    if 60 <= df_work['age'][i] < 70 :\n",
    "        df_work['tranche_age'][i] = '60-70 ans'\n",
    "    if df_work['age'][i] >= 70 :\n",
    "        df_work['tranche_age'][i] = '+ de 70 ans'"
   ]
  },
  {
   "cell_type": "markdown",
   "metadata": {},
   "source": [
    "On poursuit le nettoyage en remplacant la modalité \"0\" de la variable profession par la modalité \"Aucune\", pour des questions de lisibilité.  "
   ]
  },
  {
   "cell_type": "code",
   "execution_count": 19,
   "metadata": {},
   "outputs": [],
   "source": [
    "for i in range(len(df_work)) :\n",
    "    if df_work['profession'][i] == '0' :\n",
    "        df_work['profession'][i] = 'Aucune'"
   ]
  },
  {
   "cell_type": "markdown",
   "metadata": {},
   "source": [
    "On peut maintenant analyser les variables présentes dans la base définitive df_work afin de sélectionner celles que nous pouvons éliminer dans le cadre de notre étude. "
   ]
  },
  {
   "cell_type": "code",
   "execution_count": 20,
   "metadata": {},
   "outputs": [
    {
     "output_type": "execute_result",
     "data": {
      "text/plain": [
       "Index(['id', 'nom', 'nom_de_famille', 'prenom', 'sexe', 'date_naissance',\n",
       "       'lieu_naissance', 'num_deptmt', 'nom_circo', 'num_circo',\n",
       "       'mandat_debut', 'mandat_fin', 'ancien_depute', 'groupe_sigle',\n",
       "       'parti_ratt_financier', 'sites_web', 'emails', 'anciens_mandats',\n",
       "       'profession', 'place_en_hemicycle', 'url_an', 'id_an', 'slug',\n",
       "       'url_nosdeputes', 'url_nosdeputes_api', 'nb_mandats', 'twitter',\n",
       "       'semaines_presence', 'commission_presences', 'commission_interventions',\n",
       "       'hemicycle_interventions', 'hemicycle_interventions_courtes',\n",
       "       'amendements_proposes', 'amendements_signes', 'amendements_adoptes',\n",
       "       'rapports', 'propositions_ecrites', 'propositions_signees',\n",
       "       'questions_ecrites', 'questions_orales', 'Statut', 'age',\n",
       "       'tranche_age'],\n",
       "      dtype='object')"
      ]
     },
     "metadata": {},
     "execution_count": 20
    }
   ],
   "source": [
    "df_work.columns # On affiche la liste des variables."
   ]
  },
  {
   "cell_type": "code",
   "execution_count": 21,
   "metadata": {},
   "outputs": [],
   "source": [
    "# On retire les variables que l'on juge inutiles pour notre étude.\n",
    "df_work = df_work.drop(['id', 'nom_de_famille', 'prenom', 'date_naissance', 'lieu_naissance',\n",
    "              'mandat_debut', 'mandat_fin', 'ancien_depute', 'parti_ratt_financier', 'sites_web',\n",
    "              'emails', 'anciens_mandats', 'place_en_hemicycle', 'url_an',\n",
    "              'id_an', 'slug', 'url_nosdeputes', 'url_nosdeputes_api', 'twitter'], axis=1)"
   ]
  },
  {
   "cell_type": "code",
   "execution_count": 22,
   "metadata": {},
   "outputs": [
    {
     "output_type": "execute_result",
     "data": {
      "text/plain": [
       "                 nom sexe num_deptmt      nom_circo  num_circo groupe_sigle  \\\n",
       "383    ludovic pajot    H         62  Pas-de-Calais         10           NI   \n",
       "139  typhanie degois    F         73         Savoie          1         LREM   \n",
       "235   pierre henriet    H         85         Vendée          5         LREM   \n",
       "3       lenaick adam    H        973         Guyane          2         LREM   \n",
       "375    mickael nogal    H         31  Haute-Garonne          4         LREM   \n",
       "\n",
       "                                profession  nb_mandats  semaines_presence  \\\n",
       "383                                 Aucune           1                 23   \n",
       "139                                Juriste           1                 21   \n",
       "235  Professeur du secondaire et technique           1                 31   \n",
       "3     Cadre supérieur (entreprises privée)           1                  8   \n",
       "375              Autre profession libérale           1                 29   \n",
       "\n",
       "     commission_presences  ...  amendements_signes  amendements_adoptes  \\\n",
       "383                    15  ...                 327                    1   \n",
       "139                    23  ...                 839                  207   \n",
       "235                    26  ...                 382                  188   \n",
       "3                       5  ...                 581                  175   \n",
       "375                    30  ...                 362                  176   \n",
       "\n",
       "     rapports  propositions_ecrites  propositions_signees  questions_ecrites  \\\n",
       "383         0                     0                     2                 54   \n",
       "139         0                     0                     3                 36   \n",
       "235         0                     0                     3                  9   \n",
       "3           0                     0                     4                  1   \n",
       "375         0                     0                     4                  0   \n",
       "\n",
       "     questions_orales                  Statut  age  tranche_age  \n",
       "383                 5   elu pour la 1ere fois   26    20-30 ans  \n",
       "139                 1  elue pour la 1ere fois   27    20-30 ans  \n",
       "235                 0   elu pour la 1ere fois   28    20-30 ans  \n",
       "3                   0   elu pour la 1ere fois   28    20-30 ans  \n",
       "375                 2   elu pour la 1ere fois   29    20-30 ans  \n",
       "\n",
       "[5 rows x 24 columns]"
      ],
      "text/html": "<div>\n<style scoped>\n    .dataframe tbody tr th:only-of-type {\n        vertical-align: middle;\n    }\n\n    .dataframe tbody tr th {\n        vertical-align: top;\n    }\n\n    .dataframe thead th {\n        text-align: right;\n    }\n</style>\n<table border=\"1\" class=\"dataframe\">\n  <thead>\n    <tr style=\"text-align: right;\">\n      <th></th>\n      <th>nom</th>\n      <th>sexe</th>\n      <th>num_deptmt</th>\n      <th>nom_circo</th>\n      <th>num_circo</th>\n      <th>groupe_sigle</th>\n      <th>profession</th>\n      <th>nb_mandats</th>\n      <th>semaines_presence</th>\n      <th>commission_presences</th>\n      <th>...</th>\n      <th>amendements_signes</th>\n      <th>amendements_adoptes</th>\n      <th>rapports</th>\n      <th>propositions_ecrites</th>\n      <th>propositions_signees</th>\n      <th>questions_ecrites</th>\n      <th>questions_orales</th>\n      <th>Statut</th>\n      <th>age</th>\n      <th>tranche_age</th>\n    </tr>\n  </thead>\n  <tbody>\n    <tr>\n      <th>383</th>\n      <td>ludovic pajot</td>\n      <td>H</td>\n      <td>62</td>\n      <td>Pas-de-Calais</td>\n      <td>10</td>\n      <td>NI</td>\n      <td>Aucune</td>\n      <td>1</td>\n      <td>23</td>\n      <td>15</td>\n      <td>...</td>\n      <td>327</td>\n      <td>1</td>\n      <td>0</td>\n      <td>0</td>\n      <td>2</td>\n      <td>54</td>\n      <td>5</td>\n      <td>elu pour la 1ere fois</td>\n      <td>26</td>\n      <td>20-30 ans</td>\n    </tr>\n    <tr>\n      <th>139</th>\n      <td>typhanie degois</td>\n      <td>F</td>\n      <td>73</td>\n      <td>Savoie</td>\n      <td>1</td>\n      <td>LREM</td>\n      <td>Juriste</td>\n      <td>1</td>\n      <td>21</td>\n      <td>23</td>\n      <td>...</td>\n      <td>839</td>\n      <td>207</td>\n      <td>0</td>\n      <td>0</td>\n      <td>3</td>\n      <td>36</td>\n      <td>1</td>\n      <td>elue pour la 1ere fois</td>\n      <td>27</td>\n      <td>20-30 ans</td>\n    </tr>\n    <tr>\n      <th>235</th>\n      <td>pierre henriet</td>\n      <td>H</td>\n      <td>85</td>\n      <td>Vendée</td>\n      <td>5</td>\n      <td>LREM</td>\n      <td>Professeur du secondaire et technique</td>\n      <td>1</td>\n      <td>31</td>\n      <td>26</td>\n      <td>...</td>\n      <td>382</td>\n      <td>188</td>\n      <td>0</td>\n      <td>0</td>\n      <td>3</td>\n      <td>9</td>\n      <td>0</td>\n      <td>elu pour la 1ere fois</td>\n      <td>28</td>\n      <td>20-30 ans</td>\n    </tr>\n    <tr>\n      <th>3</th>\n      <td>lenaick adam</td>\n      <td>H</td>\n      <td>973</td>\n      <td>Guyane</td>\n      <td>2</td>\n      <td>LREM</td>\n      <td>Cadre supérieur (entreprises privée)</td>\n      <td>1</td>\n      <td>8</td>\n      <td>5</td>\n      <td>...</td>\n      <td>581</td>\n      <td>175</td>\n      <td>0</td>\n      <td>0</td>\n      <td>4</td>\n      <td>1</td>\n      <td>0</td>\n      <td>elu pour la 1ere fois</td>\n      <td>28</td>\n      <td>20-30 ans</td>\n    </tr>\n    <tr>\n      <th>375</th>\n      <td>mickael nogal</td>\n      <td>H</td>\n      <td>31</td>\n      <td>Haute-Garonne</td>\n      <td>4</td>\n      <td>LREM</td>\n      <td>Autre profession libérale</td>\n      <td>1</td>\n      <td>29</td>\n      <td>30</td>\n      <td>...</td>\n      <td>362</td>\n      <td>176</td>\n      <td>0</td>\n      <td>0</td>\n      <td>4</td>\n      <td>0</td>\n      <td>2</td>\n      <td>elu pour la 1ere fois</td>\n      <td>29</td>\n      <td>20-30 ans</td>\n    </tr>\n  </tbody>\n</table>\n<p>5 rows × 24 columns</p>\n</div>"
     },
     "metadata": {},
     "execution_count": 22
    }
   ],
   "source": [
    "df_work.head() # On regarde les premières lignes de la base de travail définitive."
   ]
  },
  {
   "cell_type": "markdown",
   "metadata": {},
   "source": [
    "## II. Analyse descriptive\n",
    "\n",
    "On procède à une analyse descriptive des données afin d'identifier les premières grandes tendances qui guideront notre travail. Les boîtes à moustaches (ou boîtes de Tukey, dites boxplots en anglais) permettent par exemple d'étudier les statistiques liées aux semaines de présence des députés à l'Assemblée nationale, en distinguant selon le sexe, le parti politique ou encore l'âge. On utilise ici la librairie seaborn. "
   ]
  },
  {
   "cell_type": "code",
   "execution_count": 23,
   "metadata": {},
   "outputs": [
    {
     "output_type": "display_data",
     "data": {
      "text/plain": "Canvas(toolbar=Toolbar(toolitems=[('Home', 'Reset original view', 'home', 'home'), ('Back', 'Back to previous …",
      "application/vnd.jupyter.widget-view+json": {
       "version_major": 2,
       "version_minor": 0,
       "model_id": "a2555bca18204d13ac64b5cf712316db"
      }
     },
     "metadata": {}
    },
    {
     "output_type": "execute_result",
     "data": {
      "text/plain": [
       "Text(0, 0.5, '')"
      ]
     },
     "metadata": {},
     "execution_count": 23
    }
   ],
   "source": [
    "fig, ax = plt.subplots(1, 2, figsize=(10,4))\n",
    "sns.set_style(\"whitegrid\")\n",
    "sns.histplot(data=df_work, x=\"semaines_presence\", kde=True, ax=ax[0])\n",
    "ax[0].set_xlabel('Semaines de présence')\n",
    "ax[0].set_ylabel('Nombre de députés')\n",
    "ax[0].set_title('Semaines de présence des députés')\n",
    "sns.boxplot(y=\"semaines_presence\",data=df_work, ax=ax[1])\n",
    "ax[1].set_xlabel(\"Boîte de Tukey des semaines de présence\")\n",
    "ax[1].set_ylabel('')"
   ]
  },
  {
   "cell_type": "code",
   "execution_count": 24,
   "metadata": {},
   "outputs": [
    {
     "output_type": "display_data",
     "data": {
      "text/plain": "Canvas(toolbar=Toolbar(toolitems=[('Home', 'Reset original view', 'home', 'home'), ('Back', 'Back to previous …",
      "application/vnd.jupyter.widget-view+json": {
       "version_major": 2,
       "version_minor": 0,
       "model_id": "69bea7e8f91c4d30aa44571185a8858c"
      }
     },
     "metadata": {}
    },
    {
     "output_type": "execute_result",
     "data": {
      "text/plain": [
       "Text(0, 0.5, '')"
      ]
     },
     "metadata": {},
     "execution_count": 24
    }
   ],
   "source": [
    "fig, ax = plt.subplots(1, 2, figsize=(10,4))\n",
    "sns.set_style(\"whitegrid\")\n",
    "sns.histplot(data=df_work, x=\"semaines_presence\", hue=\"sexe\", kde=True, ax=ax[0])\n",
    "ax[0].set_xlabel('Semaines de présence')\n",
    "ax[0].set_ylabel('Nombre de députés')\n",
    "ax[0].set_title('Semaines de présence des députés selon le sexe')\n",
    "sns.boxplot(x=\"sexe\", y=\"semaines_presence\", data=df_work, ax=ax[1])\n",
    "ax[1].set_xlabel(\"Boîte de Tukey des semaines de présence selon le sexe\")\n",
    "ax[1].set_ylabel('')"
   ]
  },
  {
   "cell_type": "code",
   "execution_count": 25,
   "metadata": {},
   "outputs": [
    {
     "output_type": "display_data",
     "data": {
      "text/plain": "Canvas(toolbar=Toolbar(toolitems=[('Home', 'Reset original view', 'home', 'home'), ('Back', 'Back to previous …",
      "application/vnd.jupyter.widget-view+json": {
       "version_major": 2,
       "version_minor": 0,
       "model_id": "5bb4493822224e9aaf0369371b0e2556"
      }
     },
     "metadata": {}
    },
    {
     "output_type": "execute_result",
     "data": {
      "text/plain": [
       "Text(0, 0.5, '')"
      ]
     },
     "metadata": {},
     "execution_count": 25
    }
   ],
   "source": [
    "fig, ax = plt.subplots(2, 1, figsize=(10,8))\n",
    "sns.set_style(\"whitegrid\")\n",
    "sns.kdeplot(data=df_work, x=\"semaines_presence\", hue=\"groupe_sigle\", ax=ax[0])\n",
    "ax[0].set_title('Distributions des semaines de présence des députés selon leur parti')\n",
    "ax[0].set_xlabel('Semaines de présence')\n",
    "ax[0].set_ylabel('Proportion des députés')\n",
    "sns.boxplot(x=\"groupe_sigle\", y=\"semaines_presence\", data=df_work, ax=ax[1])\n",
    "ax[1].set_xlabel(\"Boîte de Tukey des semaines de présence selon le parti\")\n",
    "ax[1].set_ylabel(\"\")"
   ]
  },
  {
   "cell_type": "code",
   "execution_count": 26,
   "metadata": {},
   "outputs": [
    {
     "output_type": "display_data",
     "data": {
      "text/plain": "Canvas(toolbar=Toolbar(toolitems=[('Home', 'Reset original view', 'home', 'home'), ('Back', 'Back to previous …",
      "application/vnd.jupyter.widget-view+json": {
       "version_major": 2,
       "version_minor": 0,
       "model_id": "05ea466d52884128ac3c7f6ea5632fff"
      }
     },
     "metadata": {}
    },
    {
     "output_type": "execute_result",
     "data": {
      "text/plain": [
       "Text(0, 0.5, '')"
      ]
     },
     "metadata": {},
     "execution_count": 26
    }
   ],
   "source": [
    "fig, ax = plt.subplots(2, 1, figsize=(10,8))\n",
    "sns.set_style(\"whitegrid\")\n",
    "sns.kdeplot(data=df_work, x=\"semaines_presence\", hue=\"tranche_age\", ax=ax[0])\n",
    "ax[0].set_title(\"Distributions des semaines de présence des députés selon leur tranche d'âge\")\n",
    "ax[0].set_xlabel('Semaines de présence')\n",
    "ax[0].set_ylabel('Proportion des députés')\n",
    "sns.boxplot(x=\"tranche_age\", y=\"semaines_presence\", data=df_work, ax=ax[1])\n",
    "ax[1].set_xlabel(\"Boîte de Tukey des semaines de présence selon la tranche d'âge\")\n",
    "ax[1].set_ylabel(\"\")"
   ]
  },
  {
   "cell_type": "markdown",
   "metadata": {},
   "source": [
    "L'observation de ces boîtes à moustaches donne à voir quelques premières tendances :\n",
    "- certains députés se démarquent de l'immense majorité des autres députés par un très fort absentéisme, comme le montrent les valeurs extrêmes du premier graphique ;\n",
    "- globalement, les hommes sont légèrement plus présents à l'Assemblée nationale que les femmes ;\n",
    "- il y a d'assez grandes disparités entre les différents partis ;\n",
    "- les députés les plus âgés semblent être les moins assidus, tandis que les 50-60 ans sont visiblement la génération la plus assidue."
   ]
  },
  {
   "source": [
    "## III. Modélisation\n",
    "\n",
    "### 3.1 Liens entre les différentes variables d'assiduité\n",
    "\n",
    "Nous avons jusqu'à présent étudié uniquement le nombre de semaines de présence des députés sur les bancs de l'Assemblée, sans nous préoccuper des autres indicateurs d'assiduité. Nous allons nous demander dans quelle mesure la présence est suffisante pour révéler l'assiduité, notamment en étudiant les corrélations entre les différents indicateurs. Nous effectuerons surtout une Analyse en Composantes Principales (ACP) sur ces indicateurs, en espérant que le premier axe explique une grande part de la variance et puisse s'interpréter comme une variable d'assiduité. \n",
    "\n",
    "Les indicateurs d'assiduité que nous avons à disposition sont 'semaines_presence', 'commission_presences', 'commission_interventions', 'hemicycle_interventions','hemicycle_interventions_courtes', 'amendements_proposes', 'amendements_signes', 'amendements_adoptes', 'rapports', 'propositions_ecrites', 'propositions_signees','questions_ecrites' et 'questions_orales'."
   ],
   "cell_type": "markdown",
   "metadata": {}
  },
  {
   "cell_type": "code",
   "execution_count": 27,
   "metadata": {},
   "outputs": [
    {
     "output_type": "display_data",
     "data": {
      "text/plain": "Canvas(toolbar=Toolbar(toolitems=[('Home', 'Reset original view', 'home', 'home'), ('Back', 'Back to previous …",
      "application/vnd.jupyter.widget-view+json": {
       "version_major": 2,
       "version_minor": 0,
       "model_id": "e51ba0486962486bbafa27de5f1ce0ab"
      }
     },
     "metadata": {}
    },
    {
     "output_type": "execute_result",
     "data": {
      "text/plain": [
       "<seaborn.axisgrid.PairGrid at 0x16bba085e48>"
      ]
     },
     "metadata": {},
     "execution_count": 27
    }
   ],
   "source": [
    "# On trace la matrice des nuages de points afin de percevoir les premiers liens entre les variables d'assiduité.\n",
    "sns.pairplot(df_work[['semaines_presence', 'commission_presences', 'commission_interventions', 'hemicycle_interventions','hemicycle_interventions_courtes', 'amendements_proposes', 'amendements_signes', 'amendements_adoptes', 'rapports', 'propositions_ecrites', 'propositions_signees','questions_ecrites', 'questions_orales']])"
   ]
  },
  {
   "source": [
    "### 3.2 Normalisation des données\n",
    "\n",
    "Afin d'éviter que des variables l'emportent sur d'autres par des effets d'échelle, nous allons normaliser (centrer et réduire) les variables sur lesquelles nous feront l'ACP.\n"
   ],
   "cell_type": "markdown",
   "metadata": {}
  },
  {
   "cell_type": "code",
   "execution_count": 28,
   "metadata": {},
   "outputs": [],
   "source": [
    "# On crée une nouvelle table avec le numéro du député en index et les variables d'assiduité.\n",
    "df_acp = df_work[['semaines_presence', 'commission_presences', 'commission_interventions', 'hemicycle_interventions','hemicycle_interventions_courtes', 'amendements_proposes', 'amendements_signes', 'amendements_adoptes', 'rapports', 'propositions_ecrites', 'propositions_signees','questions_ecrites', 'questions_orales']]"
   ]
  },
  {
   "cell_type": "code",
   "execution_count": 29,
   "metadata": {},
   "outputs": [
    {
     "output_type": "execute_result",
     "data": {
      "text/plain": [
       "array([[-4.99136041e-01, -1.17818822e+00, -4.25038063e-01, ...,\n",
       "        -6.82286754e-01,  2.36772151e+00,  6.48408303e-01],\n",
       "       [-7.86259121e-01, -7.67223361e-01, -4.76110854e-01, ...,\n",
       "        -5.05906629e-01,  1.23583513e+00, -6.12158245e-01],\n",
       "       [ 6.49356279e-01, -6.13111538e-01, -4.42062327e-01, ...,\n",
       "        -5.05906629e-01, -4.61994440e-01, -9.27299882e-01],\n",
       "       ...,\n",
       "       [-4.99136041e-01, -4.07629108e-01,  5.68528285e-04, ...,\n",
       "         7.28754245e-01,  1.42448286e+00,  3.33266666e-01],\n",
       "       [ 3.62233199e-01,  1.57447577e-01,  1.36762638e-01, ...,\n",
       "         2.13979524e+00, -7.13524747e-01,  1.27869158e+00],\n",
       "       [-2.93968222e+00, -1.69189430e+00, -5.78256436e-01, ...,\n",
       "         2.13979524e+00,  9.84304822e-01, -9.27299882e-01]])"
      ]
     },
     "metadata": {},
     "execution_count": 29
    }
   ],
   "source": [
    "import sklearn # On importe scikit-learn.\n",
    "# On centre et réduit les variables de manière à effectuer une ACP normée.\n",
    "from sklearn.preprocessing import StandardScaler\n",
    "sc = StandardScaler()\n",
    "Z = sc.fit_transform(df_acp)\n",
    "Z"
   ]
  },
  {
   "source": [
    "On vérifie que les moyennes sont nulles et les écarts-types unitaires ; c'est bien le cas : la normalisation a bien été effectuée."
   ],
   "cell_type": "markdown",
   "metadata": {}
  },
  {
   "cell_type": "code",
   "execution_count": 30,
   "metadata": {},
   "outputs": [
    {
     "output_type": "stream",
     "name": "stdout",
     "text": [
      "[-5.52021838e-17 -6.59130553e-17  1.64782638e-17 -5.19065310e-17\n  1.97739166e-17  0.00000000e+00 -3.95478332e-17  9.22782774e-17\n -2.47173957e-17  5.76739234e-17  8.56869718e-17  3.29565276e-17\n -6.59130553e-18]\n[1. 1. 1. 1. 1. 1. 1. 1. 1. 1. 1. 1. 1.]\n"
     ]
    }
   ],
   "source": [
    "print(np.mean(Z,axis=0))\n",
    "print(np.std(Z,axis=0,ddof=0))"
   ]
  },
  {
   "source": [
    "### 3.3 Analyse en Composantes Principales\n",
    "\n",
    "Les données étant centrées et réduites, nous pouvons désormais débuter l'ACP."
   ],
   "cell_type": "markdown",
   "metadata": {}
  },
  {
   "cell_type": "code",
   "execution_count": 31,
   "metadata": {},
   "outputs": [
    {
     "output_type": "stream",
     "name": "stdout",
     "text": [
      "PCA(copy=True, iterated_power='auto', n_components=None, random_state=None,\n    svd_solver='full', tol=0.0, whiten=False)\n"
     ]
    }
   ],
   "source": [
    "from sklearn.decomposition import PCA\n",
    "# Instanciation de l'objet PCA\n",
    "acp = PCA(svd_solver='full')\n",
    "print(acp) "
   ]
  },
  {
   "source": [
    "On remarque que le nombre de composantes n'est pas spécifié, il correspond donc par défaut au nombre de variables, à savoir 13 (ce qu'on vérifie dans la cellule suivante). Nous stockons maintenant les coordonnées factorielles dans la variable coord grâce à la fonction fit_transform()."
   ],
   "cell_type": "markdown",
   "metadata": {}
  },
  {
   "cell_type": "code",
   "execution_count": 32,
   "metadata": {},
   "outputs": [
    {
     "output_type": "stream",
     "name": "stdout",
     "text": [
      "13\n"
     ]
    }
   ],
   "source": [
    "# Calcul des coordonnées factorielles\n",
    "coord = acp.fit_transform(Z)\n",
    "# Vérification du nombre de composantes principales\n",
    "print(acp.n_components_)"
   ]
  },
  {
   "source": [
    "Désormais, nous allons afficher le pourcentage de la variance expliqué par chaque axe factoriel."
   ],
   "cell_type": "markdown",
   "metadata": {}
  },
  {
   "cell_type": "code",
   "execution_count": 33,
   "metadata": {},
   "outputs": [
    {
     "output_type": "stream",
     "name": "stdout",
     "text": [
      "[0.30292818 0.16774724 0.10467894 0.07784485 0.07354728 0.06130974\n 0.0578616  0.04991936 0.03846265 0.02819897 0.01826355 0.01285006\n 0.00638759]\n"
     ]
    }
   ],
   "source": [
    "print(acp.explained_variance_ratio_)"
   ]
  },
  {
   "source": [
    "On remarque que le premier axe explique environ 30% de l'information disponible, et les trois premiers près de 57 % : les autres axes ne semblent à première vue pas complètement anecdotiques. Nous allons donc tracer l'éboulis des valeurs propres (qui correspondent aussi à la variance expliquée par chaque axe) afin d'appliquer la méthode dite du coude. "
   ],
   "cell_type": "markdown",
   "metadata": {}
  },
  {
   "cell_type": "code",
   "execution_count": 34,
   "metadata": {},
   "outputs": [
    {
     "output_type": "display_data",
     "data": {
      "text/plain": "Canvas(toolbar=Toolbar(toolitems=[('Home', 'Reset original view', 'home', 'home'), ('Back', 'Back to previous …",
      "application/vnd.jupyter.widget-view+json": {
       "version_major": 2,
       "version_minor": 0,
       "model_id": "97bc65e1e2d94f03899946bb4ff16bd9"
      }
     },
     "metadata": {}
    }
   ],
   "source": [
    "plt.figure(figsize=(8,4))\n",
    "plt.bar(np.arange(1,acp.n_components_+1),acp.explained_variance_ratio_*100)\n",
    "plt.title(\"Part de la variance expliquée par chaque axe factoriel\", size=16, fontweight='bold')\n",
    "plt.ylabel(\"Variance expliquée par l'axe factoriel (en %)\", size=10)\n",
    "plt.xlabel(\"Axe factoriel\", size=10)\n",
    "plt.show()"
   ]
  },
  {
   "source": [
    "Au vu du diagramme ci-dessus, nous allons choisir de garder les trois premières composantes factorielles des individus. Nous les représentons dans la figure en trois dimensions ci-dessous."
   ],
   "cell_type": "markdown",
   "metadata": {}
  },
  {
   "cell_type": "code",
   "execution_count": 35,
   "metadata": {},
   "outputs": [
    {
     "output_type": "display_data",
     "data": {
      "text/plain": "Canvas(toolbar=Toolbar(toolitems=[('Home', 'Reset original view', 'home', 'home'), ('Back', 'Back to previous …",
      "application/vnd.jupyter.widget-view+json": {
       "version_major": 2,
       "version_minor": 0,
       "model_id": "c97caa48daaf43c2bd215cc5db0b9736"
      }
     },
     "metadata": {}
    }
   ],
   "source": [
    "fig = plt.figure(figsize=(8,5))\n",
    "ax = fig.add_subplot(111, projection='3d')\n",
    "ax.set_xlim(-5,8)\n",
    "ax.set_ylim(-5,8)\n",
    "ax.set_zlim(-5,8)\n",
    "\n",
    "for i in range(len(coord[:,0])):\n",
    "    ax.text(coord[i,0], coord[i,1], coord[i,2], str(i), size=6)\n",
    "\n",
    "ax.scatter(coord[:,0], coord[:,1], coord[:,2])\n",
    "plt.show()"
   ]
  },
  {
   "source": [
    "Nous pouvons constater que le nuage de points se compose de deux groupes : l'un quasiment aplati dans le plan (Oxy), qui est le premier plan factoriel, l'autre ayant des cotes elevées.\n",
    "\n",
    "Afin d'interpréter les différents axes, calculons la matrice des corrélations des variables."
   ],
   "cell_type": "markdown",
   "metadata": {}
  },
  {
   "cell_type": "code",
   "execution_count": 36,
   "metadata": {},
   "outputs": [
    {
     "output_type": "stream",
     "name": "stdout",
     "text": [
      "                           Variable  Cor_axe_1  Cor_axe_2  Cor_axe_3\n0                 semaines_presence   0.557067   0.600929  -0.191771\n1              commission_presences   0.425776   0.662578  -0.302692\n2          commission_interventions   0.496364   0.325125  -0.420058\n3           hemicycle_interventions   0.648652   0.488061   0.485997\n4   hemicycle_interventions_courtes   0.399350   0.453602   0.745994\n5              amendements_proposes   0.695054  -0.235665  -0.117199\n6                amendements_signes   0.763213  -0.375204  -0.062249\n7               amendements_adoptes  -0.428367   0.497853  -0.223568\n8                          rapports   0.027278   0.174714  -0.383634\n9              propositions_ecrites   0.495685  -0.237651   0.004301\n10             propositions_signees   0.587427  -0.415955   0.040091\n11                questions_ecrites   0.497084  -0.334478   0.013451\n12                 questions_orales   0.729486  -0.121882  -0.216111\n"
     ]
    }
   ],
   "source": [
    "n = len(df_acp)\n",
    "p = len(df_acp.columns)\n",
    "\n",
    "eigval = (n-1)/n*acp.explained_variance_\n",
    "sqrt_eigval = np.sqrt(eigval)\n",
    "corvar = np.zeros((p,p))\n",
    "for k in range(p):\n",
    "    corvar[:,k] = acp.components_[k,:] * sqrt_eigval[k]\n",
    "\n",
    "print(pd.DataFrame({'Variable':df_acp.columns,'Cor_axe_1':corvar[:,0],'Cor_axe_2':corvar[:,1], 'Cor_axe_3':corvar[:,2]}))"
   ]
  },
  {
   "source": [
    "Puis représentons ces corrélations sur la sphère unité de $\\mathbb{R}^3$."
   ],
   "cell_type": "markdown",
   "metadata": {}
  },
  {
   "cell_type": "code",
   "execution_count": 37,
   "metadata": {},
   "outputs": [
    {
     "output_type": "display_data",
     "data": {
      "text/plain": "Canvas(toolbar=Toolbar(toolitems=[('Home', 'Reset original view', 'home', 'home'), ('Back', 'Back to previous …",
      "application/vnd.jupyter.widget-view+json": {
       "version_major": 2,
       "version_minor": 0,
       "model_id": "6eb1780f1611412491528010a5f00003"
      }
     },
     "metadata": {}
    }
   ],
   "source": [
    "r = 1\n",
    "pi = np.pi\n",
    "cos = np.cos\n",
    "sin = np.sin\n",
    "phi, theta = np.mgrid[0.0:pi:100j, 0.0:2.0*pi:100j]\n",
    "x = r*sin(phi)*cos(theta)\n",
    "y = r*sin(phi)*sin(theta)\n",
    "z = r*cos(phi)\n",
    "\n",
    "fig = plt.figure(figsize=(12,12))\n",
    "ax = fig.add_subplot(111, projection='3d')\n",
    "\n",
    "ax.plot_surface(x, y, z,  rstride=1, cstride=1, color='c', alpha=0.1, linewidth=0)\n",
    "\n",
    "ax.add_line(plt3d.art3d.Line3D([-1,1], [0,0], [0,0]))\n",
    "ax.add_artist(plt3d.art3d.Text3D(x=1, y=0, z=0, text='Axe 1', zdir='x', size=8))\n",
    "\n",
    "ax.add_line(plt3d.art3d.Line3D([0,0], [-1,1], [0,0]))\n",
    "ax.add_artist(plt3d.art3d.Text3D(x=0, y=1, z=0, text='Axe 2', zdir='y', size=8))\n",
    "\n",
    "ax.add_line(plt3d.art3d.Line3D([0,0], [0,0], [-1,1]))\n",
    "ax.add_artist(plt3d.art3d.Text3D(x=0, y=0, z=1, text='Axe 3', zdir='z', size=8))\n",
    "\n",
    "ax.quiver(np.zeros(p), np.zeros(p), np.zeros(p), corvar[:,0], corvar[:,1], corvar[:,2], color='r')\n",
    "for i in range(p):\n",
    "    ax.add_artist(plt3d.art3d.Text3D(x=corvar[i,0], y=corvar[i,1], z=corvar[i,2], text=df_acp.columns[i], zdir=(corvar[i,0], corvar[i,1], corvar[i,2]), size=6))\n",
    "\n",
    "\n",
    "ax.set_xlim([-1,1])\n",
    "ax.set_ylim([-1,1])\n",
    "ax.set_zlim([-1,1])\n",
    "\n",
    "plt.show()"
   ]
  },
  {
   "source": [
    "On constate que le troisième axe différencie essentiellement les députés effectuant de nombreuses interventions (courtes ou non) dans l'hémicycle. Le groupe de député se situant dans le groupe \"en haut\" sur le nuage de point est donc celui des députés les plus actifs en séance."
   ],
   "cell_type": "markdown",
   "metadata": {}
  },
  {
   "source": [
    "## Calcul du score d'assiduité\n",
    "\n",
    "Néanmoins, on peut se demander si la seule présence est suffisante pour établir l'assiduité d'un député. C'est pourquoi on cherche désormais à établir un score pour déterminer le degré d'activité d'un député ; celui s'appuie sur une combinaison linéaire des variables d'activité proposés et pas seulement sur le nombre de semaines de présence. En effet, il semble évident que la rédaction d'un rapport, les interventions dans l'hémicycle ou encore les questions posées sont des éléments manifestant une implication importante du député dans l'exercice de sa tâche. La difficulté réside ici dans le fait qu'il faut habilement pondérer le poids des variables, en majorant le poids des activités individuelles au détriment des actions collectives. On crée des variables intermédiaires portant sur les scores de présence, de participation et de proposition. "
   ],
   "cell_type": "markdown",
   "metadata": {}
  },
  {
   "cell_type": "code",
   "execution_count": 38,
   "metadata": {},
   "outputs": [
    {
     "output_type": "execute_result",
     "data": {
      "text/plain": [
       "count    539.000000\n",
       "mean     155.300557\n",
       "std       56.276853\n",
       "min        0.000000\n",
       "25%      115.500000\n",
       "50%      153.000000\n",
       "75%      190.500000\n",
       "max      351.000000\n",
       "Name: score_presence, dtype: float64"
      ]
     },
     "metadata": {},
     "execution_count": 38
    }
   ],
   "source": [
    "df_work['score_presence'] = 3*df_work['semaines_presence'] + 2*df_work['commission_presences']\n",
    "df_work['score_presence'].describe()"
   ]
  },
  {
   "cell_type": "code",
   "execution_count": 39,
   "metadata": {},
   "outputs": [
    {
     "output_type": "execute_result",
     "data": {
      "text/plain": [
       "count      539.000000\n",
       "mean       631.903525\n",
       "std       2101.486936\n",
       "min          6.000000\n",
       "25%         87.000000\n",
       "50%        183.000000\n",
       "75%        442.500000\n",
       "max      22213.000000\n",
       "Name: score_participation, dtype: float64"
      ]
     },
     "metadata": {},
     "execution_count": 39
    }
   ],
   "source": [
    "df_work['score_participation'] = 2*df_work['commission_interventions'] + df_work['hemicycle_interventions'] + 3*df_work['hemicycle_interventions_courtes'] + 3*df_work['questions_ecrites'] + 10*df_work['questions_orales']\n",
    "df_work['score_participation'].describe()"
   ]
  },
  {
   "cell_type": "code",
   "execution_count": 40,
   "metadata": {},
   "outputs": [
    {
     "output_type": "execute_result",
     "data": {
      "text/plain": [
       "count     539.000000\n",
       "mean      694.703154\n",
       "std      1598.578194\n",
       "min         0.000000\n",
       "25%        51.000000\n",
       "50%       162.000000\n",
       "75%       528.000000\n",
       "max      9108.000000\n",
       "Name: score_proposition, dtype: float64"
      ]
     },
     "metadata": {},
     "execution_count": 40
    }
   ],
   "source": [
    "df_work['score_proposition'] = 3*(100*df_work['rapports'] + 100*df_work['propositions_ecrites'] + df_work['amendements_proposes'])\n",
    "df_work['score_proposition'].describe()"
   ]
  },
  {
   "cell_type": "code",
   "execution_count": 41,
   "metadata": {},
   "outputs": [
    {
     "output_type": "execute_result",
     "data": {
      "text/plain": [
       "count      539.000000\n",
       "mean      1481.907236\n",
       "std       2847.519860\n",
       "min         24.000000\n",
       "25%        311.000000\n",
       "50%        568.000000\n",
       "75%       1187.500000\n",
       "max      25687.000000\n",
       "Name: score_assiduite, dtype: float64"
      ]
     },
     "metadata": {},
     "execution_count": 41
    }
   ],
   "source": [
    "df_work['score_assiduite'] = df_work['score_presence'] + df_work['score_participation'] + df_work['score_proposition']\n",
    "df_work['score_assiduite'].describe()"
   ]
  },
  {
   "cell_type": "code",
   "execution_count": 42,
   "metadata": {},
   "outputs": [
    {
     "output_type": "display_data",
     "data": {
      "text/plain": "Canvas(toolbar=Toolbar(toolitems=[('Home', 'Reset original view', 'home', 'home'), ('Back', 'Back to previous …",
      "application/vnd.jupyter.widget-view+json": {
       "version_major": 2,
       "version_minor": 0,
       "model_id": "eb8935d51b354dc8a5971e3d8c0812a3"
      }
     },
     "metadata": {}
    },
    {
     "output_type": "execute_result",
     "data": {
      "text/plain": [
       "Text(0.5, 1.0, \"Boxplot représentant le score d'assiduité des députés\")"
      ]
     },
     "metadata": {},
     "execution_count": 42
    }
   ],
   "source": [
    "plt.figure(figsize=(15,10))\n",
    "sns.set_style(\"whitegrid\")\n",
    "ax = sns.boxplot(x=df_work[\"score_assiduite\"])\n",
    "plt.xlabel(\"Score d'assiduité du député\",size=15)\n",
    "plt.title(\"Boxplot représentant le score d'assiduité des députés\",size=20,fontweight='bold')\n",
    "# Bcp de valeurs extrêmes : quelques députés se démarquent fortement par une activité très élevée, notamment en matière d'interventions dans l'hémicycle"
   ]
  }
 ],
 "metadata": {
  "kernelspec": {
   "name": "Python 3.7.3 64-bit (conda)",
   "display_name": "Python 3.7.3 64-bit (conda)",
   "metadata": {
    "interpreter": {
     "hash": "e960d2c806a8d68a58efdad7b0ee8566ac090b28f106dbcdc27c2d2a5edb04ab"
    }
   }
  },
  "language_info": {
   "codemirror_mode": {
    "name": "ipython",
    "version": 3
   },
   "file_extension": ".py",
   "mimetype": "text/x-python",
   "name": "python",
   "nbconvert_exporter": "python",
   "pygments_lexer": "ipython3",
   "version": "3.7.3-final"
  }
 },
 "nbformat": 4,
 "nbformat_minor": 2
}